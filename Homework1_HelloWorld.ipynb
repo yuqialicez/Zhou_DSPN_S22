{
 "cells": [
  {
   "cell_type": "markdown",
   "id": "30973269",
   "metadata": {},
   "source": [
    "Hello World!"
   ]
  }
 ],
 "metadata": {
  "kernelspec": {
   "display_name": "R",
   "language": "R",
   "name": "ir"
  },
  "language_info": {
   "codemirror_mode": "r",
   "file_extension": ".r",
   "mimetype": "text/x-r-source",
   "name": "R",
   "pygments_lexer": "r",
   "version": "4.0.3"
  }
 },
 "nbformat": 4,
 "nbformat_minor": 5
}
