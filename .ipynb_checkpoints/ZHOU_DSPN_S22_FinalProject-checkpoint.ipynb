{
 "cells": [
  {
   "cell_type": "markdown",
   "id": "ec1585d6",
   "metadata": {},
   "source": [
    "# Exploring Google's Effect on Memory with the Testing Effect "
   ]
  },
  {
   "cell_type": "markdown",
   "id": "54535e39",
   "metadata": {},
   "source": [
    "# Background"
   ]
  },
  {
   "cell_type": "markdown",
   "id": "5e952b2e",
   "metadata": {},
   "source": [
    "Google has risen in its role as an education tool with the pandemic. In 2005, Google was already 45% of students’ first choice of information seeking method (Griffiths & Brophy, 2005), and that percentage is likely to have increased since. This provokes the question of how good is Google as a learning tool and whether it actually has a positive influence on learning. Learning by testing is the current superior learning strategy supported by the testing effect: a widely studied phenomenon wherein testing aids the long-term retention of knowledge (Roediger & Karpicke, 2006). A previously conducted study showed a possible advatange of using Google to learn with better knowledge retenetion after a 2-day delay instead of learning by testing. Thus, this 2nd study was conducted attempting to replicate the Google advantage with a different set of learning material. We aim to answer the question: is there an advantage of using Google to learn compared to learning by testing? \n",
    "\n"
   ]
  },
  {
   "cell_type": "markdown",
   "id": "d5d80475",
   "metadata": {},
   "source": [
    "# Variables"
   ]
  },
  {
   "cell_type": "markdown",
   "id": "4fb69c25",
   "metadata": {},
   "source": [
    "**Independent Variable:** \n",
    " - **Learning Strategy:** (cond) Learning strategy assigned to participants (G: learning with Google (search phrases not provided), GC: learning with Google (search phrases provided), T: learning by testing, R: learning by restudying)\n",
    "\n",
    "**Dependent Variable Measure:** \n",
    "- **Accuracy:** (acc) Final assessment accuracy adjusted for prior knowledge of the learning material, calculated with the formula (final raw score - score for known knowledge) / (10 - number of known knowledge)\n",
    "\n",
    "**Demographic Measures:**\n",
    " - **Sex:** (gender) As reported by participants (options: Male, Female, Non-binary / third gender)\n",
    " - **Race/Ethnicity:** (ethnicity) As reported by participants (options: White, Hispanic or Latino, Black or African American, Native American or American Indian, Asian / Pacific Islander, Other)\n",
    " - **Education:** (edu) As reported by participants (options: No schooling completed, Up Through 8th grade only, Some high school, no diploma, High school graduate, diploma or the equivalent (e.g., GED), Some college credit, no degree, Associate degree, Bachelor's degree, Master's degree, Doctorate degree)\n",
    " \n",
    "**Study Experience Measures:**\n",
    " - **Difficulty Rating of the Final Assessment:** (diff_test) As reported by participants (likert scale 0 [extremely easy] - 10 [extremely difficult])\n",
    " - **Difficulty Rating of the Learning Material:** (diff_material) As reported by participants (likert scale 0 [very easy] - 10 [very difficult])\n",
    " - **Prediction of the Final Assessment Score:** (finalScorePredict) As reported by participants (0-10)\n",
    " - **Prior Knowledge:** (priorKnow) Number of learning material knew before the study as reported by participants (0-10)\n",
    " \n",
    "**General Learning Style Measures:**\n",
    " - **Learning Style:** (LearningStyle) As reported by participants (likert scale 0 [all restudying] - 10 [all self-testing])\n",
    " - **Opinion on Learning by Testing vs. Learning by Restudying:** (opinion_on_testlearning) As reported by participants (likert scale 0 [Much less favorable towards self-testing] - 10 [A lot more favorable towards self-testing])\n",
    " - **Frequency Engaging in Open Book Exams:** (openBookExam) As reported by participants (likert scale 0 [NA] - 10 [Always])\n",
    " \n",
    "**Technology Experience Measures:**\n",
    " - **Estimated Daily Phone Usage:** (phone) As reported by participants (in hours)\n",
    " - **Estimated Daily Tablet Usage:** (tablet) As reported by participants (in hours)\n",
    " - **Estimated Daily Laptop/Computer Usage:** (computer) As reported by participants (in hours)\n",
    " - **Default Search Engine is Google:** (Gdefault) As reported by participants (options: Yes, No)\n",
    " - **Estimated Daily Search Engine Uses:** (times_searchEngine) As reported by participants \n",
    " \n",
    "**Other Measures:**\n",
    " - **Effort for Arithmetic Questions Phase 1:** (pt1A) Number of Completed Arithmetic Questions after Phase 1\n",
    " - **Effort for Arithmetic Questions Phase 2:** (pt2A) Number of Completed Arithmetic Questions after Phase 2"
   ]
  },
  {
   "cell_type": "markdown",
   "id": "209cf6f0",
   "metadata": {},
   "source": [
    "# Hypothesis"
   ]
  },
  {
   "cell_type": "markdown",
   "id": "4d71d5c3",
   "metadata": {},
   "source": [
    "It is hypothesized, given the results of the previous study, that there will be facilitation for memory when participants use Google to learn. We expect learning with Google to have a better learning outcome, as measured by accuracy on the 1-day delayed final assessment, than learning by restudying, however, we are unsure how it will compare to the testing effect.\n"
   ]
  },
  {
   "cell_type": "markdown",
   "id": "7002328f",
   "metadata": {},
   "source": [
    "# Data Plan Organization"
   ]
  },
  {
   "cell_type": "markdown",
   "id": "a3a5425c",
   "metadata": {},
   "source": [
    " - Data Cleansing (Step by step):\n",
    "   - Combine data from Part 1 and Part 2 of the study\n",
    "   - Change column names into intelligble names\n",
    "   - Exclude participants who did not complete the entire study\n",
    "   - Exclude participants who completed Part 2 out of the set delay time\n",
    "   - Exclude participants who did not meet the pre-registered inclusion criteria for analysis\n",
    "       - Exclude those with too much prior knowledge\n",
    "       - Exclude those who did not follow the the instruction for at least 70% of the learning material\n",
    "       - Exclude those who used external aid in completing the final assessment\n",
    "       - Exclude those whose offTask time was an outlier within their respective learning condition\n",
    "   - Calculate the Accuracy and Effort for Arithmetic Questions variables for each participant"
   ]
  },
  {
   "cell_type": "code",
   "execution_count": 2,
   "id": "8784f9df",
   "metadata": {},
   "outputs": [
    {
     "name": "stderr",
     "output_type": "stream",
     "text": [
      "── \u001b[1mAttaching packages\u001b[22m ─────────────────────────────────────── tidyverse 1.3.1 ──\n",
      "\n",
      "\u001b[32m✔\u001b[39m \u001b[34mggplot2\u001b[39m 3.3.5     \u001b[32m✔\u001b[39m \u001b[34mpurrr  \u001b[39m 0.3.4\n",
      "\u001b[32m✔\u001b[39m \u001b[34mtibble \u001b[39m 3.1.6     \u001b[32m✔\u001b[39m \u001b[34mdplyr  \u001b[39m 1.0.8\n",
      "\u001b[32m✔\u001b[39m \u001b[34mtidyr  \u001b[39m 1.2.0     \u001b[32m✔\u001b[39m \u001b[34mstringr\u001b[39m 1.4.0\n",
      "\u001b[32m✔\u001b[39m \u001b[34mreadr  \u001b[39m 2.1.2     \u001b[32m✔\u001b[39m \u001b[34mforcats\u001b[39m 0.5.1\n",
      "\n",
      "── \u001b[1mConflicts\u001b[22m ────────────────────────────────────────── tidyverse_conflicts() ──\n",
      "\u001b[31m✖\u001b[39m \u001b[34mdplyr\u001b[39m::\u001b[32mfilter()\u001b[39m masks \u001b[34mstats\u001b[39m::filter()\n",
      "\u001b[31m✖\u001b[39m \u001b[34mdplyr\u001b[39m::\u001b[32mlag()\u001b[39m    masks \u001b[34mstats\u001b[39m::lag()\n",
      "\n"
     ]
    }
   ],
   "source": [
    "setwd(\"/Users/yuqizhou/Downloads\")\n",
    "\n",
    "#function ct.letters for checking final assessment answers\n",
    "#code adapted from https://www.geeksforgeeks.org/count-common-characters-in-two-strings/\n",
    "ct.letters <- function(s1, s2){\n",
    "  \n",
    "  #Find length of each string\n",
    "  n1 = nchar(s1)\n",
    "  # print(paste(\"n1:\",n1))\n",
    "  n2 = nchar(s2)\n",
    "  # print(paste(\"n2:\",n2))\n",
    "  \n",
    "  #To store the frequencies of characters of string s1 and s2\n",
    "  freq1 = rep(0,26)\n",
    "  freq2 = rep(0,26)\n",
    "  \n",
    "  #To store the count of valid pairs\n",
    "  count = 0\n",
    "  \n",
    "  #Update the frequencies of the characters of string s1\n",
    "  for (i in 1:n1){\n",
    "    freq1[utf8ToInt(substring(s1,i,i)) - utf8ToInt(\"a\")+1] = freq1[utf8ToInt(substring(s1,i,i)) - utf8ToInt(\"a\")+1] + 1\n",
    "  }\n",
    "  #Update the frequencies of the characters of string s2\n",
    "  for (i in 1:n2){\n",
    "    freq2[utf8ToInt(substring(s2,i,i)) - utf8ToInt(\"a\")+1] = freq2[utf8ToInt(substring(s2,i,i)) - utf8ToInt(\"a\")+1] + 1\n",
    "  }\n",
    "  \n",
    "  # Find the count of valid pairs\n",
    "  for (i in 1:26){\n",
    "    count = count + (min(freq1[i], freq2[i]));\n",
    "  }\n",
    "  \n",
    "  return(count)\n",
    "}\n",
    "\n",
    "#function findOutWorkerId for creating a vector of workerId that needs to be excluded\n",
    "findOutWorkerId <- function(id.out){\n",
    "  vec = c()\n",
    "  for (i in id.out) {\n",
    "    vec = append(i, vec)\n",
    "  }\n",
    "  return(vec)\n",
    "}\n",
    "\n",
    "library(tidyverse)\n"
   ]
  },
  {
   "cell_type": "markdown",
   "id": "01bace22",
   "metadata": {},
   "source": [
    "**Combine data from Part 1 and Part 2 of the Study & Exclude participants who did not complete the entire study**"
   ]
  },
  {
   "cell_type": "code",
   "execution_count": 3,
   "id": "a66471ee",
   "metadata": {},
   "outputs": [],
   "source": [
    "p1 = read.csv(\"Thesis+Project+II+v6.1_April+19,+2022_15.25.csv\")\n",
    "wid1 = p1$workerId[21:length(p1$workerId)]\n",
    "t1 = p1$EndDate[21:length(p1$EndDate)]\n",
    "\n",
    "p2 = read.csv(\"Part+2+Honors+Thesis+II+v6.1_April+19,+2022_15.14.csv\")\n",
    "wid2 = p2$Q27[16:length(p2$Q27)]\n",
    "t2 = p2$EndDate[16:length(p2$EndDate)]\n",
    "\n",
    "completed = intersect(wid1,wid2)\n",
    "\n",
    "pt1 <- p1 %>% filter(workerId %in% completed) %>% select(\"EndDate\",\"Q20\",\"Q22\",\"Q23\",\"Q24\",\n",
    "                                                       \"Q229\", \"Q228\",\t\"Q235\",\t\"Q234\",\t\"Q232\",\t\"Q233\",\t\"Q230\",\t\"Q231\",\t\"Q236\",\t\"Q237\",\t\"Q238\",\t\"Q239\",\t\"Q240\",\t\"Q241\",\t\"Q242\",\t\"Q243\",\t\"Q244\",\t\"Q245\",\t\"Q246\",\t\"Q247\",\t\"Q273\",\t\"Q274\",\t\"Q280\",\t\"Q275\",\n",
    "                                                       \"Q28\",\t\"Q30_1\",\t\"Q32\",\t\"Q33\",\t\"Q281\",\t\"Q34_1\",\t\n",
    "                                                       \"Q252\",\t\"Q253\",\t\"Q254\",\t\"Q255\",\t\"Q256\",\t\"Q257\",\t\"Q258\",\t\"Q259\",\t\"Q260\",\t\"Q261\",\t\"Q262\",\t\"Q263\",\t\"Q264\",\t\"Q265\",\t\"Q266\",\t\"Q267\",\t\"Q268\",\t\"Q269\",\t\"Q270\",\t\"Q271\",\t\"Q272\",\t\"Q773\",\t\"Q774\",\t\"Q775\",\n",
    "                                                       \"Q503\",\t\"Q503\",\t\"Q504\",\t\"Q505\",\"workerId\",\"phase2.condition\",\"totalOffTask\")\n",
    "pt2 <- p2 %>% select(\"StartDate\", \"Q5_3\",\t\"Q5_7\",\t\"Q5_8\",\t\"Q5_9\",\t\"Q5_10\",\t\"Q5_12\",\t\"Q5_13\",\t\"Q5_14\",\t\"Q5_15\",\t\"Q5_19\", \n",
    "                     \"Q6_1\",\t\"Q30\", \"Q30_1\",\t\"Q8_1\",\t\"Q10_1\",\t\"Q13_1\",\t\"Q14\",\t\"Q14_1_TEXT\",\t\"Q15\",\t\"Q19_1\",\t\"Q19_2\",\t\"Q19_3\",\t\"Q26\",\t\"Q28\",\t\"Q28_2_TEXT\",\t\"Q20\",\t\"Q27\")\n",
    "clean.df <- pt1 %>% left_join(pt2, by=c(\"workerId\" = \"Q27\"))"
   ]
  },
  {
   "cell_type": "markdown",
   "id": "a7e7156e",
   "metadata": {},
   "source": [
    "**Change column names into intelligble names**"
   ]
  },
  {
   "cell_type": "code",
   "execution_count": 4,
   "id": "15cf3968",
   "metadata": {},
   "outputs": [],
   "source": [
    "colnames(clean.df) <- c(\"pt1Time\",\t\"gender\",\t\"ethnicity\",\t\"edu\",\t\"major\",\n",
    "                        \"pt1_m1\",\t\"pt1_m2\",\t\"pt1_m3\",\t\"pt1_m4\",\t\"pt1_m5\",\t\"pt1_m6\",\t\"pt1_m7\",\t\"pt1_m8\",\t\"pt1_m9\",\t\"pt1_m10\",\t\"pt1_m11\",\t\"pt1_m12\",\t\"pt1_m13\",\t\"pt1_m14\",\t\"pt1_m15\",\t\"pt1_m16\",\t\"pt1_m17\",\t\"pt1_m18\",\t\"pt1_m19\",\t\"pt1_m20\",\t\"pt1_m21\",\t\"pt1_m22\",\t\"pt1_m23\",\t\"pt1_m24\",\n",
    "                        \"priorKnow\",\t\"diff_material\",\t\"GCLookup\",\t\"GCother\",\t\"GCsidebyside\",\t\"finalScorePredict\",\n",
    "                        \"pt2_m1\",\t\"pt2_m2\",\t\"pt2_m3\",\t\"pt2_m4\",\t\"pt2_m5\",\t\"pt2_m6\",\t\"pt2_m7\",\t\"pt2_m8\",\t\"pt2_m9\",\t\"pt2_m10\",\t\"pt2_m11\",\t\"pt2_m12\",\t\"pt2_m13\",\t\"pt2_m14\",\t\"pt2_m15\",\t\"pt2_m16\",\t\"pt2_m17\",\t\"pt2_m18\",\t\"pt2_m19\",\t\"pt2_m20\",\t\"pt2_m21\",\t\"pt2_m22\",\t\"pt2_m23\",\t\"pt2_m24\",\n",
    "                        \"GLookup\",\t\"Gother\",\t\"Gsidebyside\",\t\"workerId\",\t\"cond\",\t\"totalOffTask\",\n",
    "                        \"pt2Time\",\t\"a1\",\t\"a2\",\t\"a3\",\t\"a4\",\t\"a5\",\t\"a6\",\t\"a7\",\t\"a8\",\t\"a9\",\t\"a10\",\t\n",
    "                        \"diff_test\",\t\"known\",\"known_coded\",\t\"LearningStyle\",\t\"opinion_on_testlearning\",\t\"openBookExam\",\t\n",
    "                        \"Gdefault\",\t\"searchEngine\",\t\"times_searchEngine\",\"phone\",\t\"computer\",\t\"tablet\",\t\"externalAid\",\t\"studyDuringDelay\",\t\"studyDuringDelay_explain\",\t\"comments\")\n",
    "\n"
   ]
  },
  {
   "cell_type": "markdown",
   "id": "9e5bb490",
   "metadata": {},
   "source": [
    "**Exclude those who completed Part 2 out of the set delay time**"
   ]
  },
  {
   "cell_type": "code",
   "execution_count": 5,
   "id": "42a0031c",
   "metadata": {},
   "outputs": [],
   "source": [
    "clean.df %>% select(\"workerId\",\"pt1Time\",\"pt2Time\") %>% write.csv(\"timeCheckFinal.csv\")\n",
    "outOfTime = c(\"A1U8VXESVQPZFJ\",\"AZXBVNZF65D8K\",\"A207MWA5U0GWA5\",\"A3Z014JO91RTM\",\"AIEGKVQ47B3FQ\",\"A1AAF0T0XWYZ94\",\"ARQ7R97434PM2\",\"A2M6585G92WX9A\",\"A1XDYW4D4B610Z\",\"AFVY38VJYS1ET\",\"AEH29A6H16ANF\",\"A351P2O6QGTCS\")\n",
    "clean.df = clean.df %>% filter(!(workerId %in% outOfTime))\n"
   ]
  },
  {
   "cell_type": "markdown",
   "id": "3296c727",
   "metadata": {},
   "source": [
    "**Scoring the final assessment**"
   ]
  },
  {
   "cell_type": "code",
   "execution_count": 6,
   "id": "c1b3a139",
   "metadata": {},
   "outputs": [],
   "source": [
    "clean.df = clean.df %>% mutate(a1=tolower(a1),\n",
    "                               a2=tolower(a2),\n",
    "                               a3=tolower(a3),\n",
    "                               a4=tolower(a4),\n",
    "                               a5=tolower(a5),\n",
    "                               a6=tolower(a6),\n",
    "                               a7=tolower(a7),\n",
    "                               a8=tolower(a8),\n",
    "                               a9=tolower(a9),\t\n",
    "                               a10=tolower(a10)) \n",
    "\n",
    "answers = c(clean.df$a1,clean.df$a2,clean.df$a3,clean.df$a4,clean.df$a5,clean.df$a6,clean.df$a7,clean.df$a8,clean.df$a9,clean.df$a10)\n",
    "materials = c(\"studebaker\",\t\"bernoulli’s\",\t\"camelopard\",\t\"contrapposto\",\t\"gymnosperms\",\t\"thalassemia\",\t\"gum\",\t\"hovercraft\",\t\"ellipsoidal\",\t\"eukaryotes\")\n",
    "correctCharNum = nchar(materials)\n",
    "lt.counts = c(clean.df$a1.c,clean.df$a2.c,clean.df$a3.c,clean.df$a4.c,clean.df$a5.c,clean.df$a6.c,clean.df$a7.c,clean.df$a8.c,clean.df$a9.c,clean.df$a10.c)\n",
    "\n",
    "n = length(clean.df$workerId)\n",
    "\n",
    "#checking how many of the participants' answers' letters match the materials' letters\n",
    "for (j in 1:10){\n",
    "  for (i in 1:n){\n",
    "    lt.counts[n*(j-1)+i] = ct.letters(answers[n*(j-1)+i],materials[j])\n",
    "  }\n",
    "}\n",
    "clean.df = clean.df %>% mutate(a1.c=0,\n",
    "                               a2.c=0,\n",
    "                               a3.c=0,\n",
    "                               a4.c=0,\n",
    "                               a5.c=0,\n",
    "                               a6.c=0,\n",
    "                               a7.c=0,\n",
    "                               a8.c=0,\n",
    "                               a9.c=0,\t\n",
    "                               a10.c=0)\n",
    "\n",
    "clean.df = clean.df %>% mutate(a1.c=lt.counts[1:n],\n",
    "                               a2.c=lt.counts[(n+1):(2*n)],\n",
    "                               a3.c=lt.counts[(2*n+1):(3*n)],\n",
    "                               a4.c=lt.counts[(3*n+1):(4*n)],\n",
    "                               a5.c=lt.counts[(4*n+1):(5*n)],\n",
    "                               a6.c=lt.counts[(5*n+1):(6*n)],\n",
    "                               a7.c=lt.counts[(6*n+1):(7*n)],\n",
    "                               a8.c=lt.counts[(7*n+1):(8*n)],\n",
    "                               a9.c=lt.counts[(8*n+1):(9*n)],\t\n",
    "                               a10.c=lt.counts[(9*n+1):(10*n)])\n",
    "\n",
    "clean.df = clean.df %>% mutate(a1.rs = ifelse(a1.c==correctCharNum[1],1,ifelse(a1.c>correctCharNum[1]/2, 0.5, 0))) %>% \n",
    "  mutate(a2.rs = ifelse(a2.c==correctCharNum[2],1,ifelse(a2.c>correctCharNum[2]/2, 0.5, 0))) %>% \n",
    "  mutate(a3.rs = ifelse(a3.c==correctCharNum[3],1,ifelse(a3.c>correctCharNum[3]/2, 0.5, 0))) %>% \n",
    "  mutate(a4.rs = ifelse(a4.c==correctCharNum[4],1,ifelse(a4.c>correctCharNum[4]/2, 0.5, 0))) %>%\n",
    "  mutate(a5.rs = ifelse(a5.c==correctCharNum[5],1,ifelse(a5.c>correctCharNum[5]/2, 0.5, 0))) %>% \n",
    "  mutate(a6.rs = ifelse(a6.c==correctCharNum[6],1,ifelse(a6.c>correctCharNum[6]/2, 0.5, 0))) %>% \n",
    "  mutate(a7.rs = ifelse(a7.c==correctCharNum[7],1,ifelse(a2.c>correctCharNum[7]/2, 0.5, 0))) %>% \n",
    "  mutate(a8.rs = ifelse(a8.c==correctCharNum[8],1,ifelse(a2.c>correctCharNum[8]/2, 0.5, 0))) %>% \n",
    "  mutate(a9.rs = ifelse(a9.c==correctCharNum[9],1,ifelse(a2.c>correctCharNum[9]/2, 0.5, 0))) %>% \n",
    "  mutate(a10.rs = ifelse(a10.c==correctCharNum[10],1,ifelse(a10.c>correctCharNum[10]/2, 0.5, 0)))\n",
    "\n",
    "clean.df = clean.df %>% mutate(raw.fscore = a1.rs+a2.rs+a3.rs+a4.rs+a5.rs+a6.rs+a7.rs+a8.rs+a9.rs+a10.rs) \n",
    "\n"
   ]
  },
  {
   "cell_type": "markdown",
   "id": "40321b37",
   "metadata": {},
   "source": [
    "**Exclude participants with too much prior knowledge**"
   ]
  },
  {
   "cell_type": "code",
   "execution_count": 7,
   "id": "ded4c98c",
   "metadata": {},
   "outputs": [
    {
     "data": {
      "image/png": "[encoded data removed]",
      "text/plain": [
       "plot without title"
      ]
     },
     "metadata": {
      "image/png": {
       "height": 420,
       "width": 420
      }
     },
     "output_type": "display_data"
    }
   ],
   "source": [
    "#Exclude those with too much prior knowledge\n",
    "#Known coding\n",
    "#\"eukaryotes\"   6 \n",
    "#\"studebaker\"   10 \n",
    "#\"GUM\"          15 \n",
    "#\"gymnosperms\"  7  \n",
    "# \"thalassemia\" 18\n",
    "#\"contrapposto\" 20 \n",
    "#\"camelopard\"   22 \n",
    "# \"bernoulli’s\" 9   \n",
    "# \"hovercraft\"  21 \n",
    "# \"ellipsoidal\" 23 \n",
    "\n",
    "#\"studebaker\",\t\"bernoulli’s\",\t\"camelopard\",\t\"contrapposto\",\t\"gymnosperms\",\t\"thalassemia\",\t\"GUM\",\t\"hovercraft\",\t\"ellipsoidal\",\t\"eukaryotes\"\n",
    "\n",
    "known.coding = c(10,9,22,20,7,18,15,21,23,6)\n",
    "\n",
    "clean.df = clean.df %>% mutate(a1.o=0,\n",
    "                               a2.o=0,\n",
    "                               a3.o=0,\n",
    "                               a4.o=0,\n",
    "                               a5.o=0,\n",
    "                               a6.o=0,\n",
    "                               a7.o=0,\n",
    "                               a8.o=0,\n",
    "                               a9.o=0,\t\n",
    "                               a10.o=0)\n",
    "\n",
    "out.indicators = c(clean.df$a1.o,clean.df$a2.o,clean.df$a3.o,clean.df$a4.o,clean.df$a5.o,clean.df$a6.o,clean.df$a7.o,clean.df$a8.o,clean.df$a9.o,clean.df$a10.o)\n",
    "knowTooMuch = c()\n",
    "\n",
    "for(i in 1:length(clean.df$known_coded)){ \n",
    "  knownOnes = as.numeric(unlist(str_split(clean.df$known_coded[i], \",\")))\n",
    "  out.index = which(known.coding %in% knownOnes )\n",
    "  if(length(out.index)>4) {\n",
    "    knowTooMuch = append(knowTooMuch, clean.df$workerId[i])\n",
    "  }\n",
    "  for (j in out.index){\n",
    "    out.indicators[(j-1)*n+i] = 1\n",
    "  }\n",
    "}\n",
    "\n",
    "clean.df = clean.df %>% mutate(a1.o=out.indicators[1:n],\n",
    "                               a2.o=out.indicators[(n+1):(2*n)],\n",
    "                               a3.o=out.indicators[(2*n+1):(3*n)],\n",
    "                               a4.o=out.indicators[(3*n+1):(4*n)],\n",
    "                               a5.o=out.indicators[(4*n+1):(5*n)],\n",
    "                               a6.o=out.indicators[(5*n+1):(6*n)],\n",
    "                               a7.o=out.indicators[(6*n+1):(7*n)],\n",
    "                               a8.o=out.indicators[(7*n+1):(8*n)],\n",
    "                               a9.o=out.indicators[(8*n+1):(9*n)],\t\n",
    "                               a10.o=out.indicators[(9*n+1):(10*n)])\n",
    "\n",
    "clean.df = clean.df %>% mutate(a1.s = ifelse(a1.o==1,0,a1.rs)) %>% \n",
    "  mutate(a2.s = ifelse(a2.o>0, 0 ,a2.rs)) %>% \n",
    "  mutate(a3.s = ifelse(a3.o>0, 0 ,a3.rs)) %>% \n",
    "  mutate(a4.s = ifelse(a4.o>0, 0 ,a4.rs)) %>%\n",
    "  mutate(a5.s = ifelse(a5.o>0, 0 ,a5.rs)) %>% \n",
    "  mutate(a6.s = ifelse(a6.o>0, 0 ,a6.rs)) %>% \n",
    "  mutate(a7.s = ifelse(a7.o>0, 0 ,a7.rs)) %>% \n",
    "  mutate(a8.s = ifelse(a8.o>0, 0 ,a8.rs)) %>% \n",
    "  mutate(a9.s = ifelse(a9.o>0, 0 ,a9.rs)) %>% \n",
    "  mutate(a10.s = ifelse(a10.o>0, 0 ,a10.rs))\n",
    "\n",
    "\"@\" <- function(x,y) ifelse(y==0,0,base:::\"/\"(x,y))\n",
    "\"/\" <- function(x,y) base:::\"/\"(x,y)\n",
    "\n",
    "\n",
    "clean.df = clean.df %>% mutate(fscore = a1.s+a2.s+a3.s+a4.s+a5.s+a6.s+a7.s+a8.s+a9.s+a10.s, \n",
    "                               adjustedTotal = 10-(a1.o+a2.o+a3.o+a4.o+a5.o+a6.o+a7.o+a8.o+a9.o+a10.o),\n",
    "                               priorTotal = a1.o+a2.o+a3.o+a4.o+a5.o+a6.o+a7.o+a8.o+a9.o+a10.o,\n",
    "                               acc = fscore@adjustedTotal) \n",
    "clean.df %>% ggplot(aes(x=priorTotal, fill=cond)) + geom_boxplot() + ggtitle(\"Boxplot for Prior Knowledge by Learning Strategy Conditions\")\n",
    "\n",
    "\n",
    "clean.df = clean.df %>% filter(!(workerId %in% knowTooMuch))\n",
    "#length(knowTooMuch) #14\n",
    "\n"
   ]
  },
  {
   "cell_type": "markdown",
   "id": "f543a515",
   "metadata": {},
   "source": [
    "**Exclude participants who did not follow the the instruction for at least 70% of the learning material** "
   ]
  },
  {
   "cell_type": "code",
   "execution_count": 8,
   "id": "4987b40f",
   "metadata": {},
   "outputs": [],
   "source": [
    "#exclude G/GC participants whose answer are not >7\n",
    "notEnoughLookupG = c()\n",
    "notEnoughLookupGC = c()\n",
    "\n",
    "Gcond = clean.df %>% filter(cond == \"G\")\n",
    "GCcond = clean.df %>% filter(cond == \"GC\") \n",
    "G.out = Gcond %>%filter(as.numeric(GLookup) <= 7) %>% select(workerId)\n",
    "GC.out = GCcond %>% filter(as.numeric(GCLookup) <= 7) %>% select(workerId)\n",
    "for (i in G.out) {\n",
    "  notEnoughLookupG = append(i, notEnoughLookupG)\n",
    "}\n",
    "\n",
    "for (i in GC.out) {\n",
    "  notEnoughLookupGC = append(i, notEnoughLookupGC)\n",
    "}\n",
    "\n",
    "clean.df = clean.df %>% filter(!(workerId %in% notEnoughLookupG)) %>% filter(!(workerId %in% notEnoughLookupGC))\n",
    "#length(notEnoughLookupG) #11\n",
    "#length(notEnoughLookupGC) #10\n",
    "\n"
   ]
  },
  {
   "cell_type": "markdown",
   "id": "40ae96ef",
   "metadata": {},
   "source": [
    "**Exclude participants who used external aid in completing the final assessment**"
   ]
  },
  {
   "cell_type": "code",
   "execution_count": 9,
   "id": "bbb39a16",
   "metadata": {},
   "outputs": [],
   "source": [
    "#exclude used external aid\n",
    "aided = c()\n",
    "aid.out = clean.df %>% filter(externalAid == \"Yes\") %>% select(workerId)\n",
    "for (i in aid.out) {\n",
    "  aided = append(i, aided)\n",
    "}\n",
    "clean.df = clean.df %>% filter(!(workerId %in% aided))\n",
    "#length(aided) #1\n",
    "\n"
   ]
  },
  {
   "cell_type": "markdown",
   "id": "2df0e220",
   "metadata": {},
   "source": [
    "**Exclude participants whose offTask time was an outlier within their respective learning condition**"
   ]
  },
  {
   "cell_type": "code",
   "execution_count": null,
   "id": "1d9fb462",
   "metadata": {},
   "outputs": [
    {
     "name": "stderr",
     "output_type": "stream",
     "text": [
      "Warning message in mask$eval_all_mutate(quo):\n",
      "“NAs introduced by coercion”\n",
      "Warning message in mask$eval_all_mutate(quo):\n",
      "“NAs introduced by coercion”\n",
      "Warning message in mask$eval_all_mutate(quo):\n",
      "“NAs introduced by coercion”\n",
      "Warning message in mask$eval_all_mutate(quo):\n",
      "“NAs introduced by coercion”\n",
      "Warning message in mask$eval_all_mutate(quo):\n",
      "“NAs introduced by coercion”\n",
      "Warning message in mask$eval_all_mutate(quo):\n",
      "“NAs introduced by coercion”\n",
      "Warning message in mask$eval_all_mutate(quo):\n",
      "“NAs introduced by coercion”\n",
      "Warning message in mask$eval_all_mutate(quo):\n",
      "“NAs introduced by coercion”\n",
      "Warning message in mask$eval_all_mutate(quo):\n",
      "“NAs introduced by coercion”\n"
     ]
    },
    {
     "data": {
      "image/png": "[encoded data removed]",
      "text/plain": [
       "plot without title"
      ]
     },
     "metadata": {
      "image/png": {
       "height": 420,
       "width": 420
      }
     },
     "output_type": "display_data"
    }
   ],
   "source": [
    "#exclude outlier offTask time\n",
    "ggplot(clean.df, aes(x=as.numeric(totalOffTask), fill = cond)) + geom_boxplot() + ggtitle(\"Boxplot for TotalOffTask Time by Learning Strategy Conditions\")\n",
    "Gcond = clean.df %>% filter(cond == \"G\")\n",
    "GCcond = clean.df %>% filter(cond == \"GC\")\n",
    "Tcond = clean.df %>% filter(cond == \"test\")\n",
    "Rcond = clean.df %>% filter(cond == \"restudy\")\n",
    "\n",
    "GoffTask.out = boxplot.stats(as.numeric(Gcond$totalOffTask))$out\n",
    "GCoffTask.out = boxplot.stats(as.numeric(GCcond$totalOffTask))$out\n",
    "ToffTask.out = boxplot.stats(as.numeric(Tcond$totalOffTask))$out\n",
    "RoffTask.out = boxplot.stats(as.numeric(Rcond$totalOffTask))$out\n",
    "\n",
    "off.g = Gcond %>% filter(as.numeric(totalOffTask) %in% GoffTask.out) %>% select(workerId)\n",
    "off.gc = GCcond %>% filter(as.numeric(totalOffTask) %in% GCoffTask.out) %>% select(workerId)\n",
    "off.t = Tcond %>% filter(as.numeric(totalOffTask) %in% ToffTask.out) %>% select(workerId)\n",
    "off.r = Rcond %>% filter(as.numeric(totalOffTask) %in% RoffTask.out) %>% select(workerId)\n",
    "\n",
    "outliers = findOutWorkerId(off.g)\n",
    "#length(outliers) #3\n",
    "outliers = append(outliers, findOutWorkerId(off.gc))\n",
    "#length(outliers) #3\n",
    "outliers = append(outliers, findOutWorkerId(off.t))\n",
    "#length(outliers) #3\n",
    "outliers = append(outliers, findOutWorkerId(off.r))\n",
    "#length(outliers) #5\n",
    "\n",
    "clean.df = clean.df %>% filter(!(workerId %in% outliers)) %>% \n",
    "  mutate_at(c(\"finalScorePredict\",\"diff_material\", \"times_searchEngine\",\n",
    "              \"opinion_on_testlearning\",\"diff_test\",\"priorKnow\",\n",
    "              \"phone\", \"computer\", \"tablet\", \n",
    "              \"LearningStyle\",\"openBookExam\",\n",
    "              \"pt2_m1\",\t\"pt2_m2\",\t\"pt2_m3\",\t\"pt2_m4\",\t\"pt2_m5\",\t\"pt2_m6\",\t\"pt2_m7\",\t\"pt2_m8\",\t\"pt2_m9\",\t\"pt2_m10\",\t\"pt2_m11\",\t\"pt2_m12\",\t\"pt2_m13\",\t\"pt2_m14\",\t\"pt2_m15\",\t\"pt2_m16\",\t\"pt2_m17\",\t\"pt2_m18\",\t\"pt2_m19\",\t\"pt2_m20\",\t\"pt2_m21\",\t\"pt2_m22\",\t\"pt2_m23\",\t\"pt2_m24\",\n",
    "              \"pt1_m1\",\t\"pt1_m2\",\t\"pt1_m3\",\t\"pt1_m4\",\t\"pt1_m5\",\t\"pt1_m6\",\t\"pt1_m7\",\t\"pt1_m8\",\t\"pt1_m9\",\t\"pt1_m10\",\t\"pt1_m11\",\t\"pt1_m12\",\t\"pt1_m13\",\t\"pt1_m14\",\t\"pt1_m15\",\t\"pt1_m16\",\t\"pt1_m17\",\t\"pt1_m18\",\t\"pt1_m19\",\t\"pt1_m20\",\t\"pt1_m21\",\t\"pt1_m22\",\t\"pt1_m23\",\t\"pt1_m24\"),\n",
    "            as.numeric)\n",
    "\n",
    "clean.df$times_searchEngine[is.na(clean.df$times_searchEngine)] <- 7.5\n",
    "#length(outliers) #14\n",
    "\n",
    "#var adjustments\n",
    "eduSeparated = model.matrix( ~ edu - 1, data=clean.df)\n",
    "colnames(eduSeparated) <- c(\"Associate\",\"Bachelor\",\"Doctorate\",\"HS\",\"Master\",\"someCollege\")\n",
    "ethnicitySeparated = model.matrix( ~ ethnicity - 1, data=clean.df)\n",
    "colnames(ethnicitySeparated) <- c(\"AAPI\",\"Black\",\"Hispanic\",\"Other\",\"White\")\n",
    "condSeparated = model.matrix( ~ cond - 1, data=clean.df)\n",
    "colnames(condSeparated) <- c(\"G\",\"GC\",\"R\",\"T\")\n",
    "clean.df = cbind(clean.df,condSeparated,eduSeparated,ethnicitySeparated)\n",
    "#add var for sum of math questions answered for each part\n",
    "clean.df = mutate(clean.df, pt1A = rowSums(!is.na(select(clean.df, c(\"pt1_m1\",\t\"pt1_m2\",\t\"pt1_m3\",\t\"pt1_m4\",\t\"pt1_m5\",\t\"pt1_m6\",\t\"pt1_m7\",\t\"pt1_m8\",\t\"pt1_m9\",\t\"pt1_m10\",\t\"pt1_m11\",\t\"pt1_m12\",\t\"pt1_m13\",\t\"pt1_m14\",\t\"pt1_m15\",\t\"pt1_m16\",\t\"pt1_m17\",\t\"pt1_m18\",\t\"pt1_m19\",\t\"pt1_m20\",\t\"pt1_m21\",\t\"pt1_m22\",\t\"pt1_m23\",\t\"pt1_m24\")))))\n",
    "clean.df = mutate(clean.df, pt2A = rowSums(!is.na(select(clean.df, c(\"pt2_m1\",\t\"pt2_m2\",\t\"pt2_m3\",\t\"pt2_m4\",\t\"pt2_m5\",\t\"pt2_m6\",\t\"pt2_m7\",\t\"pt2_m8\",\t\"pt2_m9\",\t\"pt2_m10\",\t\"pt2_m11\",\t\"pt2_m12\",\t\"pt2_m13\",\t\"pt2_m14\",\t\"pt2_m15\",\t\"pt2_m16\",\t\"pt2_m17\",\t\"pt2_m18\",\t\"pt2_m19\",\t\"pt2_m20\",\t\"pt2_m21\",\t\"pt2_m22\",\t\"pt2_m23\",\t\"pt2_m24\")))))\n",
    "\n",
    "write.csv(clean.df, \"cleanreadyforA.csv\")"
   ]
  },
  {
   "cell_type": "markdown",
   "id": "f5107b38",
   "metadata": {},
   "source": [
    "### Final Data Table Going into Analysis"
   ]
  },
  {
   "cell_type": "code",
   "execution_count": null,
   "id": "bc972192",
   "metadata": {},
   "outputs": [],
   "source": [
    "head(clean.df)"
   ]
  },
  {
   "cell_type": "markdown",
   "id": "bf458d65",
   "metadata": {},
   "source": [
    "### Statistical Analyses:\n",
    "  - T-tests\n",
    "  - Correlation Matrices \n",
    "  - Linear Model\n",
    "  - Cross-Validation Analysis\n",
    "  - Permutation Tests\n",
    "  - Bootstrapping\n",
    "  - Bayes Factor Analysis"
   ]
  },
  {
   "cell_type": "markdown",
   "id": "77a51932",
   "metadata": {},
   "source": [
    "# Analysis"
   ]
  },
  {
   "cell_type": "markdown",
   "id": "c95f186a",
   "metadata": {},
   "source": [
    "### T-tests"
   ]
  },
  {
   "cell_type": "markdown",
   "id": "62e163b4",
   "metadata": {},
   "source": [
    "**Visualizations**"
   ]
  },
  {
   "cell_type": "code",
   "execution_count": null,
   "id": "e1ed7d06",
   "metadata": {},
   "outputs": [],
   "source": [
    "Gcond = clean.df %>% filter(cond == \"G\")\n",
    "GCcond = clean.df %>% filter(cond == \"GC\")\n",
    "Tcond = clean.df %>% filter(cond == \"test\")\n",
    "Rcond = clean.df %>% filter(cond == \"restudy\")\n",
    "\n",
    "ggplot(clean.df, aes(x=acc, fill = cond)) + geom_boxplot()+ggtitle(\"Boxplot for Final Assessment Accuracy by Testing Strategy Condition\")\n",
    "ggplot(clean.df, aes(x=cond, y=acc, fill = cond)) + geom_violin()+ggtitle(\"Violin Plot for Final Assessment Accuracy by Testing Strategy Condition\")"
   ]
  },
  {
   "cell_type": "markdown",
   "id": "9774671a",
   "metadata": {},
   "source": [
    "**T-test assumption checks**"
   ]
  },
  {
   "cell_type": "code",
   "execution_count": null,
   "id": "a3f4cd92",
   "metadata": {},
   "outputs": [],
   "source": [
    "library(rstatix)\n",
    "#clean.df %>% group_by(cond) %>% identify_outliers(acc) #no outliers\n",
    "clean.df %>% group_by(cond) %>% shapiro_test(acc)\n",
    "clean.df %>% levene_test(acc ~ cond)"
   ]
  },
  {
   "cell_type": "code",
   "execution_count": null,
   "id": "1861649f",
   "metadata": {},
   "outputs": [],
   "source": [
    "t.test(Gcond$acc,GCcond$acc, var.equal = TRUE)\n",
    "t.test(Gcond$acc,Tcond$acc, var.equal = TRUE)\n",
    "t.test(Gcond$acc,Rcond$acc, var.equal = TRUE)\n",
    "t.test(GCcond$acc,Tcond$acc, var.equal = TRUE)\n",
    "t.test(GCcond$acc,Rcond$acc, var.equal = TRUE)\n",
    "t.test(Tcond$acc,Rcond$acc, var.equal = TRUE)"
   ]
  },
  {
   "cell_type": "markdown",
   "id": "bd2ca267",
   "metadata": {},
   "source": [
    "The check of equal variance assumption using Levene’s Homogeneity of Variances Test was met (F(3,99) = 0.333, p = 0.801). The test of normality with Shapiro-Wilk also passed. Overall,\n",
    "Participants who were tested in phase 2 had the best accuracy (M = 0.487, SD = 0.239), followed by those who restudied (M = 0.441, SD = 0.236) then those who were in the Google (M = 0.437, SD = 0.264) and GC condition (M = 0.437, SD = 0.278). None of the learning conditions differed significantly from each other. This result does not provide support to the hypothesis that learning with Google gives the best retention after the delay."
   ]
  },
  {
   "cell_type": "markdown",
   "id": "579ba0ea",
   "metadata": {},
   "source": [
    "**Exploration Analyses by Collapsing the Learning Strategy Conditions**"
   ]
  },
  {
   "cell_type": "code",
   "execution_count": null,
   "id": "94ebf50f",
   "metadata": {},
   "outputs": [],
   "source": [
    "# collapse Google\n",
    "Googlecond = clean.df %>% filter(cond == \"G\" | cond == \"GC\")\n",
    "\n",
    "t.test(Googlecond$acc,Rcond$acc)\n",
    "t.test(Tcond$acc,Googlecond$acc)\n",
    "sd(Googlecond$acc)\n",
    "sd(Rcond$acc)\n",
    "sd(Tcond$acc)\n",
    "\n",
    "#collapse except Test\n",
    "noTcond = clean.df %>% filter(!(cond == \"T\"))\n",
    "t.test(Tcond$acc,noTcond$acc)\n",
    "sd(Tcond$acc)\n",
    "sd(noTcond$acc)"
   ]
  },
  {
   "cell_type": "markdown",
   "id": "3bc49422",
   "metadata": {},
   "source": [
    "Some exploration analyses were done by collapsing across learning conditions hoping to gain more power and uncover possible significant differences among the groups. First, we collapsed the two Google conditions together. The new GOOGLE condition still has the worst accuracy (M = 0.437, SD = 0.268); there was no significant difference when it’s compared to the testing condition (M = 0.487, SD = 0.239) (t(71.758) = 0.852, p = .397) and the restudying condition (M = 0.441, SD = 0.236) (t(62.741) = -0.062, p = .950). \n",
    "\n",
    "To isolate the testing condition with the best performance, we also collapsed the GC, Google, and restudying conditions into one group. The testing condition (M = 0.487, SD = 0.239) remains to be better than the big group (M = 0.454, SD = 0.249) though the difference being insignificant, t(56.004) = 0.6816, p = .498. \n",
    "\n",
    "Collapsing across learning conditions did not change any of the trends we observed from the uncollapsed data nor led us to any significant differences. Again, our hypothesis was not supported; learning with Google did not show an advantage in retention compared to the other learning strategies."
   ]
  },
  {
   "cell_type": "markdown",
   "id": "aad15cd8",
   "metadata": {},
   "source": [
    "### Linear Model"
   ]
  },
  {
   "cell_type": "code",
   "execution_count": null,
   "id": "3b57b323",
   "metadata": {},
   "outputs": [],
   "source": [
    "#linear model\n",
    "lms.fit = lm(acc~cond, data=clean.df)\n",
    "summary(lms.fit)\n",
    "\n",
    "\n",
    "lmm.fit = lm(acc~cond+\n",
    "             gender+ethnicity+edu+\n",
    "             LearningStyle+openBookExam+opinion_on_testlearning+\n",
    "             Gdefault+times_searchEngine+phone+computer+tablet+\n",
    "             pt1A+pt2A+\n",
    "             priorKnow+finalScorePredict+diff_material+diff_test, data=clean.df)\n",
    "summary(lmm.fit)\n"
   ]
  },
  {
   "cell_type": "markdown",
   "id": "6db75c0e",
   "metadata": {},
   "source": [
    "When no control variables were added, we see again none of the learning strategy conditions were a significant predictor of the final assessment's accuracy. \n",
    "\n",
    "When we added in all the control variables, however, the testing condition became a significant predictor for the final assessment accuracy along with difficulty rating of the final assessment, prediction of the final assessment score, Master's education, and Bachelor's education."
   ]
  },
  {
   "cell_type": "markdown",
   "id": "060d4fbc",
   "metadata": {},
   "source": [
    "### Bootstrapping"
   ]
  },
  {
   "cell_type": "code",
   "execution_count": null,
   "id": "01418255",
   "metadata": {},
   "outputs": [],
   "source": [
    "#Bootstrapping\n",
    "library(boot)\n",
    "#code adapted from https://coaxlab.github.io/Data-Explorations/notebooks/resampling-methods.html\n",
    "boot.fn <- function(data, index){  \n",
    "    # return: throw this as output\n",
    "    # coef: extract coefficients from model object \n",
    "    return(coef(lm(acc~cond, data=clean.df, subset=index)))\n",
    "}\n",
    "boot_obj = boot(clean.df, boot.fn, R=1000)\n",
    "print(boot_obj)\n",
    "hist(boot(clean.df ,boot.fn ,R=1000)$t[,2], xlab=\"Learning Condition Coefficient\")\n",
    "abline(v=0.0001704545)\n",
    "hist(boot(clean.df ,boot.fn ,R=1000)$t[,3], xlab=\"Learning Condition Coefficient\") \n",
    "abline(v=0.0038793548)\n",
    "hist(boot(clean.df ,boot.fn ,R=1000)$t[,4], xlab=\"Learning Condition Coefficient\")  \n",
    "abline(v=0.0500721501)"
   ]
  },
  {
   "cell_type": "markdown",
   "id": "fba80057",
   "metadata": {},
   "source": [
    "We see a similarity in the parametric estimate and the bootstrapped estimate for coefficients of the learning conditions. This means given the variability in the data, the coefficient estimates are actually quite robust. "
   ]
  },
  {
   "cell_type": "markdown",
   "id": "54d68f64",
   "metadata": {},
   "source": [
    "### Permutation Testing"
   ]
  },
  {
   "cell_type": "code",
   "execution_count": null,
   "id": "ca3cc9c3",
   "metadata": {},
   "outputs": [],
   "source": [
    "#Permutation Testing\n",
    "#code adapted from https://coaxlab.github.io/Data-Explorations/notebooks/resampling-methods.html\n",
    "permdf = clean.df #want to preserve the non-permuted, true form of data!\n",
    "\n",
    "# Set the number of iterations\n",
    "R=1000\n",
    "\n",
    "# Next smake an output object to store the results\n",
    "perm.coefs=matrix(NA,nrow=R, ncol=4) #filling with nas at first\n",
    "\n",
    "# Now just write a for loop where we scramble the observations\n",
    "# in X using the sample() function. We'll scramble the observations in R different ways\n",
    "for (i in 1:R){\n",
    "  permdf$cond=clean.df$cond[sample(103)] # This is a shuffled version of the Auto$horsepower vector\n",
    "  perm.coefs[i,]=coef(lm(acc~cond, data=permdf)) # then we get coefficients for linear model of shuffled horsepower to auto\n",
    "}\n",
    "\n",
    "# Take a look at the null distributions\n",
    "perm.real = coef(lm(acc~cond,data=clean.df))\n",
    "hist(perm.coefs[,2])\n",
    "perm.p = sum(perm.coefs[,2]<perm.real[2])/R \n",
    "perm.p\n",
    "\n",
    "hist(perm.coefs[,3])\n",
    "perm.p = sum(perm.coefs[,3]<perm.real[3])/R \n",
    "perm.p\n",
    "\n",
    "hist(perm.coefs[,4])\n",
    "perm.p = sum(perm.coefs[,4]<perm.real[4])/R \n",
    "perm.p\n",
    "\n"
   ]
  },
  {
   "cell_type": "markdown",
   "id": "00a0539e",
   "metadata": {},
   "source": [
    "Through permutation tests, we see the relationship between learning strategy condition and final assessment accuracy is not stronger than randomly shuffled pairings of these variables' observations. We see the coefficients falling inside the ranges. In addition, there are decent probabilities (49.4%, 52.6%, 75.5%) of seeing stronger coefficients from randomly shuffled pairings of the variables indicating the null relationship between learning strategy condition and final assessment accuracy. So, again, there is no evidence supporting our hypothesis. "
   ]
  },
  {
   "cell_type": "markdown",
   "id": "4fecc1f8",
   "metadata": {},
   "source": [
    "### Bayes Factor"
   ]
  },
  {
   "cell_type": "code",
   "execution_count": null,
   "id": "45d7b3aa",
   "metadata": {},
   "outputs": [],
   "source": [
    "library(BayesFactor)\n",
    "bf1 = ttestBF(x = Gcond$acc, y = GCcond$acc)\n",
    "bf1\n",
    "1/bf1\n",
    "\n",
    "bf2 = ttestBF(x = Gcond$acc, y = Tcond$acc)\n",
    "bf2\n",
    "1/bf2\n",
    "\n",
    "bf3 = ttestBF(x = Gcond$acc, y = Rcond$acc)\n",
    "bf3\n",
    "1/bf3\n",
    "\n",
    "bf4 = ttestBF(x = Tcond$acc, y = GCcond$acc)\n",
    "bf4\n",
    "1/bf4\n",
    "\n",
    "bf5 = ttestBF(x = Rcond$acc, y = GCcond$acc)\n",
    "bf5\n",
    "1/bf5\n",
    "\n",
    "bf6 = ttestBF(x = Tcond$acc, y = Rcond$acc)\n",
    "bf6\n",
    "1/bf6"
   ]
  },
  {
   "cell_type": "markdown",
   "id": "e10a2098",
   "metadata": {},
   "source": [
    "Using Bayes Factors, we then tested the evidence for alternative hupotheses where there are no difference among the different learning conditions' accuracy. We see that in all cases, there were stronger evidence for the null hypothesis suggesting (around 3) no difference among the groups than the alternative hypothesis (around 0.3)."
   ]
  },
  {
   "cell_type": "markdown",
   "id": "db2dc690",
   "metadata": {},
   "source": [
    "### Model Selection - Best Subset"
   ]
  },
  {
   "cell_type": "code",
   "execution_count": null,
   "id": "1c67d8eb",
   "metadata": {},
   "outputs": [],
   "source": [
    "#model selection\n",
    "#code adpated from https://coaxlab.github.io/Data-Explorations/notebooks/selecting-the-best-model.html\n",
    "library(leaps)\n",
    "regfit.full = regsubsets(acc~., select(clean.df, c(acc,cond,gender,ethnicity,edu,\n",
    "                                                   diff_test,diff_material,finalScorePredict,priorKnow,\n",
    "                                                   LearningStyle,openBookExam,opinion_on_testlearning,\n",
    "                                                   Gdefault,times_searchEngine,phone,computer,tablet,\n",
    "                                                   pt1A,pt2A)))\n",
    "\n",
    "reg.summary = summary(regfit.full)\n",
    "reg.summary$which\n",
    "reg.summary\n",
    "\n",
    "numvar = 1:length(reg.summary$rss)# Make a vector that lists the number of variables in sequence, from 1 to 19. \n",
    "allfalse = rep(FALSE,length(reg.summary$rss))# Starting point for an indicator that marks the best model choice for each metric.\n",
    "\n",
    "#adjr2\n",
    "adjr2.df <- data.frame(numvar = numvar, adjr2 <- reg.summary$adjr2, maxadjr2 <- allfalse)\n",
    "adjr2.df$maxadjr2[which.max(reg.summary$adjr2)] <- TRUE\n",
    "ggplot(adjr2.df,aes(x=numvar,y=adjr2,shape=maxadjr2,col=maxadjr2)) + \n",
    "    geom_point(size=3) + theme_light() + \n",
    "    labs(x = \"Number of Variables\", y = 'Adj'~R^2, color='Maximum Adj'~R^2, shape='Maximum Adj'~R^2)\n",
    "\n",
    "#mallow's cp\n",
    "cp.df <- data.frame(numvar = numvar, cp <- reg.summary$cp, mincp <- allfalse)\n",
    "cp.df$mincp[which.min(reg.summary$cp)] <- TRUE\n",
    "ggplot(cp.df,aes(x=numvar,y=cp,shape=mincp,col=mincp)) + \n",
    "    geom_point(size=3) + theme_light() + \n",
    "    labs(x = \"Number of Variables\", y = \"Mallow's CP\", color=\"Maximum CP\", shape=\"Maximum CP\")\n",
    "\n",
    "#bic\n",
    "bic.df <- data.frame(numvar = numvar,bic <- reg.summary$bic, minbic <- allfalse)\n",
    "bic.df$minbic[which.min(reg.summary$bic)] <- TRUE\n",
    "ggplot(bic.df,aes(x=numvar,y=bic,shape=minbic,col=minbic)) + \n",
    "    geom_point(size=3) + theme_light() + \n",
    "    labs(x = \"Number of Variables\", y = \"BIC\", color=\"Minimum BIC\", shape=\"Minimum BIC\")\n",
    "\n",
    "which.min(reg.summary$bic) \n",
    "which.max(reg.summary$adjr2)\n",
    "which.min(reg.summary$cp)\n",
    "\n",
    "\n",
    "#original hypothesis\n",
    "glm.fit = glm(acc~cond, data=clean.df)\n",
    "cv.err = cv.glm(clean.df, glm.fit, K=nrow(clean.df))\n",
    "cv.err$delta\n",
    "\n",
    "#5\n",
    "glm.fit = glm(acc~T+Bachelor+diff_test+finalScorePredict+phone, data=clean.df)\n",
    "cv.err = cv.glm(clean.df, glm.fit, K=nrow(clean.df))\n",
    "cv.err$delta\n",
    "\n",
    "#8\n",
    "glm.fit = glm(acc~pt2A+phone+LearningStyle+finalScorePredict+diff_test+Bachelor+White+T, data=clean.df)\n",
    "cv.err = cv.glm(clean.df, glm.fit, K=nrow(clean.df))\n",
    "cv.err$delta\n",
    "\n",
    "#6\n",
    "glm.fit = glm(acc~White+Bachelor+diff_test+phone+finalScorePredict+T, data=clean.df)\n",
    "cv.err = cv.glm(clean.df, glm.fit, K=nrow(clean.df))\n",
    "cv.err$delta"
   ]
  },
  {
   "cell_type": "markdown",
   "id": "7cce721a",
   "metadata": {},
   "source": [
    "**Backward Selection**"
   ]
  },
  {
   "cell_type": "code",
   "execution_count": null,
   "id": "0de1244d",
   "metadata": {},
   "outputs": [],
   "source": [
    "#model selection, backward\n",
    "#code adapted from https://coaxlab.github.io/Data-Explorations/notebooks/selecting-the-best-model.html\n",
    "regfit.full = regsubsets(acc~., select(clean.df, c(acc,cond,gender,ethnicity,edu,\n",
    "                                                   diff_test,diff_material,finalScorePredict,priorKnow,\n",
    "                                                   LearningStyle,openBookExam,opinion_on_testlearning,\n",
    "                                                   Gdefault,times_searchEngine,phone,computer,tablet,\n",
    "                                                   pt1A,pt2A)), method = \"backward\")\n",
    "\n",
    "reg.summary = summary(regfit.full)\n",
    "reg.summary$which\n",
    "reg.summary\n",
    "\n",
    "numvar = 1:length(reg.summary$rss)# Make a vector that lists the number of variables in sequence, from 1 to 19. \n",
    "allfalse = rep(FALSE,length(reg.summary$rss))# Starting point for an indicator that marks the best model choice for each metric.\n",
    "\n",
    "#adjr2\n",
    "adjr2.df <- data.frame(numvar = numvar, adjr2 <- reg.summary$adjr2, maxadjr2 <- allfalse)\n",
    "adjr2.df$maxadjr2[which.max(reg.summary$adjr2)] <- TRUE\n",
    "ggplot(adjr2.df,aes(x=numvar,y=adjr2,shape=maxadjr2,col=maxadjr2)) + \n",
    "    geom_point(size=3) + theme_light() + \n",
    "    labs(x = \"Number of Variables\", y = 'Adj'~R^2, color='Maximum Adj'~R^2, shape='Maximum Adj'~R^2)\n",
    "\n",
    "#mallow's cp\n",
    "cp.df <- data.frame(numvar = numvar, cp <- reg.summary$cp, mincp <- allfalse)\n",
    "cp.df$mincp[which.min(reg.summary$cp)] <- TRUE\n",
    "ggplot(cp.df,aes(x=numvar,y=cp,shape=mincp,col=mincp)) + \n",
    "    geom_point(size=3) + theme_light() + \n",
    "    labs(x = \"Number of Variables\", y = \"Mallow's CP\", color=\"Maximum CP\", shape=\"Maximum CP\")\n",
    "\n",
    "#bic\n",
    "bic.df <- data.frame(numvar = numvar,bic <- reg.summary$bic, minbic <- allfalse)\n",
    "bic.df$minbic[which.min(reg.summary$bic)] <- TRUE\n",
    "ggplot(bic.df,aes(x=numvar,y=bic,shape=minbic,col=minbic)) + \n",
    "    geom_point(size=3) + theme_light() + \n",
    "    labs(x = \"Number of Variables\", y = \"BIC\", color=\"Minimum BIC\", shape=\"Minimum BIC\")\n",
    "\n",
    "which.min(reg.summary$bic) \n",
    "which.max(reg.summary$adjr2)\n",
    "which.min(reg.summary$cp)\n",
    "\n",
    "#original hypothesis\n",
    "glm.fit = glm(acc~cond, data=clean.df)\n",
    "cv.err = cv.glm(clean.df, glm.fit, K=nrow(clean.df))\n",
    "cv.err$delta\n",
    "\n",
    "#5\n",
    "glm.fit = glm(acc~T+diff_test+Bachelor+finalScorePredict+phone, data=clean.df)\n",
    "cv.err = cv.glm(clean.df, glm.fit, K=nrow(clean.df))\n",
    "cv.err$delta\n",
    "\n",
    "#8\n",
    "glm.fit = glm(acc~T+diff_test+Bachelor+finalScorePredict+phone+White+opinion_on_testlearning+pt2A, data=clean.df)\n",
    "cv.err = cv.glm(clean.df, glm.fit, K=nrow(clean.df))\n",
    "cv.err$delta\n",
    "\n",
    "#6\n",
    "glm.fit = glm(acc~T+diff_test+Bachelor+finalScorePredict+phone+White, data=clean.df)\n",
    "cv.err = cv.glm(clean.df, glm.fit, K=nrow(clean.df))\n",
    "cv.err$delta"
   ]
  },
  {
   "cell_type": "markdown",
   "id": "5f646c15",
   "metadata": {},
   "source": [
    "**Forward Selection**"
   ]
  },
  {
   "cell_type": "code",
   "execution_count": null,
   "id": "1943050f",
   "metadata": {
    "scrolled": false
   },
   "outputs": [],
   "source": [
    "#model selection, forward\n",
    "#code adpated from https://coaxlab.github.io/Data-Explorations/notebooks/selecting-the-best-model.html\n",
    "regfit.full = regsubsets(acc~., select(clean.df, c(acc,cond,gender,ethnicity,edu,\n",
    "                                                   diff_test,diff_material,finalScorePredict,priorKnow,\n",
    "                                                   LearningStyle,openBookExam,opinion_on_testlearning,\n",
    "                                                   Gdefault,times_searchEngine,phone,computer,tablet,\n",
    "                                                   pt1A,pt2A)), method = \"forward\")\n",
    "\n",
    "reg.summary = summary(regfit.full)\n",
    "reg.summary$which\n",
    "reg.summary\n",
    "\n",
    "numvar = 1:length(reg.summary$rss)# Make a vector that lists the number of variables in sequence, from 1 to 19. \n",
    "allfalse = rep(FALSE,length(reg.summary$rss))# Starting point for an indicator that marks the best model choice for each metric.\n",
    "\n",
    "#adjr2\n",
    "adjr2.df <- data.frame(numvar = numvar, adjr2 <- reg.summary$adjr2, maxadjr2 <- allfalse)\n",
    "adjr2.df$maxadjr2[which.max(reg.summary$adjr2)] <- TRUE\n",
    "ggplot(adjr2.df,aes(x=numvar,y=adjr2,shape=maxadjr2,col=maxadjr2)) + \n",
    "    geom_point(size=3) + theme_light() + \n",
    "    labs(x = \"Number of Variables\", y = 'Adj'~R^2, color='Maximum Adj'~R^2, shape='Maximum Adj'~R^2)\n",
    "\n",
    "#mallow's cp\n",
    "cp.df <- data.frame(numvar = numvar, cp <- reg.summary$cp, mincp <- allfalse)\n",
    "cp.df$mincp[which.min(reg.summary$cp)] <- TRUE\n",
    "ggplot(cp.df,aes(x=numvar,y=cp,shape=mincp,col=mincp)) + \n",
    "    geom_point(size=3) + theme_light() + \n",
    "    labs(x = \"Number of Variables\", y = \"Mallow's CP\", color=\"Maximum CP\", shape=\"Maximum CP\")\n",
    "\n",
    "#bic\n",
    "bic.df <- data.frame(numvar = numvar,bic <- reg.summary$bic, minbic <- allfalse)\n",
    "bic.df$minbic[which.min(reg.summary$bic)] <- TRUE\n",
    "ggplot(bic.df,aes(x=numvar,y=bic,shape=minbic,col=minbic)) + \n",
    "    geom_point(size=3) + theme_light() + \n",
    "    labs(x = \"Number of Variables\", y = \"BIC\", color=\"Minimum BIC\", shape=\"Minimum BIC\")\n",
    "\n",
    "which.min(reg.summary$bic) \n",
    "which.max(reg.summary$adjr2)\n",
    "which.min(reg.summary$cp)\n",
    "\n",
    "#original hypothesis\n",
    "glm.fit = glm(acc~cond, data=clean.df)\n",
    "cv.err = cv.glm(clean.df, glm.fit, K=nrow(clean.df))\n",
    "cv.err$delta\n",
    "\n",
    "#5\n",
    "glm.fit = glm(acc~Bachelor+diff_test+finalScorePredict+phone+T, data=clean.df)\n",
    "cv.err = cv.glm(clean.df, glm.fit, K=nrow(clean.df))\n",
    "cv.err$delta\n",
    "\n",
    "#8\n",
    "glm.fit = glm(acc~pt2A+phone+finalScorePredict+diff_test+LearningStyle+T+White+Bachelor, data=clean.df)\n",
    "cv.err = cv.glm(clean.df, glm.fit, K=nrow(clean.df))\n",
    "cv.err$delta\n",
    "\n",
    "#6\n",
    "glm.fit = glm(acc~White+Bachelor+diff_test+finalScorePredict+phone+T, data=clean.df)\n",
    "cv.err = cv.glm(clean.df, glm.fit, K=nrow(clean.df))\n",
    "cv.err$delta"
   ]
  },
  {
   "cell_type": "markdown",
   "id": "561f5b25",
   "metadata": {},
   "source": [
    "With discrepancy in fit among the bias-adjusted model evaluations, I used cross-validation to determine which model is the best. Overall, it seems that a model with 6 variables is the best, including testing condtion, White ethnicity, Bachelor's degree, difficuty rating of the test, prediction of final score and average daily phone usage. "
   ]
  },
  {
   "cell_type": "markdown",
   "id": "f3b47aad",
   "metadata": {},
   "source": [
    "# Conclusion"
   ]
  },
  {
   "cell_type": "markdown",
   "id": "8932dcc6",
   "metadata": {},
   "source": [
    "Contrary to our hypothesis, learning with Google did not give better learning outcomes compared to learning by restudying and learning by testing. In fact, through T-tests, linear models and Bayes Factors, no evidence was found supporting that learning conditions, in general, made a difference for the final assessment accuracy. From best subset model selection and linear model with control variables, we discovered some variables that are important in predicting the final assessment accuracy including people's education level, their ethnicity, their prediction for the final assessment score and how difficult they rate the final assessment to be. Interestingly, though the testing condition did not significantly differ from the rest of the studying conditions in terms of final assessment accuracy, it was flagged being important in the linear model and subset selection. This is consistent with the testing effect largely studied by scholars. Future studies can look into these other variables in exploring the exact mechanism driving the testing effect or any learning strategy's benefit in long term retention. All in all, we did not find an advantage for using Google to learn. Educators and educational institutions should be cautious in the usage of Google as an educational tool in their curricula. "
   ]
  }
 ],
 "metadata": {
  "kernelspec": {
   "display_name": "R",
   "language": "R",
   "name": "ir"
  },
  "language_info": {
   "codemirror_mode": "r",
   "file_extension": ".r",
   "mimetype": "text/x-r-source",
   "name": "R",
   "pygments_lexer": "r",
   "version": "4.1.2"
  }
 },
 "nbformat": 4,
 "nbformat_minor": 5
}
