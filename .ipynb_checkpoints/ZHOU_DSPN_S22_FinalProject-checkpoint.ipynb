{
 "cells": [
  {
   "cell_type": "code",
   "execution_count": 2,
   "id": "8784f9df",
   "metadata": {},
   "outputs": [],
   "source": [
    "setwd(\"/Users/yuqizhou/Downloads\")\n",
    "\n",
    "#function ct.letters for checking final assessment answers\n",
    "#code adapted from https://www.geeksforgeeks.org/count-common-characters-in-two-strings/\n",
    "ct.letters <- function(s1, s2){\n",
    "  \n",
    "  #Find length of each string\n",
    "  n1 = nchar(s1)\n",
    "  # print(paste(\"n1:\",n1))\n",
    "  n2 = nchar(s2)\n",
    "  # print(paste(\"n2:\",n2))\n",
    "  \n",
    "  #To store the frequencies of characters of string s1 and s2\n",
    "  freq1 = rep(0,26)\n",
    "  freq2 = rep(0,26)\n",
    "  \n",
    "  #To store the count of valid pairs\n",
    "  count = 0\n",
    "  \n",
    "  #Update the frequencies of the characters of string s1\n",
    "  for (i in 1:n1){\n",
    "    freq1[utf8ToInt(substring(s1,i,i)) - utf8ToInt(\"a\")+1] = freq1[utf8ToInt(substring(s1,i,i)) - utf8ToInt(\"a\")+1] + 1\n",
    "  }\n",
    "  #Update the frequencies of the characters of string s2\n",
    "  for (i in 1:n2){\n",
    "    freq2[utf8ToInt(substring(s2,i,i)) - utf8ToInt(\"a\")+1] = freq2[utf8ToInt(substring(s2,i,i)) - utf8ToInt(\"a\")+1] + 1\n",
    "  }\n",
    "  \n",
    "  # Find the count of valid pairs\n",
    "  for (i in 1:26){\n",
    "    count = count + (min(freq1[i], freq2[i]));\n",
    "  }\n",
    "  \n",
    "  return(count)\n",
    "}\n",
    "\n",
    "#function findOutWorkerId for creating a vector of workerId that needs to be excluded\n",
    "findOutWorkerId <- function(id.out){\n",
    "  vec = c()\n",
    "  for (i in id.out) {\n",
    "    vec = append(i, vec)\n",
    "  }\n",
    "  return(vec)\n",
    "}\n",
    "\n",
    "library(tidyverse)\n"
   ]
  },
  {
   "cell_type": "code",
   "execution_count": 3,
   "id": "a66471ee",
   "metadata": {},
   "outputs": [
    {
     "data": {
      "text/html": [
       "<table class=\"dataframe\">\n",
       "<caption>A data.frame: 6 × 443</caption>\n",
       "<thead>\n",
       "\t<tr><th></th><th scope=col>StartDate</th><th scope=col>EndDate</th><th scope=col>Status</th><th scope=col>IPAddress</th><th scope=col>Progress</th><th scope=col>Duration..in.seconds.</th><th scope=col>Finished</th><th scope=col>RecordedDate</th><th scope=col>ResponseId</th><th scope=col>RecipientLastName</th><th scope=col>⋯</th><th scope=col>totalOffTask</th><th scope=col>totalOnTask</th><th scope=col>perPagePT</th><th scope=col>pageNo</th><th scope=col>workerId</th><th scope=col>hitId</th><th scope=col>assignmentId</th><th scope=col>timeRemaining</th><th scope=col>timeRemaining2</th><th scope=col>phase2.condition</th></tr>\n",
       "\t<tr><th></th><th scope=col>&lt;chr&gt;</th><th scope=col>&lt;chr&gt;</th><th scope=col>&lt;chr&gt;</th><th scope=col>&lt;chr&gt;</th><th scope=col>&lt;chr&gt;</th><th scope=col>&lt;chr&gt;</th><th scope=col>&lt;chr&gt;</th><th scope=col>&lt;chr&gt;</th><th scope=col>&lt;chr&gt;</th><th scope=col>&lt;chr&gt;</th><th scope=col>⋯</th><th scope=col>&lt;chr&gt;</th><th scope=col>&lt;chr&gt;</th><th scope=col>&lt;chr&gt;</th><th scope=col>&lt;chr&gt;</th><th scope=col>&lt;chr&gt;</th><th scope=col>&lt;chr&gt;</th><th scope=col>&lt;chr&gt;</th><th scope=col>&lt;chr&gt;</th><th scope=col>&lt;chr&gt;</th><th scope=col>&lt;chr&gt;</th></tr>\n",
       "</thead>\n",
       "<tbody>\n",
       "\t<tr><th scope=row>1</th><td>Start Date                                          </td><td>End Date                                          </td><td>Response Type        </td><td>IP Address              </td><td>Progress               </td><td>Duration (in seconds)  </td><td>Finished               </td><td>Recorded Date                                          </td><td>Response ID             </td><td>Recipient Last Name             </td><td>⋯</td><td>totalOffTask               </td><td>totalOnTask               </td><td>perPagePT                                                                                                                                                                                                                                                                                                                                                                                                                                                                                                                                                                                                                              </td><td>pageNo               </td><td>workerId               </td><td>hitId                         </td><td>assignmentId                  </td><td>timeRemaining               </td><td>timeRemaining2               </td><td>phase2 condition               </td></tr>\n",
       "\t<tr><th scope=row>2</th><td>{\"ImportId\":\"startDate\",\"timeZone\":\"America/Denver\"}</td><td>{\"ImportId\":\"endDate\",\"timeZone\":\"America/Denver\"}</td><td>{\"ImportId\":\"status\"}</td><td>{\"ImportId\":\"ipAddress\"}</td><td>{\"ImportId\":\"progress\"}</td><td>{\"ImportId\":\"duration\"}</td><td>{\"ImportId\":\"finished\"}</td><td>{\"ImportId\":\"recordedDate\",\"timeZone\":\"America/Denver\"}</td><td>{\"ImportId\":\"_recordId\"}</td><td>{\"ImportId\":\"recipientLastName\"}</td><td>⋯</td><td>{\"ImportId\":\"totalOffTask\"}</td><td>{\"ImportId\":\"totalOnTask\"}</td><td>{\"ImportId\":\"perPagePT\"}                                                                                                                                                                                                                                                                                                                                                                                                                                                                                                                                                                                                               </td><td>{\"ImportId\":\"pageNo\"}</td><td>{\"ImportId\":\"workerId\"}</td><td>{\"ImportId\":\"hitId\"}          </td><td>{\"ImportId\":\"assignmentId\"}   </td><td>{\"ImportId\":\"timeRemaining\"}</td><td>{\"ImportId\":\"timeRemaining2\"}</td><td>{\"ImportId\":\"phase2 condition\"}</td></tr>\n",
       "\t<tr><th scope=row>3</th><td>2022-04-10 02:26:02                                 </td><td>2022-04-10 02:40:01                               </td><td>IP Address           </td><td>69.9.44.167             </td><td>100                    </td><td>838                    </td><td>TRUE                   </td><td>2022-04-10 02:40:02                                    </td><td>R_8qPMobMse6gvA0F       </td><td>                                </td><td>⋯</td><td>-38                        </td><td>427                       </td><td>,61.424,-38.404,40.479, PAGE BREAK ,1.9, PAGE BREAK ,120.749, PAGE BREAK ,12.27, PAGE BREAK ,24.981, PAGE BREAK ,10.933, PAGE BREAK ,40.204, PAGE BREAK ,2.641, PAGE BREAK ,15.507, PAGE BREAK ,3.744, PAGE BREAK ,3.643, PAGE BREAK ,3.644, PAGE BREAK ,3.643, PAGE BREAK ,3.646, PAGE BREAK ,3.648, PAGE BREAK ,3.649, PAGE BREAK ,3.645, PAGE BREAK ,3.741, PAGE BREAK ,3.752, PAGE BREAK ,11.557, PAGE BREAK ,8.459, PAGE BREAK ,7.154, PAGE BREAK ,4.808, PAGE BREAK ,5.913, PAGE BREAK ,8.226, PAGE BREAK ,11.541, PAGE BREAK ,0.824, PAGE BREAK ,18.287, PAGE BREAK                                                             </td><td>55                   </td><td>A3V2TZ7MAD41L2         </td><td>3J06WJ78IWQURAR477B0GZSJQMWVVG</td><td>3NG53N1RL5PMXYWP44XT7DFIBND8P1</td><td>0                           </td><td>0                            </td><td>restudy                        </td></tr>\n",
       "\t<tr><th scope=row>4</th><td>2022-04-10 02:35:05                                 </td><td>2022-04-10 02:47:37                               </td><td>IP Address           </td><td>73.236.233.120          </td><td>100                    </td><td>752                    </td><td>TRUE                   </td><td>2022-04-10 02:47:38                                    </td><td>R_2xPLzSidUYOA3kK       </td><td>                                </td><td>⋯</td><td>0                          </td><td>504                       </td><td>,111.09, PAGE BREAK ,2.262, PAGE BREAK ,120.674, PAGE BREAK ,4.141, PAGE BREAK ,17.703, PAGE BREAK ,12.634, PAGE BREAK ,33.608, PAGE BREAK ,11.1, PAGE BREAK ,2.49, PAGE BREAK ,12.643, PAGE BREAK ,12.652, PAGE BREAK ,12.757, PAGE BREAK ,12.655, PAGE BREAK ,12.761, PAGE BREAK ,12.656, PAGE BREAK ,12.655, PAGE BREAK ,12.659, PAGE BREAK ,11.652, PAGE BREAK ,12.658, PAGE BREAK ,12.179, PAGE BREAK ,5.028, PAGE BREAK ,6.83, PAGE BREAK ,19.898, PAGE BREAK ,11.361, PAGE BREAK ,4.768, PAGE BREAK ,5.967, PAGE BREAK ,2.32, PAGE BREAK ,9.925, PAGE BREAK                                                                     </td><td>55                   </td><td>AKZ1KRMTFUPRB          </td><td>3J06WJ78IWQURAR477B0GZSJQMWVVG</td><td>3VFJCI1K495M2QIM0UD64LWV0OERGS</td><td>0                           </td><td>0                            </td><td>test                           </td></tr>\n",
       "\t<tr><th scope=row>5</th><td>2022-04-10 02:32:53                                 </td><td>2022-04-10 02:48:07                               </td><td>IP Address           </td><td>45.144.113.153          </td><td>100                    </td><td>914                    </td><td>TRUE                   </td><td>2022-04-10 02:48:07                                    </td><td>R_2YtCBhL6QFETINe       </td><td>                                </td><td>⋯</td><td>0                          </td><td>294                       </td><td>,31.388, PAGE BREAK ,16.792, PAGE BREAK ,11.24, PAGE BREAK ,8.237, PAGE BREAK ,13.04, PAGE BREAK ,8.567, PAGE BREAK ,24.043, PAGE BREAK ,1.026, PAGE BREAK ,42.366, PAGE BREAK ,3.714, PAGE BREAK ,3.745, PAGE BREAK ,3.703, PAGE BREAK ,3.747, PAGE BREAK ,3.656, PAGE BREAK ,3.75, PAGE BREAK ,3.647, PAGE BREAK ,3.661, PAGE BREAK ,3.661, PAGE BREAK ,3.766, PAGE BREAK ,21.63, PAGE BREAK ,13.071, PAGE BREAK ,12.35, PAGE BREAK ,9.471, PAGE BREAK ,10.434, PAGE BREAK ,7.418, PAGE BREAK ,7.863, PAGE BREAK ,6.762, PAGE BREAK ,25.53, PAGE BREAK                                                                               </td><td>56                   </td><td>A8V0L2YF8U6OX          </td><td>3J06WJ78IWQURAR477B0GZSJQMWVVG</td><td>34T446B1CAKLLKII4VY8UYATT6MC04</td><td>0                           </td><td>0                            </td><td>GC                             </td></tr>\n",
       "\t<tr><th scope=row>6</th><td>2022-04-10 02:34:19                                 </td><td>2022-04-10 02:49:24                               </td><td>IP Address           </td><td>75.165.156.187          </td><td>100                    </td><td>905                    </td><td>TRUE                   </td><td>2022-04-10 02:49:24                                    </td><td>R_5jT71WfzinjC1i1       </td><td>                                </td><td>⋯</td><td>-46                        </td><td>362                       </td><td>,70.217, PAGE BREAK ,1.714, PAGE BREAK ,120.655, PAGE BREAK ,12.071, PAGE BREAK ,3.879,-6.492,-0.001,13.413, PAGE BREAK ,2.647,-4.049,0,5.761, PAGE BREAK ,3.69,-5.064,-0.001,7.165, PAGE BREAK ,4.755, PAGE BREAK ,25.049,-26.703,0,1.104, PAGE BREAK ,3.76, PAGE BREAK ,3.75, PAGE BREAK ,3.753, PAGE BREAK ,3.641, PAGE BREAK ,3.747, PAGE BREAK ,3.639, PAGE BREAK ,3.643, PAGE BREAK ,3.639, PAGE BREAK ,3.636, PAGE BREAK ,3.651, PAGE BREAK ,-5.775,0,-0.003,0,-0.002,0,-0.002,0,-0.002,0,-0.001,0,-0.001,0,3.962, PAGE BREAK ,14.703, PAGE BREAK ,12.495, PAGE BREAK ,16.445, PAGE BREAK ,5.508, PAGE BREAK ,16.292, PAGE BREAK</td><td>49                   </td><td>A2BYGN27NJ718R         </td><td>3J06WJ78IWQURAR477B0GZSJQMWVVG</td><td>351SEKWQSANSTQV3TWGHC1ZOH9ZMDP</td><td>0                           </td><td>0                            </td><td>test                           </td></tr>\n",
       "</tbody>\n",
       "</table>\n"
      ],
      "text/latex": [
       "A data.frame: 6 × 443\n",
       "\\begin{tabular}{r|lllllllllllllllllllll}\n",
       "  & StartDate & EndDate & Status & IPAddress & Progress & Duration..in.seconds. & Finished & RecordedDate & ResponseId & RecipientLastName & ⋯ & totalOffTask & totalOnTask & perPagePT & pageNo & workerId & hitId & assignmentId & timeRemaining & timeRemaining2 & phase2.condition\\\\\n",
       "  & <chr> & <chr> & <chr> & <chr> & <chr> & <chr> & <chr> & <chr> & <chr> & <chr> & ⋯ & <chr> & <chr> & <chr> & <chr> & <chr> & <chr> & <chr> & <chr> & <chr> & <chr>\\\\\n",
       "\\hline\n",
       "\t1 & Start Date                                           & End Date                                           & Response Type         & IP Address               & Progress                & Duration (in seconds)   & Finished                & Recorded Date                                           & Response ID              & Recipient Last Name              & ⋯ & totalOffTask                & totalOnTask                & perPagePT                                                                                                                                                                                                                                                                                                                                                                                                                                                                                                                                                                                                                               & pageNo                & workerId                & hitId                          & assignmentId                   & timeRemaining                & timeRemaining2                & phase2 condition               \\\\\n",
       "\t2 & \\{\"ImportId\":\"startDate\",\"timeZone\":\"America/Denver\"\\} & \\{\"ImportId\":\"endDate\",\"timeZone\":\"America/Denver\"\\} & \\{\"ImportId\":\"status\"\\} & \\{\"ImportId\":\"ipAddress\"\\} & \\{\"ImportId\":\"progress\"\\} & \\{\"ImportId\":\"duration\"\\} & \\{\"ImportId\":\"finished\"\\} & \\{\"ImportId\":\"recordedDate\",\"timeZone\":\"America/Denver\"\\} & \\{\"ImportId\":\"\\_recordId\"\\} & \\{\"ImportId\":\"recipientLastName\"\\} & ⋯ & \\{\"ImportId\":\"totalOffTask\"\\} & \\{\"ImportId\":\"totalOnTask\"\\} & \\{\"ImportId\":\"perPagePT\"\\}                                                                                                                                                                                                                                                                                                                                                                                                                                                                                                                                                                                                                & \\{\"ImportId\":\"pageNo\"\\} & \\{\"ImportId\":\"workerId\"\\} & \\{\"ImportId\":\"hitId\"\\}           & \\{\"ImportId\":\"assignmentId\"\\}    & \\{\"ImportId\":\"timeRemaining\"\\} & \\{\"ImportId\":\"timeRemaining2\"\\} & \\{\"ImportId\":\"phase2 condition\"\\}\\\\\n",
       "\t3 & 2022-04-10 02:26:02                                  & 2022-04-10 02:40:01                                & IP Address            & 69.9.44.167              & 100                     & 838                     & TRUE                    & 2022-04-10 02:40:02                                     & R\\_8qPMobMse6gvA0F        &                                  & ⋯ & -38                         & 427                        & ,61.424,-38.404,40.479, PAGE BREAK ,1.9, PAGE BREAK ,120.749, PAGE BREAK ,12.27, PAGE BREAK ,24.981, PAGE BREAK ,10.933, PAGE BREAK ,40.204, PAGE BREAK ,2.641, PAGE BREAK ,15.507, PAGE BREAK ,3.744, PAGE BREAK ,3.643, PAGE BREAK ,3.644, PAGE BREAK ,3.643, PAGE BREAK ,3.646, PAGE BREAK ,3.648, PAGE BREAK ,3.649, PAGE BREAK ,3.645, PAGE BREAK ,3.741, PAGE BREAK ,3.752, PAGE BREAK ,11.557, PAGE BREAK ,8.459, PAGE BREAK ,7.154, PAGE BREAK ,4.808, PAGE BREAK ,5.913, PAGE BREAK ,8.226, PAGE BREAK ,11.541, PAGE BREAK ,0.824, PAGE BREAK ,18.287, PAGE BREAK                                                              & 55                    & A3V2TZ7MAD41L2          & 3J06WJ78IWQURAR477B0GZSJQMWVVG & 3NG53N1RL5PMXYWP44XT7DFIBND8P1 & 0                            & 0                             & restudy                        \\\\\n",
       "\t4 & 2022-04-10 02:35:05                                  & 2022-04-10 02:47:37                                & IP Address            & 73.236.233.120           & 100                     & 752                     & TRUE                    & 2022-04-10 02:47:38                                     & R\\_2xPLzSidUYOA3kK        &                                  & ⋯ & 0                           & 504                        & ,111.09, PAGE BREAK ,2.262, PAGE BREAK ,120.674, PAGE BREAK ,4.141, PAGE BREAK ,17.703, PAGE BREAK ,12.634, PAGE BREAK ,33.608, PAGE BREAK ,11.1, PAGE BREAK ,2.49, PAGE BREAK ,12.643, PAGE BREAK ,12.652, PAGE BREAK ,12.757, PAGE BREAK ,12.655, PAGE BREAK ,12.761, PAGE BREAK ,12.656, PAGE BREAK ,12.655, PAGE BREAK ,12.659, PAGE BREAK ,11.652, PAGE BREAK ,12.658, PAGE BREAK ,12.179, PAGE BREAK ,5.028, PAGE BREAK ,6.83, PAGE BREAK ,19.898, PAGE BREAK ,11.361, PAGE BREAK ,4.768, PAGE BREAK ,5.967, PAGE BREAK ,2.32, PAGE BREAK ,9.925, PAGE BREAK                                                                      & 55                    & AKZ1KRMTFUPRB           & 3J06WJ78IWQURAR477B0GZSJQMWVVG & 3VFJCI1K495M2QIM0UD64LWV0OERGS & 0                            & 0                             & test                           \\\\\n",
       "\t5 & 2022-04-10 02:32:53                                  & 2022-04-10 02:48:07                                & IP Address            & 45.144.113.153           & 100                     & 914                     & TRUE                    & 2022-04-10 02:48:07                                     & R\\_2YtCBhL6QFETINe        &                                  & ⋯ & 0                           & 294                        & ,31.388, PAGE BREAK ,16.792, PAGE BREAK ,11.24, PAGE BREAK ,8.237, PAGE BREAK ,13.04, PAGE BREAK ,8.567, PAGE BREAK ,24.043, PAGE BREAK ,1.026, PAGE BREAK ,42.366, PAGE BREAK ,3.714, PAGE BREAK ,3.745, PAGE BREAK ,3.703, PAGE BREAK ,3.747, PAGE BREAK ,3.656, PAGE BREAK ,3.75, PAGE BREAK ,3.647, PAGE BREAK ,3.661, PAGE BREAK ,3.661, PAGE BREAK ,3.766, PAGE BREAK ,21.63, PAGE BREAK ,13.071, PAGE BREAK ,12.35, PAGE BREAK ,9.471, PAGE BREAK ,10.434, PAGE BREAK ,7.418, PAGE BREAK ,7.863, PAGE BREAK ,6.762, PAGE BREAK ,25.53, PAGE BREAK                                                                                & 56                    & A8V0L2YF8U6OX           & 3J06WJ78IWQURAR477B0GZSJQMWVVG & 34T446B1CAKLLKII4VY8UYATT6MC04 & 0                            & 0                             & GC                             \\\\\n",
       "\t6 & 2022-04-10 02:34:19                                  & 2022-04-10 02:49:24                                & IP Address            & 75.165.156.187           & 100                     & 905                     & TRUE                    & 2022-04-10 02:49:24                                     & R\\_5jT71WfzinjC1i1        &                                  & ⋯ & -46                         & 362                        & ,70.217, PAGE BREAK ,1.714, PAGE BREAK ,120.655, PAGE BREAK ,12.071, PAGE BREAK ,3.879,-6.492,-0.001,13.413, PAGE BREAK ,2.647,-4.049,0,5.761, PAGE BREAK ,3.69,-5.064,-0.001,7.165, PAGE BREAK ,4.755, PAGE BREAK ,25.049,-26.703,0,1.104, PAGE BREAK ,3.76, PAGE BREAK ,3.75, PAGE BREAK ,3.753, PAGE BREAK ,3.641, PAGE BREAK ,3.747, PAGE BREAK ,3.639, PAGE BREAK ,3.643, PAGE BREAK ,3.639, PAGE BREAK ,3.636, PAGE BREAK ,3.651, PAGE BREAK ,-5.775,0,-0.003,0,-0.002,0,-0.002,0,-0.002,0,-0.001,0,-0.001,0,3.962, PAGE BREAK ,14.703, PAGE BREAK ,12.495, PAGE BREAK ,16.445, PAGE BREAK ,5.508, PAGE BREAK ,16.292, PAGE BREAK & 49                    & A2BYGN27NJ718R          & 3J06WJ78IWQURAR477B0GZSJQMWVVG & 351SEKWQSANSTQV3TWGHC1ZOH9ZMDP & 0                            & 0                             & test                           \\\\\n",
       "\\end{tabular}\n"
      ],
      "text/markdown": [
       "\n",
       "A data.frame: 6 × 443\n",
       "\n",
       "| <!--/--> | StartDate &lt;chr&gt; | EndDate &lt;chr&gt; | Status &lt;chr&gt; | IPAddress &lt;chr&gt; | Progress &lt;chr&gt; | Duration..in.seconds. &lt;chr&gt; | Finished &lt;chr&gt; | RecordedDate &lt;chr&gt; | ResponseId &lt;chr&gt; | RecipientLastName &lt;chr&gt; | ⋯ ⋯ | totalOffTask &lt;chr&gt; | totalOnTask &lt;chr&gt; | perPagePT &lt;chr&gt; | pageNo &lt;chr&gt; | workerId &lt;chr&gt; | hitId &lt;chr&gt; | assignmentId &lt;chr&gt; | timeRemaining &lt;chr&gt; | timeRemaining2 &lt;chr&gt; | phase2.condition &lt;chr&gt; |\n",
       "|---|---|---|---|---|---|---|---|---|---|---|---|---|---|---|---|---|---|---|---|---|---|\n",
       "| 1 | Start Date                                           | End Date                                           | Response Type         | IP Address               | Progress                | Duration (in seconds)   | Finished                | Recorded Date                                           | Response ID              | Recipient Last Name              | ⋯ | totalOffTask                | totalOnTask                | perPagePT                                                                                                                                                                                                                                                                                                                                                                                                                                                                                                                                                                                                                               | pageNo                | workerId                | hitId                          | assignmentId                   | timeRemaining                | timeRemaining2                | phase2 condition                |\n",
       "| 2 | {\"ImportId\":\"startDate\",\"timeZone\":\"America/Denver\"} | {\"ImportId\":\"endDate\",\"timeZone\":\"America/Denver\"} | {\"ImportId\":\"status\"} | {\"ImportId\":\"ipAddress\"} | {\"ImportId\":\"progress\"} | {\"ImportId\":\"duration\"} | {\"ImportId\":\"finished\"} | {\"ImportId\":\"recordedDate\",\"timeZone\":\"America/Denver\"} | {\"ImportId\":\"_recordId\"} | {\"ImportId\":\"recipientLastName\"} | ⋯ | {\"ImportId\":\"totalOffTask\"} | {\"ImportId\":\"totalOnTask\"} | {\"ImportId\":\"perPagePT\"}                                                                                                                                                                                                                                                                                                                                                                                                                                                                                                                                                                                                                | {\"ImportId\":\"pageNo\"} | {\"ImportId\":\"workerId\"} | {\"ImportId\":\"hitId\"}           | {\"ImportId\":\"assignmentId\"}    | {\"ImportId\":\"timeRemaining\"} | {\"ImportId\":\"timeRemaining2\"} | {\"ImportId\":\"phase2 condition\"} |\n",
       "| 3 | 2022-04-10 02:26:02                                  | 2022-04-10 02:40:01                                | IP Address            | 69.9.44.167              | 100                     | 838                     | TRUE                    | 2022-04-10 02:40:02                                     | R_8qPMobMse6gvA0F        | <!----> | ⋯ | -38                         | 427                        | ,61.424,-38.404,40.479, PAGE BREAK ,1.9, PAGE BREAK ,120.749, PAGE BREAK ,12.27, PAGE BREAK ,24.981, PAGE BREAK ,10.933, PAGE BREAK ,40.204, PAGE BREAK ,2.641, PAGE BREAK ,15.507, PAGE BREAK ,3.744, PAGE BREAK ,3.643, PAGE BREAK ,3.644, PAGE BREAK ,3.643, PAGE BREAK ,3.646, PAGE BREAK ,3.648, PAGE BREAK ,3.649, PAGE BREAK ,3.645, PAGE BREAK ,3.741, PAGE BREAK ,3.752, PAGE BREAK ,11.557, PAGE BREAK ,8.459, PAGE BREAK ,7.154, PAGE BREAK ,4.808, PAGE BREAK ,5.913, PAGE BREAK ,8.226, PAGE BREAK ,11.541, PAGE BREAK ,0.824, PAGE BREAK ,18.287, PAGE BREAK                                                              | 55                    | A3V2TZ7MAD41L2          | 3J06WJ78IWQURAR477B0GZSJQMWVVG | 3NG53N1RL5PMXYWP44XT7DFIBND8P1 | 0                            | 0                             | restudy                         |\n",
       "| 4 | 2022-04-10 02:35:05                                  | 2022-04-10 02:47:37                                | IP Address            | 73.236.233.120           | 100                     | 752                     | TRUE                    | 2022-04-10 02:47:38                                     | R_2xPLzSidUYOA3kK        | <!----> | ⋯ | 0                           | 504                        | ,111.09, PAGE BREAK ,2.262, PAGE BREAK ,120.674, PAGE BREAK ,4.141, PAGE BREAK ,17.703, PAGE BREAK ,12.634, PAGE BREAK ,33.608, PAGE BREAK ,11.1, PAGE BREAK ,2.49, PAGE BREAK ,12.643, PAGE BREAK ,12.652, PAGE BREAK ,12.757, PAGE BREAK ,12.655, PAGE BREAK ,12.761, PAGE BREAK ,12.656, PAGE BREAK ,12.655, PAGE BREAK ,12.659, PAGE BREAK ,11.652, PAGE BREAK ,12.658, PAGE BREAK ,12.179, PAGE BREAK ,5.028, PAGE BREAK ,6.83, PAGE BREAK ,19.898, PAGE BREAK ,11.361, PAGE BREAK ,4.768, PAGE BREAK ,5.967, PAGE BREAK ,2.32, PAGE BREAK ,9.925, PAGE BREAK                                                                      | 55                    | AKZ1KRMTFUPRB           | 3J06WJ78IWQURAR477B0GZSJQMWVVG | 3VFJCI1K495M2QIM0UD64LWV0OERGS | 0                            | 0                             | test                            |\n",
       "| 5 | 2022-04-10 02:32:53                                  | 2022-04-10 02:48:07                                | IP Address            | 45.144.113.153           | 100                     | 914                     | TRUE                    | 2022-04-10 02:48:07                                     | R_2YtCBhL6QFETINe        | <!----> | ⋯ | 0                           | 294                        | ,31.388, PAGE BREAK ,16.792, PAGE BREAK ,11.24, PAGE BREAK ,8.237, PAGE BREAK ,13.04, PAGE BREAK ,8.567, PAGE BREAK ,24.043, PAGE BREAK ,1.026, PAGE BREAK ,42.366, PAGE BREAK ,3.714, PAGE BREAK ,3.745, PAGE BREAK ,3.703, PAGE BREAK ,3.747, PAGE BREAK ,3.656, PAGE BREAK ,3.75, PAGE BREAK ,3.647, PAGE BREAK ,3.661, PAGE BREAK ,3.661, PAGE BREAK ,3.766, PAGE BREAK ,21.63, PAGE BREAK ,13.071, PAGE BREAK ,12.35, PAGE BREAK ,9.471, PAGE BREAK ,10.434, PAGE BREAK ,7.418, PAGE BREAK ,7.863, PAGE BREAK ,6.762, PAGE BREAK ,25.53, PAGE BREAK                                                                                | 56                    | A8V0L2YF8U6OX           | 3J06WJ78IWQURAR477B0GZSJQMWVVG | 34T446B1CAKLLKII4VY8UYATT6MC04 | 0                            | 0                             | GC                              |\n",
       "| 6 | 2022-04-10 02:34:19                                  | 2022-04-10 02:49:24                                | IP Address            | 75.165.156.187           | 100                     | 905                     | TRUE                    | 2022-04-10 02:49:24                                     | R_5jT71WfzinjC1i1        | <!----> | ⋯ | -46                         | 362                        | ,70.217, PAGE BREAK ,1.714, PAGE BREAK ,120.655, PAGE BREAK ,12.071, PAGE BREAK ,3.879,-6.492,-0.001,13.413, PAGE BREAK ,2.647,-4.049,0,5.761, PAGE BREAK ,3.69,-5.064,-0.001,7.165, PAGE BREAK ,4.755, PAGE BREAK ,25.049,-26.703,0,1.104, PAGE BREAK ,3.76, PAGE BREAK ,3.75, PAGE BREAK ,3.753, PAGE BREAK ,3.641, PAGE BREAK ,3.747, PAGE BREAK ,3.639, PAGE BREAK ,3.643, PAGE BREAK ,3.639, PAGE BREAK ,3.636, PAGE BREAK ,3.651, PAGE BREAK ,-5.775,0,-0.003,0,-0.002,0,-0.002,0,-0.002,0,-0.001,0,-0.001,0,3.962, PAGE BREAK ,14.703, PAGE BREAK ,12.495, PAGE BREAK ,16.445, PAGE BREAK ,5.508, PAGE BREAK ,16.292, PAGE BREAK | 49                    | A2BYGN27NJ718R          | 3J06WJ78IWQURAR477B0GZSJQMWVVG | 351SEKWQSANSTQV3TWGHC1ZOH9ZMDP | 0                            | 0                             | test                            |\n",
       "\n"
      ],
      "text/plain": [
       "  StartDate                                           \n",
       "1 Start Date                                          \n",
       "2 {\"ImportId\":\"startDate\",\"timeZone\":\"America/Denver\"}\n",
       "3 2022-04-10 02:26:02                                 \n",
       "4 2022-04-10 02:35:05                                 \n",
       "5 2022-04-10 02:32:53                                 \n",
       "6 2022-04-10 02:34:19                                 \n",
       "  EndDate                                            Status               \n",
       "1 End Date                                           Response Type        \n",
       "2 {\"ImportId\":\"endDate\",\"timeZone\":\"America/Denver\"} {\"ImportId\":\"status\"}\n",
       "3 2022-04-10 02:40:01                                IP Address           \n",
       "4 2022-04-10 02:47:37                                IP Address           \n",
       "5 2022-04-10 02:48:07                                IP Address           \n",
       "6 2022-04-10 02:49:24                                IP Address           \n",
       "  IPAddress                Progress                Duration..in.seconds.  \n",
       "1 IP Address               Progress                Duration (in seconds)  \n",
       "2 {\"ImportId\":\"ipAddress\"} {\"ImportId\":\"progress\"} {\"ImportId\":\"duration\"}\n",
       "3 69.9.44.167              100                     838                    \n",
       "4 73.236.233.120           100                     752                    \n",
       "5 45.144.113.153           100                     914                    \n",
       "6 75.165.156.187           100                     905                    \n",
       "  Finished               \n",
       "1 Finished               \n",
       "2 {\"ImportId\":\"finished\"}\n",
       "3 TRUE                   \n",
       "4 TRUE                   \n",
       "5 TRUE                   \n",
       "6 TRUE                   \n",
       "  RecordedDate                                           \n",
       "1 Recorded Date                                          \n",
       "2 {\"ImportId\":\"recordedDate\",\"timeZone\":\"America/Denver\"}\n",
       "3 2022-04-10 02:40:02                                    \n",
       "4 2022-04-10 02:47:38                                    \n",
       "5 2022-04-10 02:48:07                                    \n",
       "6 2022-04-10 02:49:24                                    \n",
       "  ResponseId               RecipientLastName                ⋯\n",
       "1 Response ID              Recipient Last Name              ⋯\n",
       "2 {\"ImportId\":\"_recordId\"} {\"ImportId\":\"recipientLastName\"} ⋯\n",
       "3 R_8qPMobMse6gvA0F                                         ⋯\n",
       "4 R_2xPLzSidUYOA3kK                                         ⋯\n",
       "5 R_2YtCBhL6QFETINe                                         ⋯\n",
       "6 R_5jT71WfzinjC1i1                                         ⋯\n",
       "  totalOffTask                totalOnTask               \n",
       "1 totalOffTask                totalOnTask               \n",
       "2 {\"ImportId\":\"totalOffTask\"} {\"ImportId\":\"totalOnTask\"}\n",
       "3 -38                         427                       \n",
       "4 0                           504                       \n",
       "5 0                           294                       \n",
       "6 -46                         362                       \n",
       "  perPagePT                                                                                                                                                                                                                                                                                                                                                                                                                                                                                                                                                                                                                              \n",
       "1 perPagePT                                                                                                                                                                                                                                                                                                                                                                                                                                                                                                                                                                                                                              \n",
       "2 {\"ImportId\":\"perPagePT\"}                                                                                                                                                                                                                                                                                                                                                                                                                                                                                                                                                                                                               \n",
       "3 ,61.424,-38.404,40.479, PAGE BREAK ,1.9, PAGE BREAK ,120.749, PAGE BREAK ,12.27, PAGE BREAK ,24.981, PAGE BREAK ,10.933, PAGE BREAK ,40.204, PAGE BREAK ,2.641, PAGE BREAK ,15.507, PAGE BREAK ,3.744, PAGE BREAK ,3.643, PAGE BREAK ,3.644, PAGE BREAK ,3.643, PAGE BREAK ,3.646, PAGE BREAK ,3.648, PAGE BREAK ,3.649, PAGE BREAK ,3.645, PAGE BREAK ,3.741, PAGE BREAK ,3.752, PAGE BREAK ,11.557, PAGE BREAK ,8.459, PAGE BREAK ,7.154, PAGE BREAK ,4.808, PAGE BREAK ,5.913, PAGE BREAK ,8.226, PAGE BREAK ,11.541, PAGE BREAK ,0.824, PAGE BREAK ,18.287, PAGE BREAK                                                             \n",
       "4 ,111.09, PAGE BREAK ,2.262, PAGE BREAK ,120.674, PAGE BREAK ,4.141, PAGE BREAK ,17.703, PAGE BREAK ,12.634, PAGE BREAK ,33.608, PAGE BREAK ,11.1, PAGE BREAK ,2.49, PAGE BREAK ,12.643, PAGE BREAK ,12.652, PAGE BREAK ,12.757, PAGE BREAK ,12.655, PAGE BREAK ,12.761, PAGE BREAK ,12.656, PAGE BREAK ,12.655, PAGE BREAK ,12.659, PAGE BREAK ,11.652, PAGE BREAK ,12.658, PAGE BREAK ,12.179, PAGE BREAK ,5.028, PAGE BREAK ,6.83, PAGE BREAK ,19.898, PAGE BREAK ,11.361, PAGE BREAK ,4.768, PAGE BREAK ,5.967, PAGE BREAK ,2.32, PAGE BREAK ,9.925, PAGE BREAK                                                                     \n",
       "5 ,31.388, PAGE BREAK ,16.792, PAGE BREAK ,11.24, PAGE BREAK ,8.237, PAGE BREAK ,13.04, PAGE BREAK ,8.567, PAGE BREAK ,24.043, PAGE BREAK ,1.026, PAGE BREAK ,42.366, PAGE BREAK ,3.714, PAGE BREAK ,3.745, PAGE BREAK ,3.703, PAGE BREAK ,3.747, PAGE BREAK ,3.656, PAGE BREAK ,3.75, PAGE BREAK ,3.647, PAGE BREAK ,3.661, PAGE BREAK ,3.661, PAGE BREAK ,3.766, PAGE BREAK ,21.63, PAGE BREAK ,13.071, PAGE BREAK ,12.35, PAGE BREAK ,9.471, PAGE BREAK ,10.434, PAGE BREAK ,7.418, PAGE BREAK ,7.863, PAGE BREAK ,6.762, PAGE BREAK ,25.53, PAGE BREAK                                                                               \n",
       "6 ,70.217, PAGE BREAK ,1.714, PAGE BREAK ,120.655, PAGE BREAK ,12.071, PAGE BREAK ,3.879,-6.492,-0.001,13.413, PAGE BREAK ,2.647,-4.049,0,5.761, PAGE BREAK ,3.69,-5.064,-0.001,7.165, PAGE BREAK ,4.755, PAGE BREAK ,25.049,-26.703,0,1.104, PAGE BREAK ,3.76, PAGE BREAK ,3.75, PAGE BREAK ,3.753, PAGE BREAK ,3.641, PAGE BREAK ,3.747, PAGE BREAK ,3.639, PAGE BREAK ,3.643, PAGE BREAK ,3.639, PAGE BREAK ,3.636, PAGE BREAK ,3.651, PAGE BREAK ,-5.775,0,-0.003,0,-0.002,0,-0.002,0,-0.002,0,-0.001,0,-0.001,0,3.962, PAGE BREAK ,14.703, PAGE BREAK ,12.495, PAGE BREAK ,16.445, PAGE BREAK ,5.508, PAGE BREAK ,16.292, PAGE BREAK\n",
       "  pageNo                workerId                hitId                         \n",
       "1 pageNo                workerId                hitId                         \n",
       "2 {\"ImportId\":\"pageNo\"} {\"ImportId\":\"workerId\"} {\"ImportId\":\"hitId\"}          \n",
       "3 55                    A3V2TZ7MAD41L2          3J06WJ78IWQURAR477B0GZSJQMWVVG\n",
       "4 55                    AKZ1KRMTFUPRB           3J06WJ78IWQURAR477B0GZSJQMWVVG\n",
       "5 56                    A8V0L2YF8U6OX           3J06WJ78IWQURAR477B0GZSJQMWVVG\n",
       "6 49                    A2BYGN27NJ718R          3J06WJ78IWQURAR477B0GZSJQMWVVG\n",
       "  assignmentId                   timeRemaining               \n",
       "1 assignmentId                   timeRemaining               \n",
       "2 {\"ImportId\":\"assignmentId\"}    {\"ImportId\":\"timeRemaining\"}\n",
       "3 3NG53N1RL5PMXYWP44XT7DFIBND8P1 0                           \n",
       "4 3VFJCI1K495M2QIM0UD64LWV0OERGS 0                           \n",
       "5 34T446B1CAKLLKII4VY8UYATT6MC04 0                           \n",
       "6 351SEKWQSANSTQV3TWGHC1ZOH9ZMDP 0                           \n",
       "  timeRemaining2                phase2.condition               \n",
       "1 timeRemaining2                phase2 condition               \n",
       "2 {\"ImportId\":\"timeRemaining2\"} {\"ImportId\":\"phase2 condition\"}\n",
       "3 0                             restudy                        \n",
       "4 0                             test                           \n",
       "5 0                             GC                             \n",
       "6 0                             test                           "
      ]
     },
     "metadata": {},
     "output_type": "display_data"
    },
    {
     "data": {
      "text/html": [
       "<table class=\"dataframe\">\n",
       "<caption>A data.frame: 6 × 60</caption>\n",
       "<thead>\n",
       "\t<tr><th></th><th scope=col>StartDate</th><th scope=col>EndDate</th><th scope=col>Status</th><th scope=col>IPAddress</th><th scope=col>Progress</th><th scope=col>Duration..in.seconds.</th><th scope=col>Finished</th><th scope=col>RecordedDate</th><th scope=col>ResponseId</th><th scope=col>RecipientLastName</th><th scope=col>⋯</th><th scope=col>worktimeArray</th><th scope=col>offTask</th><th scope=col>onTask</th><th scope=col>totalOffTask</th><th scope=col>totalOnTask</th><th scope=col>perPagePT</th><th scope=col>pageNo</th><th scope=col>assignmentId</th><th scope=col>hitId</th><th scope=col>workerId</th></tr>\n",
       "\t<tr><th></th><th scope=col>&lt;chr&gt;</th><th scope=col>&lt;chr&gt;</th><th scope=col>&lt;chr&gt;</th><th scope=col>&lt;chr&gt;</th><th scope=col>&lt;chr&gt;</th><th scope=col>&lt;chr&gt;</th><th scope=col>&lt;chr&gt;</th><th scope=col>&lt;chr&gt;</th><th scope=col>&lt;chr&gt;</th><th scope=col>&lt;chr&gt;</th><th scope=col>⋯</th><th scope=col>&lt;chr&gt;</th><th scope=col>&lt;chr&gt;</th><th scope=col>&lt;chr&gt;</th><th scope=col>&lt;chr&gt;</th><th scope=col>&lt;chr&gt;</th><th scope=col>&lt;chr&gt;</th><th scope=col>&lt;chr&gt;</th><th scope=col>&lt;chr&gt;</th><th scope=col>&lt;chr&gt;</th><th scope=col>&lt;chr&gt;</th></tr>\n",
       "</thead>\n",
       "<tbody>\n",
       "\t<tr><th scope=row>1</th><td>Start Date                                          </td><td>End Date                                          </td><td>Response Type        </td><td>IP Address              </td><td>Progress               </td><td>Duration (in seconds)  </td><td>Finished               </td><td>Recorded Date                                          </td><td>Response ID             </td><td>Recipient Last Name             </td><td>⋯</td><td>worktimeArray               </td><td>offTask               </td><td>onTask               </td><td>totalOffTask               </td><td>totalOnTask               </td><td>perPagePT               </td><td>pageNo               </td><td>assignmentId               </td><td>hitId               </td><td>workerId               </td></tr>\n",
       "\t<tr><th scope=row>2</th><td>{\"ImportId\":\"startDate\",\"timeZone\":\"America/Denver\"}</td><td>{\"ImportId\":\"endDate\",\"timeZone\":\"America/Denver\"}</td><td>{\"ImportId\":\"status\"}</td><td>{\"ImportId\":\"ipAddress\"}</td><td>{\"ImportId\":\"progress\"}</td><td>{\"ImportId\":\"duration\"}</td><td>{\"ImportId\":\"finished\"}</td><td>{\"ImportId\":\"recordedDate\",\"timeZone\":\"America/Denver\"}</td><td>{\"ImportId\":\"_recordId\"}</td><td>{\"ImportId\":\"recipientLastName\"}</td><td>⋯</td><td>{\"ImportId\":\"worktimeArray\"}</td><td>{\"ImportId\":\"offTask\"}</td><td>{\"ImportId\":\"onTask\"}</td><td>{\"ImportId\":\"totalOffTask\"}</td><td>{\"ImportId\":\"totalOnTask\"}</td><td>{\"ImportId\":\"perPagePT\"}</td><td>{\"ImportId\":\"pageNo\"}</td><td>{\"ImportId\":\"assignmentId\"}</td><td>{\"ImportId\":\"hitId\"}</td><td>{\"ImportId\":\"workerId\"}</td></tr>\n",
       "\t<tr><th scope=row>3</th><td>2022-04-11 01:06:51                                 </td><td>2022-04-11 01:09:42                               </td><td>IP Address           </td><td>72.181.6.17             </td><td>100                    </td><td>171                    </td><td>TRUE                   </td><td>2022-04-11 01:09:42                                    </td><td>R_27Wh3u8tJVs7LKz       </td><td>                                </td><td>⋯</td><td>                            </td><td>                      </td><td>                     </td><td>                           </td><td>                          </td><td>                        </td><td>                     </td><td>                           </td><td>                    </td><td>                       </td></tr>\n",
       "\t<tr><th scope=row>4</th><td>2022-04-11 01:10:15                                 </td><td>2022-04-11 01:16:24                               </td><td>IP Address           </td><td>68.203.204.48           </td><td>100                    </td><td>368                    </td><td>TRUE                   </td><td>2022-04-11 01:16:25                                    </td><td>R_87Cuf6n8JntGGNr       </td><td>                                </td><td>⋯</td><td>                            </td><td>                      </td><td>                     </td><td>                           </td><td>                          </td><td>                        </td><td>                     </td><td>                           </td><td>                    </td><td>                       </td></tr>\n",
       "\t<tr><th scope=row>5</th><td>2022-04-11 02:05:25                                 </td><td>2022-04-11 02:17:07                               </td><td>IP Address           </td><td>45.144.113.155          </td><td>100                    </td><td>702                    </td><td>TRUE                   </td><td>2022-04-11 02:17:08                                    </td><td>R_RfRo8LFmRRVOivn       </td><td>                                </td><td>⋯</td><td>                            </td><td>                      </td><td>                     </td><td>                           </td><td>                          </td><td>                        </td><td>                     </td><td>                           </td><td>                    </td><td>                       </td></tr>\n",
       "\t<tr><th scope=row>6</th><td>2022-04-11 06:34:55                                 </td><td>2022-04-11 06:39:18                               </td><td>IP Address           </td><td>107.12.252.83           </td><td>100                    </td><td>263                    </td><td>TRUE                   </td><td>2022-04-11 06:39:19                                    </td><td>R_2CZbjiZe0IhLU35       </td><td>                                </td><td>⋯</td><td>                            </td><td>                      </td><td>                     </td><td>                           </td><td>                          </td><td>                        </td><td>                     </td><td>                           </td><td>                    </td><td>                       </td></tr>\n",
       "</tbody>\n",
       "</table>\n"
      ],
      "text/latex": [
       "A data.frame: 6 × 60\n",
       "\\begin{tabular}{r|lllllllllllllllllllll}\n",
       "  & StartDate & EndDate & Status & IPAddress & Progress & Duration..in.seconds. & Finished & RecordedDate & ResponseId & RecipientLastName & ⋯ & worktimeArray & offTask & onTask & totalOffTask & totalOnTask & perPagePT & pageNo & assignmentId & hitId & workerId\\\\\n",
       "  & <chr> & <chr> & <chr> & <chr> & <chr> & <chr> & <chr> & <chr> & <chr> & <chr> & ⋯ & <chr> & <chr> & <chr> & <chr> & <chr> & <chr> & <chr> & <chr> & <chr> & <chr>\\\\\n",
       "\\hline\n",
       "\t1 & Start Date                                           & End Date                                           & Response Type         & IP Address               & Progress                & Duration (in seconds)   & Finished                & Recorded Date                                           & Response ID              & Recipient Last Name              & ⋯ & worktimeArray                & offTask                & onTask                & totalOffTask                & totalOnTask                & perPagePT                & pageNo                & assignmentId                & hitId                & workerId               \\\\\n",
       "\t2 & \\{\"ImportId\":\"startDate\",\"timeZone\":\"America/Denver\"\\} & \\{\"ImportId\":\"endDate\",\"timeZone\":\"America/Denver\"\\} & \\{\"ImportId\":\"status\"\\} & \\{\"ImportId\":\"ipAddress\"\\} & \\{\"ImportId\":\"progress\"\\} & \\{\"ImportId\":\"duration\"\\} & \\{\"ImportId\":\"finished\"\\} & \\{\"ImportId\":\"recordedDate\",\"timeZone\":\"America/Denver\"\\} & \\{\"ImportId\":\"\\_recordId\"\\} & \\{\"ImportId\":\"recipientLastName\"\\} & ⋯ & \\{\"ImportId\":\"worktimeArray\"\\} & \\{\"ImportId\":\"offTask\"\\} & \\{\"ImportId\":\"onTask\"\\} & \\{\"ImportId\":\"totalOffTask\"\\} & \\{\"ImportId\":\"totalOnTask\"\\} & \\{\"ImportId\":\"perPagePT\"\\} & \\{\"ImportId\":\"pageNo\"\\} & \\{\"ImportId\":\"assignmentId\"\\} & \\{\"ImportId\":\"hitId\"\\} & \\{\"ImportId\":\"workerId\"\\}\\\\\n",
       "\t3 & 2022-04-11 01:06:51                                  & 2022-04-11 01:09:42                                & IP Address            & 72.181.6.17              & 100                     & 171                     & TRUE                    & 2022-04-11 01:09:42                                     & R\\_27Wh3u8tJVs7LKz        &                                  & ⋯ &                              &                        &                       &                             &                            &                          &                       &                             &                      &                        \\\\\n",
       "\t4 & 2022-04-11 01:10:15                                  & 2022-04-11 01:16:24                                & IP Address            & 68.203.204.48            & 100                     & 368                     & TRUE                    & 2022-04-11 01:16:25                                     & R\\_87Cuf6n8JntGGNr        &                                  & ⋯ &                              &                        &                       &                             &                            &                          &                       &                             &                      &                        \\\\\n",
       "\t5 & 2022-04-11 02:05:25                                  & 2022-04-11 02:17:07                                & IP Address            & 45.144.113.155           & 100                     & 702                     & TRUE                    & 2022-04-11 02:17:08                                     & R\\_RfRo8LFmRRVOivn        &                                  & ⋯ &                              &                        &                       &                             &                            &                          &                       &                             &                      &                        \\\\\n",
       "\t6 & 2022-04-11 06:34:55                                  & 2022-04-11 06:39:18                                & IP Address            & 107.12.252.83            & 100                     & 263                     & TRUE                    & 2022-04-11 06:39:19                                     & R\\_2CZbjiZe0IhLU35        &                                  & ⋯ &                              &                        &                       &                             &                            &                          &                       &                             &                      &                        \\\\\n",
       "\\end{tabular}\n"
      ],
      "text/markdown": [
       "\n",
       "A data.frame: 6 × 60\n",
       "\n",
       "| <!--/--> | StartDate &lt;chr&gt; | EndDate &lt;chr&gt; | Status &lt;chr&gt; | IPAddress &lt;chr&gt; | Progress &lt;chr&gt; | Duration..in.seconds. &lt;chr&gt; | Finished &lt;chr&gt; | RecordedDate &lt;chr&gt; | ResponseId &lt;chr&gt; | RecipientLastName &lt;chr&gt; | ⋯ ⋯ | worktimeArray &lt;chr&gt; | offTask &lt;chr&gt; | onTask &lt;chr&gt; | totalOffTask &lt;chr&gt; | totalOnTask &lt;chr&gt; | perPagePT &lt;chr&gt; | pageNo &lt;chr&gt; | assignmentId &lt;chr&gt; | hitId &lt;chr&gt; | workerId &lt;chr&gt; |\n",
       "|---|---|---|---|---|---|---|---|---|---|---|---|---|---|---|---|---|---|---|---|---|---|\n",
       "| 1 | Start Date                                           | End Date                                           | Response Type         | IP Address               | Progress                | Duration (in seconds)   | Finished                | Recorded Date                                           | Response ID              | Recipient Last Name              | ⋯ | worktimeArray                | offTask                | onTask                | totalOffTask                | totalOnTask                | perPagePT                | pageNo                | assignmentId                | hitId                | workerId                |\n",
       "| 2 | {\"ImportId\":\"startDate\",\"timeZone\":\"America/Denver\"} | {\"ImportId\":\"endDate\",\"timeZone\":\"America/Denver\"} | {\"ImportId\":\"status\"} | {\"ImportId\":\"ipAddress\"} | {\"ImportId\":\"progress\"} | {\"ImportId\":\"duration\"} | {\"ImportId\":\"finished\"} | {\"ImportId\":\"recordedDate\",\"timeZone\":\"America/Denver\"} | {\"ImportId\":\"_recordId\"} | {\"ImportId\":\"recipientLastName\"} | ⋯ | {\"ImportId\":\"worktimeArray\"} | {\"ImportId\":\"offTask\"} | {\"ImportId\":\"onTask\"} | {\"ImportId\":\"totalOffTask\"} | {\"ImportId\":\"totalOnTask\"} | {\"ImportId\":\"perPagePT\"} | {\"ImportId\":\"pageNo\"} | {\"ImportId\":\"assignmentId\"} | {\"ImportId\":\"hitId\"} | {\"ImportId\":\"workerId\"} |\n",
       "| 3 | 2022-04-11 01:06:51                                  | 2022-04-11 01:09:42                                | IP Address            | 72.181.6.17              | 100                     | 171                     | TRUE                    | 2022-04-11 01:09:42                                     | R_27Wh3u8tJVs7LKz        | <!----> | ⋯ | <!----> | <!----> | <!----> | <!----> | <!----> | <!----> | <!----> | <!----> | <!----> | <!----> |\n",
       "| 4 | 2022-04-11 01:10:15                                  | 2022-04-11 01:16:24                                | IP Address            | 68.203.204.48            | 100                     | 368                     | TRUE                    | 2022-04-11 01:16:25                                     | R_87Cuf6n8JntGGNr        | <!----> | ⋯ | <!----> | <!----> | <!----> | <!----> | <!----> | <!----> | <!----> | <!----> | <!----> | <!----> |\n",
       "| 5 | 2022-04-11 02:05:25                                  | 2022-04-11 02:17:07                                | IP Address            | 45.144.113.155           | 100                     | 702                     | TRUE                    | 2022-04-11 02:17:08                                     | R_RfRo8LFmRRVOivn        | <!----> | ⋯ | <!----> | <!----> | <!----> | <!----> | <!----> | <!----> | <!----> | <!----> | <!----> | <!----> |\n",
       "| 6 | 2022-04-11 06:34:55                                  | 2022-04-11 06:39:18                                | IP Address            | 107.12.252.83            | 100                     | 263                     | TRUE                    | 2022-04-11 06:39:19                                     | R_2CZbjiZe0IhLU35        | <!----> | ⋯ | <!----> | <!----> | <!----> | <!----> | <!----> | <!----> | <!----> | <!----> | <!----> | <!----> |\n",
       "\n"
      ],
      "text/plain": [
       "  StartDate                                           \n",
       "1 Start Date                                          \n",
       "2 {\"ImportId\":\"startDate\",\"timeZone\":\"America/Denver\"}\n",
       "3 2022-04-11 01:06:51                                 \n",
       "4 2022-04-11 01:10:15                                 \n",
       "5 2022-04-11 02:05:25                                 \n",
       "6 2022-04-11 06:34:55                                 \n",
       "  EndDate                                            Status               \n",
       "1 End Date                                           Response Type        \n",
       "2 {\"ImportId\":\"endDate\",\"timeZone\":\"America/Denver\"} {\"ImportId\":\"status\"}\n",
       "3 2022-04-11 01:09:42                                IP Address           \n",
       "4 2022-04-11 01:16:24                                IP Address           \n",
       "5 2022-04-11 02:17:07                                IP Address           \n",
       "6 2022-04-11 06:39:18                                IP Address           \n",
       "  IPAddress                Progress                Duration..in.seconds.  \n",
       "1 IP Address               Progress                Duration (in seconds)  \n",
       "2 {\"ImportId\":\"ipAddress\"} {\"ImportId\":\"progress\"} {\"ImportId\":\"duration\"}\n",
       "3 72.181.6.17              100                     171                    \n",
       "4 68.203.204.48            100                     368                    \n",
       "5 45.144.113.155           100                     702                    \n",
       "6 107.12.252.83            100                     263                    \n",
       "  Finished               \n",
       "1 Finished               \n",
       "2 {\"ImportId\":\"finished\"}\n",
       "3 TRUE                   \n",
       "4 TRUE                   \n",
       "5 TRUE                   \n",
       "6 TRUE                   \n",
       "  RecordedDate                                           \n",
       "1 Recorded Date                                          \n",
       "2 {\"ImportId\":\"recordedDate\",\"timeZone\":\"America/Denver\"}\n",
       "3 2022-04-11 01:09:42                                    \n",
       "4 2022-04-11 01:16:25                                    \n",
       "5 2022-04-11 02:17:08                                    \n",
       "6 2022-04-11 06:39:19                                    \n",
       "  ResponseId               RecipientLastName                ⋯\n",
       "1 Response ID              Recipient Last Name              ⋯\n",
       "2 {\"ImportId\":\"_recordId\"} {\"ImportId\":\"recipientLastName\"} ⋯\n",
       "3 R_27Wh3u8tJVs7LKz                                         ⋯\n",
       "4 R_87Cuf6n8JntGGNr                                         ⋯\n",
       "5 R_RfRo8LFmRRVOivn                                         ⋯\n",
       "6 R_2CZbjiZe0IhLU35                                         ⋯\n",
       "  worktimeArray                offTask                onTask               \n",
       "1 worktimeArray                offTask                onTask               \n",
       "2 {\"ImportId\":\"worktimeArray\"} {\"ImportId\":\"offTask\"} {\"ImportId\":\"onTask\"}\n",
       "3                                                                          \n",
       "4                                                                          \n",
       "5                                                                          \n",
       "6                                                                          \n",
       "  totalOffTask                totalOnTask               \n",
       "1 totalOffTask                totalOnTask               \n",
       "2 {\"ImportId\":\"totalOffTask\"} {\"ImportId\":\"totalOnTask\"}\n",
       "3                                                       \n",
       "4                                                       \n",
       "5                                                       \n",
       "6                                                       \n",
       "  perPagePT                pageNo                assignmentId               \n",
       "1 perPagePT                pageNo                assignmentId               \n",
       "2 {\"ImportId\":\"perPagePT\"} {\"ImportId\":\"pageNo\"} {\"ImportId\":\"assignmentId\"}\n",
       "3                                                                           \n",
       "4                                                                           \n",
       "5                                                                           \n",
       "6                                                                           \n",
       "  hitId                workerId               \n",
       "1 hitId                workerId               \n",
       "2 {\"ImportId\":\"hitId\"} {\"ImportId\":\"workerId\"}\n",
       "3                                             \n",
       "4                                             \n",
       "5                                             \n",
       "6                                             "
      ]
     },
     "metadata": {},
     "output_type": "display_data"
    },
    {
     "data": {
      "text/html": [
       "14"
      ],
      "text/latex": [
       "14"
      ],
      "text/markdown": [
       "14"
      ],
      "text/plain": [
       "[1] 14"
      ]
     },
     "metadata": {},
     "output_type": "display_data"
    },
    {
     "data": {
      "text/html": [
       "11"
      ],
      "text/latex": [
       "11"
      ],
      "text/markdown": [
       "11"
      ],
      "text/plain": [
       "[1] 11"
      ]
     },
     "metadata": {},
     "output_type": "display_data"
    },
    {
     "data": {
      "text/html": [
       "10"
      ],
      "text/latex": [
       "10"
      ],
      "text/markdown": [
       "10"
      ],
      "text/plain": [
       "[1] 10"
      ]
     },
     "metadata": {},
     "output_type": "display_data"
    },
    {
     "data": {
      "text/html": [
       "1"
      ],
      "text/latex": [
       "1"
      ],
      "text/markdown": [
       "1"
      ],
      "text/plain": [
       "[1] 1"
      ]
     },
     "metadata": {},
     "output_type": "display_data"
    },
    {
     "data": {
      "image/png": "[encoded data removed]",
      "text/plain": [
       "plot without title"
      ]
     },
     "metadata": {
      "image/png": {
       "height": 420,
       "width": 420
      }
     },
     "output_type": "display_data"
    },
    {
     "data": {
      "text/html": [
       "3"
      ],
      "text/latex": [
       "3"
      ],
      "text/markdown": [
       "3"
      ],
      "text/plain": [
       "[1] 3"
      ]
     },
     "metadata": {},
     "output_type": "display_data"
    },
    {
     "data": {
      "text/html": [
       "6"
      ],
      "text/latex": [
       "6"
      ],
      "text/markdown": [
       "6"
      ],
      "text/plain": [
       "[1] 6"
      ]
     },
     "metadata": {},
     "output_type": "display_data"
    },
    {
     "data": {
      "text/html": [
       "9"
      ],
      "text/latex": [
       "9"
      ],
      "text/markdown": [
       "9"
      ],
      "text/plain": [
       "[1] 9"
      ]
     },
     "metadata": {},
     "output_type": "display_data"
    },
    {
     "data": {
      "text/html": [
       "14"
      ],
      "text/latex": [
       "14"
      ],
      "text/markdown": [
       "14"
      ],
      "text/plain": [
       "[1] 14"
      ]
     },
     "metadata": {},
     "output_type": "display_data"
    },
    {
     "name": "stderr",
     "output_type": "stream",
     "text": [
      "Warning message in mask$eval_all_mutate(quo):\n",
      "“NAs introduced by coercion”\n",
      "Warning message in mask$eval_all_mutate(quo):\n",
      "“NAs introduced by coercion”\n",
      "Warning message in mask$eval_all_mutate(quo):\n",
      "“NAs introduced by coercion”\n",
      "Warning message in mask$eval_all_mutate(quo):\n",
      "“NAs introduced by coercion”\n",
      "Warning message in mask$eval_all_mutate(quo):\n",
      "“NAs introduced by coercion”\n",
      "Warning message in mask$eval_all_mutate(quo):\n",
      "“NAs introduced by coercion”\n",
      "Warning message in mask$eval_all_mutate(quo):\n",
      "“NAs introduced by coercion”\n",
      "Warning message in mask$eval_all_mutate(quo):\n",
      "“NAs introduced by coercion”\n",
      "Warning message in mask$eval_all_mutate(quo):\n",
      "“NAs introduced by coercion”\n"
     ]
    },
    {
     "data": {
      "text/html": [
       "14"
      ],
      "text/latex": [
       "14"
      ],
      "text/markdown": [
       "14"
      ],
      "text/plain": [
       "[1] 14"
      ]
     },
     "metadata": {},
     "output_type": "display_data"
    },
    {
     "data": {
      "image/png": "[encoded data removed]",
      "text/plain": [
       "plot without title"
      ]
     },
     "metadata": {
      "image/png": {
       "height": 420,
       "width": 420
      }
     },
     "output_type": "display_data"
    }
   ],
   "source": [
    "p1 = read.csv(\"Thesis+Project+II+v6.1_April+19,+2022_15.25.csv\")\n",
    "wid1 = p1$workerId[21:length(p1$workerId)]\n",
    "t1 = p1$EndDate[21:length(p1$EndDate)]\n",
    "\n",
    "p2 = read.csv(\"Part+2+Honors+Thesis+II+v6.1_April+19,+2022_15.14.csv\")\n",
    "wid2 = p2$Q27[16:length(p2$Q27)]\n",
    "t2 = p2$EndDate[16:length(p2$EndDate)]\n",
    "\n",
    "completed = intersect(wid1,wid2)\n",
    "\n",
    "pt1 <- p1 %>% filter(workerId %in% completed) %>% select(\"EndDate\",\"Q20\",\"Q22\",\"Q23\",\"Q24\",\n",
    "                                                       \"Q229\", \"Q228\",\t\"Q235\",\t\"Q234\",\t\"Q232\",\t\"Q233\",\t\"Q230\",\t\"Q231\",\t\"Q236\",\t\"Q237\",\t\"Q238\",\t\"Q239\",\t\"Q240\",\t\"Q241\",\t\"Q242\",\t\"Q243\",\t\"Q244\",\t\"Q245\",\t\"Q246\",\t\"Q247\",\t\"Q273\",\t\"Q274\",\t\"Q280\",\t\"Q275\",\n",
    "                                                       \"Q28\",\t\"Q30_1\",\t\"Q32\",\t\"Q33\",\t\"Q281\",\t\"Q34_1\",\t\n",
    "                                                       \"Q252\",\t\"Q253\",\t\"Q254\",\t\"Q255\",\t\"Q256\",\t\"Q257\",\t\"Q258\",\t\"Q259\",\t\"Q260\",\t\"Q261\",\t\"Q262\",\t\"Q263\",\t\"Q264\",\t\"Q265\",\t\"Q266\",\t\"Q267\",\t\"Q268\",\t\"Q269\",\t\"Q270\",\t\"Q271\",\t\"Q272\",\t\"Q773\",\t\"Q774\",\t\"Q775\",\n",
    "                                                       \"Q503\",\t\"Q503\",\t\"Q504\",\t\"Q505\",\"workerId\",\"phase2.condition\",\"totalOffTask\")\n",
    "pt2 <- p2 %>% select(\"StartDate\", \"Q5_3\",\t\"Q5_7\",\t\"Q5_8\",\t\"Q5_9\",\t\"Q5_10\",\t\"Q5_12\",\t\"Q5_13\",\t\"Q5_14\",\t\"Q5_15\",\t\"Q5_19\", \n",
    "                     \"Q6_1\",\t\"Q30\", \"Q30_1\",\t\"Q8_1\",\t\"Q10_1\",\t\"Q13_1\",\t\"Q14\",\t\"Q14_1_TEXT\",\t\"Q15\",\t\"Q19_1\",\t\"Q19_2\",\t\"Q19_3\",\t\"Q26\",\t\"Q28\",\t\"Q28_2_TEXT\",\t\"Q20\",\t\"Q27\")\n",
    "clean.df <- pt1 %>% left_join(pt2, by=c(\"workerId\" = \"Q27\"))\n",
    "colnames(clean.df) <- c(\"pt1Time\",\t\"gender\",\t\"ethnicity\",\t\"edu\",\t\"major\",\n",
    "                        \"pt1_m1\",\t\"pt1_m2\",\t\"pt1_m3\",\t\"pt1_m4\",\t\"pt1_m5\",\t\"pt1_m6\",\t\"pt1_m7\",\t\"pt1_m8\",\t\"pt1_m9\",\t\"pt1_m10\",\t\"pt1_m11\",\t\"pt1_m12\",\t\"pt1_m13\",\t\"pt1_m14\",\t\"pt1_m15\",\t\"pt1_m16\",\t\"pt1_m17\",\t\"pt1_m18\",\t\"pt1_m19\",\t\"pt1_m20\",\t\"pt1_m21\",\t\"pt1_m22\",\t\"pt1_m23\",\t\"pt1_m24\",\n",
    "                        \"priorKnow\",\t\"diff_material\",\t\"GCLookup\",\t\"GCother\",\t\"GCsidebyside\",\t\"finalScorePredict\",\n",
    "                        \"pt2_m1\",\t\"pt2_m2\",\t\"pt2_m3\",\t\"pt2_m4\",\t\"pt2_m5\",\t\"pt2_m6\",\t\"pt2_m7\",\t\"pt2_m8\",\t\"pt2_m9\",\t\"pt2_m10\",\t\"pt2_m11\",\t\"pt2_m12\",\t\"pt2_m13\",\t\"pt2_m14\",\t\"pt2_m15\",\t\"pt2_m16\",\t\"pt2_m17\",\t\"pt2_m18\",\t\"pt2_m19\",\t\"pt2_m20\",\t\"pt2_m21\",\t\"pt2_m22\",\t\"pt2_m23\",\t\"pt2_m24\",\n",
    "                        \"GLookup\",\t\"Gother\",\t\"Gsidebyside\",\t\"workerId\",\t\"cond\",\t\"totalOffTask\",\n",
    "                        \"pt2Time\",\t\"a1\",\t\"a2\",\t\"a3\",\t\"a4\",\t\"a5\",\t\"a6\",\t\"a7\",\t\"a8\",\t\"a9\",\t\"a10\",\t\n",
    "                        \"diff_test\",\t\"known\",\"known_coded\",\t\"LearningStyle\",\t\"opinion_on_testlearning\",\t\"openBookExam\",\t\n",
    "                        \"Gdefault\",\t\"searchEngine\",\t\"times_searchEngine\",\"phone\",\t\"computer\",\t\"tablet\",\t\"externalAid\",\t\"studyDuringDelay\",\t\"studyDuringDelay_explain\",\t\"comments\")\n",
    "\n",
    "clean.df %>% select(\"workerId\",\"pt1Time\",\"pt2Time\") %>% write.csv(\"timeCheckFinal.csv\")\n",
    "outOfTime = c(\"A1U8VXESVQPZFJ\",\"AZXBVNZF65D8K\",\"A207MWA5U0GWA5\",\"A3Z014JO91RTM\",\"AIEGKVQ47B3FQ\",\"A1AAF0T0XWYZ94\",\"ARQ7R97434PM2\",\"A2M6585G92WX9A\",\"A1XDYW4D4B610Z\",\"AFVY38VJYS1ET\",\"AEH29A6H16ANF\",\"A351P2O6QGTCS\")\n",
    "clean.df = clean.df %>% filter(!(workerId %in% outOfTime))\n",
    "\n",
    "clean.df = clean.df %>% mutate(a1=tolower(a1),\n",
    "                               a2=tolower(a2),\n",
    "                               a3=tolower(a3),\n",
    "                               a4=tolower(a4),\n",
    "                               a5=tolower(a5),\n",
    "                               a6=tolower(a6),\n",
    "                               a7=tolower(a7),\n",
    "                               a8=tolower(a8),\n",
    "                               a9=tolower(a9),\t\n",
    "                               a10=tolower(a10)) \n",
    "\n",
    "answers = c(clean.df$a1,clean.df$a2,clean.df$a3,clean.df$a4,clean.df$a5,clean.df$a6,clean.df$a7,clean.df$a8,clean.df$a9,clean.df$a10)\n",
    "materials = c(\"studebaker\",\t\"bernoulli’s\",\t\"camelopard\",\t\"contrapposto\",\t\"gymnosperms\",\t\"thalassemia\",\t\"gum\",\t\"hovercraft\",\t\"ellipsoidal\",\t\"eukaryotes\")\n",
    "correctCharNum = nchar(materials)\n",
    "lt.counts = c(clean.df$a1.c,clean.df$a2.c,clean.df$a3.c,clean.df$a4.c,clean.df$a5.c,clean.df$a6.c,clean.df$a7.c,clean.df$a8.c,clean.df$a9.c,clean.df$a10.c)\n",
    "\n",
    "n = length(clean.df$workerId)\n",
    "\n",
    "#checking how many of the participants' answers' letters match the materials' letters\n",
    "for (j in 1:10){\n",
    "  for (i in 1:n){\n",
    "    lt.counts[n*(j-1)+i] = ct.letters(answers[n*(j-1)+i],materials[j])\n",
    "  }\n",
    "}\n",
    "clean.df = clean.df %>% mutate(a1.c=0,\n",
    "                               a2.c=0,\n",
    "                               a3.c=0,\n",
    "                               a4.c=0,\n",
    "                               a5.c=0,\n",
    "                               a6.c=0,\n",
    "                               a7.c=0,\n",
    "                               a8.c=0,\n",
    "                               a9.c=0,\t\n",
    "                               a10.c=0)\n",
    "\n",
    "clean.df = clean.df %>% mutate(a1.c=lt.counts[1:n],\n",
    "                               a2.c=lt.counts[(n+1):(2*n)],\n",
    "                               a3.c=lt.counts[(2*n+1):(3*n)],\n",
    "                               a4.c=lt.counts[(3*n+1):(4*n)],\n",
    "                               a5.c=lt.counts[(4*n+1):(5*n)],\n",
    "                               a6.c=lt.counts[(5*n+1):(6*n)],\n",
    "                               a7.c=lt.counts[(6*n+1):(7*n)],\n",
    "                               a8.c=lt.counts[(7*n+1):(8*n)],\n",
    "                               a9.c=lt.counts[(8*n+1):(9*n)],\t\n",
    "                               a10.c=lt.counts[(9*n+1):(10*n)])\n",
    "\n",
    "clean.df = clean.df %>% mutate(a1.rs = ifelse(a1.c==correctCharNum[1],1,ifelse(a1.c>correctCharNum[1]/2, 0.5, 0))) %>% \n",
    "  mutate(a2.rs = ifelse(a2.c==correctCharNum[2],1,ifelse(a2.c>correctCharNum[2]/2, 0.5, 0))) %>% \n",
    "  mutate(a3.rs = ifelse(a3.c==correctCharNum[3],1,ifelse(a3.c>correctCharNum[3]/2, 0.5, 0))) %>% \n",
    "  mutate(a4.rs = ifelse(a4.c==correctCharNum[4],1,ifelse(a4.c>correctCharNum[4]/2, 0.5, 0))) %>%\n",
    "  mutate(a5.rs = ifelse(a5.c==correctCharNum[5],1,ifelse(a5.c>correctCharNum[5]/2, 0.5, 0))) %>% \n",
    "  mutate(a6.rs = ifelse(a6.c==correctCharNum[6],1,ifelse(a6.c>correctCharNum[6]/2, 0.5, 0))) %>% \n",
    "  mutate(a7.rs = ifelse(a7.c==correctCharNum[7],1,ifelse(a2.c>correctCharNum[7]/2, 0.5, 0))) %>% \n",
    "  mutate(a8.rs = ifelse(a8.c==correctCharNum[8],1,ifelse(a2.c>correctCharNum[8]/2, 0.5, 0))) %>% \n",
    "  mutate(a9.rs = ifelse(a9.c==correctCharNum[9],1,ifelse(a2.c>correctCharNum[9]/2, 0.5, 0))) %>% \n",
    "  mutate(a10.rs = ifelse(a10.c==correctCharNum[10],1,ifelse(a10.c>correctCharNum[10]/2, 0.5, 0)))\n",
    "\n",
    "clean.df = clean.df %>% mutate(raw.fscore = a1.rs+a2.rs+a3.rs+a4.rs+a5.rs+a6.rs+a7.rs+a8.rs+a9.rs+a10.rs) \n",
    "\n",
    "known.coding = c(10,9,22,20,7,18,15,21,23,6)\n",
    "\n",
    "clean.df = clean.df %>% mutate(a1.o=0,\n",
    "                               a2.o=0,\n",
    "                               a3.o=0,\n",
    "                               a4.o=0,\n",
    "                               a5.o=0,\n",
    "                               a6.o=0,\n",
    "                               a7.o=0,\n",
    "                               a8.o=0,\n",
    "                               a9.o=0,\t\n",
    "                               a10.o=0)\n",
    "\n",
    "out.indicators = c(clean.df$a1.o,clean.df$a2.o,clean.df$a3.o,clean.df$a4.o,clean.df$a5.o,clean.df$a6.o,clean.df$a7.o,clean.df$a8.o,clean.df$a9.o,clean.df$a10.o)\n",
    "knowTooMuch = c()\n",
    "\n",
    "for(i in 1:length(clean.df$known_coded)){ \n",
    "  knownOnes = as.numeric(unlist(str_split(clean.df$known_coded[i], \",\")))\n",
    "  out.index = which(known.coding %in% knownOnes )\n",
    "  if(length(out.index)>4) {\n",
    "    knowTooMuch = append(knowTooMuch, clean.df$workerId[i])\n",
    "  }\n",
    "  for (j in out.index){\n",
    "    out.indicators[(j-1)*n+i] = 1\n",
    "  }\n",
    "}\n",
    "\n",
    "clean.df = clean.df %>% mutate(a1.o=out.indicators[1:n],\n",
    "                               a2.o=out.indicators[(n+1):(2*n)],\n",
    "                               a3.o=out.indicators[(2*n+1):(3*n)],\n",
    "                               a4.o=out.indicators[(3*n+1):(4*n)],\n",
    "                               a5.o=out.indicators[(4*n+1):(5*n)],\n",
    "                               a6.o=out.indicators[(5*n+1):(6*n)],\n",
    "                               a7.o=out.indicators[(6*n+1):(7*n)],\n",
    "                               a8.o=out.indicators[(7*n+1):(8*n)],\n",
    "                               a9.o=out.indicators[(8*n+1):(9*n)],\t\n",
    "                               a10.o=out.indicators[(9*n+1):(10*n)])\n",
    "\n",
    "clean.df = clean.df %>% mutate(a1.s = ifelse(a1.o==1,0,a1.rs)) %>% \n",
    "  mutate(a2.s = ifelse(a2.o>0, 0 ,a2.rs)) %>% \n",
    "  mutate(a3.s = ifelse(a3.o>0, 0 ,a3.rs)) %>% \n",
    "  mutate(a4.s = ifelse(a4.o>0, 0 ,a4.rs)) %>%\n",
    "  mutate(a5.s = ifelse(a5.o>0, 0 ,a5.rs)) %>% \n",
    "  mutate(a6.s = ifelse(a6.o>0, 0 ,a6.rs)) %>% \n",
    "  mutate(a7.s = ifelse(a7.o>0, 0 ,a7.rs)) %>% \n",
    "  mutate(a8.s = ifelse(a8.o>0, 0 ,a8.rs)) %>% \n",
    "  mutate(a9.s = ifelse(a9.o>0, 0 ,a9.rs)) %>% \n",
    "  mutate(a10.s = ifelse(a10.o>0, 0 ,a10.rs))\n",
    "\n",
    "\"/\" <- function(x,y) ifelse(y==0,0,base:::\"/\"(x,y))\n",
    "\n",
    "clean.df = clean.df %>% mutate(fscore = a1.s+a2.s+a3.s+a4.s+a5.s+a6.s+a7.s+a8.s+a9.s+a10.s, \n",
    "                               adjustedTotal = 10-(a1.o+a2.o+a3.o+a4.o+a5.o+a6.o+a7.o+a8.o+a9.o+a10.o),\n",
    "                               priorTotal = a1.o+a2.o+a3.o+a4.o+a5.o+a6.o+a7.o+a8.o+a9.o+a10.o,\n",
    "                               acc = fscore/adjustedTotal) \n",
    "clean.df %>% ggplot(aes(x=priorTotal, fill=cond)) + geom_boxplot()\n",
    "\n",
    "#exclude participants with too much prior knowledge\n",
    "clean.df = clean.df %>% filter(!(workerId %in% knowTooMuch))\n",
    "length(knowTooMuch) #14\n",
    "\n",
    "#exclude G/GC participants whose answer are not >7\n",
    "notEnoughLookupG = c()\n",
    "notEnoughLookupGC = c()\n",
    "\n",
    "Gcond = clean.df %>% filter(cond == \"G\")\n",
    "GCcond = clean.df %>% filter(cond == \"GC\") \n",
    "G.out = Gcond %>%filter(as.numeric(GLookup) <= 7) %>% select(workerId)\n",
    "GC.out = GCcond %>% filter(as.numeric(GCLookup) <= 7) %>% select(workerId)\n",
    "for (i in G.out) {\n",
    "  notEnoughLookupG = append(i, notEnoughLookupG)\n",
    "}\n",
    "\n",
    "for (i in GC.out) {\n",
    "  notEnoughLookupGC = append(i, notEnoughLookupGC)\n",
    "}\n",
    "\n",
    "clean.df = clean.df %>% filter(!(workerId %in% notEnoughLookupG)) %>% filter(!(workerId %in% notEnoughLookupGC))\n",
    "length(notEnoughLookupG) #11\n",
    "length(notEnoughLookupGC) #10\n",
    "\n",
    "#exclude used external aid\n",
    "aided = c()\n",
    "aid.out = clean.df %>% filter(externalAid == \"Yes\") %>% select(workerId)\n",
    "for (i in aid.out) {\n",
    "  aided = append(i, aided)\n",
    "}\n",
    "clean.df = clean.df %>% filter(!(workerId %in% aided))\n",
    "length(aided) #1\n",
    "\n",
    "#exclude outlier offTask time\n",
    "ggplot(clean.df, aes(x=as.numeric(totalOffTask), fill = cond)) + geom_boxplot()\n",
    "Gcond = clean.df %>% filter(cond == \"G\")\n",
    "GCcond = clean.df %>% filter(cond == \"GC\")\n",
    "Tcond = clean.df %>% filter(cond == \"test\")\n",
    "Rcond = clean.df %>% filter(cond == \"restudy\")\n",
    "\n",
    "GoffTask.out = boxplot.stats(as.numeric(Gcond$totalOffTask))$out\n",
    "GCoffTask.out = boxplot.stats(as.numeric(GCcond$totalOffTask))$out\n",
    "ToffTask.out = boxplot.stats(as.numeric(Tcond$totalOffTask))$out\n",
    "RoffTask.out = boxplot.stats(as.numeric(Rcond$totalOffTask))$out\n",
    "\n",
    "off.g = Gcond %>% filter(as.numeric(totalOffTask) %in% GoffTask.out) %>% select(workerId)\n",
    "off.gc = GCcond %>% filter(as.numeric(totalOffTask) %in% GCoffTask.out) %>% select(workerId)\n",
    "off.t = Tcond %>% filter(as.numeric(totalOffTask) %in% ToffTask.out) %>% select(workerId)\n",
    "off.r = Rcond %>% filter(as.numeric(totalOffTask) %in% RoffTask.out) %>% select(workerId)\n",
    "\n",
    "outliers = findOutWorkerId(off.g)\n",
    "length(outliers) #3\n",
    "outliers = append(outliers, findOutWorkerId(off.gc))\n",
    "length(outliers) #3\n",
    "outliers = append(outliers, findOutWorkerId(off.t))\n",
    "length(outliers) #3\n",
    "outliers = append(outliers, findOutWorkerId(off.r))\n",
    "length(outliers) #5\n",
    "\n",
    "clean.df = clean.df %>% filter(!(workerId %in% outliers)) %>% \n",
    "  mutate_at(c(\"finalScorePredict\",\"diff_material\", \"times_searchEngine\",\n",
    "              \"phone\", \"computer\", \"tablet\", \n",
    "              \"pt2_m1\",\t\"pt2_m2\",\t\"pt2_m3\",\t\"pt2_m4\",\t\"pt2_m5\",\t\"pt2_m6\",\t\"pt2_m7\",\t\"pt2_m8\",\t\"pt2_m9\",\t\"pt2_m10\",\t\"pt2_m11\",\t\"pt2_m12\",\t\"pt2_m13\",\t\"pt2_m14\",\t\"pt2_m15\",\t\"pt2_m16\",\t\"pt2_m17\",\t\"pt2_m18\",\t\"pt2_m19\",\t\"pt2_m20\",\t\"pt2_m21\",\t\"pt2_m22\",\t\"pt2_m23\",\t\"pt2_m24\",\n",
    "              \"pt1_m1\",\t\"pt1_m2\",\t\"pt1_m3\",\t\"pt1_m4\",\t\"pt1_m5\",\t\"pt1_m6\",\t\"pt1_m7\",\t\"pt1_m8\",\t\"pt1_m9\",\t\"pt1_m10\",\t\"pt1_m11\",\t\"pt1_m12\",\t\"pt1_m13\",\t\"pt1_m14\",\t\"pt1_m15\",\t\"pt1_m16\",\t\"pt1_m17\",\t\"pt1_m18\",\t\"pt1_m19\",\t\"pt1_m20\",\t\"pt1_m21\",\t\"pt1_m22\",\t\"pt1_m23\",\t\"pt1_m24\"),\n",
    "            as.numeric)\n",
    "\n",
    "clean.df$times_searchEngine[is.na(clean.df$times_searchEngine)] <- 7.5\n",
    "length(outliers) #14\n",
    "\n",
    "#add var for sum of math questions answered for each part\n",
    "clean.df = mutate(clean.df, pt1A = rowSums(!is.na(select(clean.df, c(\"pt1_m1\",\t\"pt1_m2\",\t\"pt1_m3\",\t\"pt1_m4\",\t\"pt1_m5\",\t\"pt1_m6\",\t\"pt1_m7\",\t\"pt1_m8\",\t\"pt1_m9\",\t\"pt1_m10\",\t\"pt1_m11\",\t\"pt1_m12\",\t\"pt1_m13\",\t\"pt1_m14\",\t\"pt1_m15\",\t\"pt1_m16\",\t\"pt1_m17\",\t\"pt1_m18\",\t\"pt1_m19\",\t\"pt1_m20\",\t\"pt1_m21\",\t\"pt1_m22\",\t\"pt1_m23\",\t\"pt1_m24\")))))\n",
    "clean.df = mutate(clean.df, pt2A = rowSums(!is.na(select(clean.df, c(\"pt2_m1\",\t\"pt2_m2\",\t\"pt2_m3\",\t\"pt2_m4\",\t\"pt2_m5\",\t\"pt2_m6\",\t\"pt2_m7\",\t\"pt2_m8\",\t\"pt2_m9\",\t\"pt2_m10\",\t\"pt2_m11\",\t\"pt2_m12\",\t\"pt2_m13\",\t\"pt2_m14\",\t\"pt2_m15\",\t\"pt2_m16\",\t\"pt2_m17\",\t\"pt2_m18\",\t\"pt2_m19\",\t\"pt2_m20\",\t\"pt2_m21\",\t\"pt2_m22\",\t\"pt2_m23\",\t\"pt2_m24\")))))\n",
    "\n",
    "write.csv(clean.df, \"cleanreadyforA.csv\")"
   ]
  },
  {
   "cell_type": "code",
   "execution_count": 6,
   "id": "2a97102a",
   "metadata": {},
   "outputs": [
    {
     "data": {
      "text/plain": [
       "            Df Sum Sq Mean Sq F value Pr(>F)\n",
       "cond         3  0.053 0.01765   0.278  0.841\n",
       "Residuals   99  6.280 0.06344               "
      ]
     },
     "metadata": {},
     "output_type": "display_data"
    },
    {
     "data": {
      "image/png": "[encoded data removed]",
      "text/plain": [
       "plot without title"
      ]
     },
     "metadata": {
      "image/png": {
       "height": 420,
       "width": 420
      }
     },
     "output_type": "display_data"
    },
    {
     "data": {
      "text/plain": [
       "\n",
       "\tWelch Two Sample t-test\n",
       "\n",
       "data:  Googlecond$acc and Rcond$acc\n",
       "t = -0.062415, df = 62.741, p-value = 0.9504\n",
       "alternative hypothesis: true difference in means is not equal to 0\n",
       "95 percent confidence interval:\n",
       " -0.1254151  0.1178187\n",
       "sample estimates:\n",
       "mean of x mean of y \n",
       "0.4372024 0.4410006 \n"
      ]
     },
     "metadata": {},
     "output_type": "display_data"
    },
    {
     "data": {
      "text/plain": [
       "\n",
       "\tWelch Two Sample t-test\n",
       "\n",
       "data:  Tcond$acc and Googlecond$acc\n",
       "t = 0.85216, df = 71.758, p-value = 0.397\n",
       "alternative hypothesis: true difference in means is not equal to 0\n",
       "95 percent confidence interval:\n",
       " -0.06696042  0.16694238\n",
       "sample estimates:\n",
       "mean of x mean of y \n",
       "0.4871934 0.4372024 \n"
      ]
     },
     "metadata": {},
     "output_type": "display_data"
    },
    {
     "data": {
      "text/html": [
       "0.267854975005925"
      ],
      "text/latex": [
       "0.267854975005925"
      ],
      "text/markdown": [
       "0.267854975005925"
      ],
      "text/plain": [
       "[1] 0.267855"
      ]
     },
     "metadata": {},
     "output_type": "display_data"
    },
    {
     "data": {
      "text/html": [
       "0.236345238199409"
      ],
      "text/latex": [
       "0.236345238199409"
      ],
      "text/markdown": [
       "0.236345238199409"
      ],
      "text/plain": [
       "[1] 0.2363452"
      ]
     },
     "metadata": {},
     "output_type": "display_data"
    },
    {
     "data": {
      "text/html": [
       "0.239157888684497"
      ],
      "text/latex": [
       "0.239157888684497"
      ],
      "text/markdown": [
       "0.239157888684497"
      ],
      "text/plain": [
       "[1] 0.2391579"
      ]
     },
     "metadata": {},
     "output_type": "display_data"
    },
    {
     "data": {
      "text/plain": [
       "\n",
       "\tWelch Two Sample t-test\n",
       "\n",
       "data:  Gcond$acc and RESTcond$acc\n",
       "t = -0.3476, df = 31.613, p-value = 0.7304\n",
       "alternative hypothesis: true difference in means is not equal to 0\n",
       "95 percent confidence interval:\n",
       " -0.1494922  0.1059265\n",
       "sample estimates:\n",
       "mean of x mean of y \n",
       "0.4371212 0.4589041 \n"
      ]
     },
     "metadata": {},
     "output_type": "display_data"
    },
    {
     "data": {
      "text/html": [
       "0.264400847655868"
      ],
      "text/latex": [
       "0.264400847655868"
      ],
      "text/markdown": [
       "0.264400847655868"
      ],
      "text/plain": [
       "[1] 0.2644008"
      ]
     },
     "metadata": {},
     "output_type": "display_data"
    },
    {
     "data": {
      "text/html": [
       "0.246392537364937"
      ],
      "text/latex": [
       "0.246392537364937"
      ],
      "text/markdown": [
       "0.246392537364937"
      ],
      "text/plain": [
       "[1] 0.2463925"
      ]
     },
     "metadata": {},
     "output_type": "display_data"
    },
    {
     "data": {
      "text/plain": [
       "\n",
       "\tWelch Two Sample t-test\n",
       "\n",
       "data:  Googlecond$acc and Restcond$acc\n",
       "t = -0.56143, df = 81.032, p-value = 0.5761\n",
       "alternative hypothesis: true difference in means is not equal to 0\n",
       "95 percent confidence interval:\n",
       " -0.13081031  0.07323484\n",
       "sample estimates:\n",
       "mean of x mean of y \n",
       "0.4372024 0.4659901 \n"
      ]
     },
     "metadata": {},
     "output_type": "display_data"
    },
    {
     "data": {
      "text/html": [
       "0.267854975005925"
      ],
      "text/latex": [
       "0.267854975005925"
      ],
      "text/markdown": [
       "0.267854975005925"
      ],
      "text/plain": [
       "[1] 0.267855"
      ]
     },
     "metadata": {},
     "output_type": "display_data"
    },
    {
     "data": {
      "text/html": [
       "0.237023354369606"
      ],
      "text/latex": [
       "0.237023354369606"
      ],
      "text/markdown": [
       "0.237023354369606"
      ],
      "text/plain": [
       "[1] 0.2370234"
      ]
     },
     "metadata": {},
     "output_type": "display_data"
    },
    {
     "data": {
      "text/plain": [
       "\n",
       "\tWelch Two Sample t-test\n",
       "\n",
       "data:  Tcond$acc and noTcond$acc\n",
       "t = 0.68157, df = 56.004, p-value = 0.4983\n",
       "alternative hypothesis: true difference in means is not equal to 0\n",
       "95 percent confidence interval:\n",
       " -0.06387947  0.12976334\n",
       "sample estimates:\n",
       "mean of x mean of y \n",
       "0.4871934 0.4542514 \n"
      ]
     },
     "metadata": {},
     "output_type": "display_data"
    },
    {
     "data": {
      "text/html": [
       "0.239157888684497"
      ],
      "text/latex": [
       "0.239157888684497"
      ],
      "text/markdown": [
       "0.239157888684497"
      ],
      "text/plain": [
       "[1] 0.2391579"
      ]
     },
     "metadata": {},
     "output_type": "display_data"
    },
    {
     "data": {
      "text/html": [
       "0.249175419800469"
      ],
      "text/latex": [
       "0.249175419800469"
      ],
      "text/markdown": [
       "0.249175419800469"
      ],
      "text/plain": [
       "[1] 0.2491754"
      ]
     },
     "metadata": {},
     "output_type": "display_data"
    },
    {
     "name": "stderr",
     "output_type": "stream",
     "text": [
      "Warning message in cbind(parts$left, ellip_h, parts$right, deparse.level = 0L):\n",
      "“number of rows of result is not a multiple of vector length (arg 2)”\n",
      "Warning message in cbind(parts$left, ellip_h, parts$right, deparse.level = 0L):\n",
      "“number of rows of result is not a multiple of vector length (arg 2)”\n",
      "Warning message in cbind(parts$left, ellip_h, parts$right, deparse.level = 0L):\n",
      "“number of rows of result is not a multiple of vector length (arg 2)”\n",
      "Warning message in cbind(parts$left, ellip_h, parts$right, deparse.level = 0L):\n",
      "“number of rows of result is not a multiple of vector length (arg 2)”\n"
     ]
    },
    {
     "data": {
      "text/html": [
       "<table class=\"dataframe\">\n",
       "<caption>A data.frame: 0 × 141</caption>\n",
       "<thead>\n",
       "\t<tr><th scope=col>cond</th><th scope=col>pt1Time</th><th scope=col>gender</th><th scope=col>ethnicity</th><th scope=col>edu</th><th scope=col>major</th><th scope=col>pt1_m1</th><th scope=col>pt1_m2</th><th scope=col>pt1_m3</th><th scope=col>pt1_m4</th><th scope=col>⋯</th><th scope=col>a9.s</th><th scope=col>a10.s</th><th scope=col>fscore</th><th scope=col>adjustedTotal</th><th scope=col>priorTotal</th><th scope=col>acc</th><th scope=col>pt1A</th><th scope=col>pt2A</th><th scope=col>is.outlier</th><th scope=col>is.extreme</th></tr>\n",
       "\t<tr><th scope=col>&lt;chr&gt;</th><th scope=col>&lt;chr&gt;</th><th scope=col>&lt;chr&gt;</th><th scope=col>&lt;chr&gt;</th><th scope=col>&lt;chr&gt;</th><th scope=col>&lt;chr&gt;</th><th scope=col>&lt;dbl&gt;</th><th scope=col>&lt;dbl&gt;</th><th scope=col>&lt;dbl&gt;</th><th scope=col>&lt;dbl&gt;</th><th scope=col>⋯</th><th scope=col>&lt;dbl&gt;</th><th scope=col>&lt;dbl&gt;</th><th scope=col>&lt;dbl&gt;</th><th scope=col>&lt;dbl&gt;</th><th scope=col>&lt;dbl&gt;</th><th scope=col>&lt;dbl&gt;</th><th scope=col>&lt;dbl&gt;</th><th scope=col>&lt;dbl&gt;</th><th scope=col>&lt;lgl&gt;</th><th scope=col>&lt;lgl&gt;</th></tr>\n",
       "</thead>\n",
       "<tbody>\n",
       "</tbody>\n",
       "</table>\n"
      ],
      "text/latex": [
       "A data.frame: 0 × 141\n",
       "\\begin{tabular}{lllllllllllllllllllll}\n",
       " cond & pt1Time & gender & ethnicity & edu & major & pt1\\_m1 & pt1\\_m2 & pt1\\_m3 & pt1\\_m4 & ⋯ & a9.s & a10.s & fscore & adjustedTotal & priorTotal & acc & pt1A & pt2A & is.outlier & is.extreme\\\\\n",
       " <chr> & <chr> & <chr> & <chr> & <chr> & <chr> & <dbl> & <dbl> & <dbl> & <dbl> & ⋯ & <dbl> & <dbl> & <dbl> & <dbl> & <dbl> & <dbl> & <dbl> & <dbl> & <lgl> & <lgl>\\\\\n",
       "\\hline\n",
       "\\end{tabular}\n"
      ],
      "text/markdown": [
       "\n",
       "A data.frame: 0 × 141\n",
       "\n",
       "| cond &lt;chr&gt; | pt1Time &lt;chr&gt; | gender &lt;chr&gt; | ethnicity &lt;chr&gt; | edu &lt;chr&gt; | major &lt;chr&gt; | pt1_m1 &lt;dbl&gt; | pt1_m2 &lt;dbl&gt; | pt1_m3 &lt;dbl&gt; | pt1_m4 &lt;dbl&gt; | ⋯ ⋯ | a9.s &lt;dbl&gt; | a10.s &lt;dbl&gt; | fscore &lt;dbl&gt; | adjustedTotal &lt;dbl&gt; | priorTotal &lt;dbl&gt; | acc &lt;dbl&gt; | pt1A &lt;dbl&gt; | pt2A &lt;dbl&gt; | is.outlier &lt;lgl&gt; | is.extreme &lt;lgl&gt; |\n",
       "|---|---|---|---|---|---|---|---|---|---|---|---|---|---|---|---|---|---|---|---|---|\n",
       "\n"
      ],
      "text/plain": [
       "     cond pt1Time gender ethnicity edu major pt1_m1 pt1_m2 pt1_m3 pt1_m4 ⋯ a9.s\n",
       "     a10.s fscore adjustedTotal priorTotal acc pt1A pt2A is.outlier is.extreme"
      ]
     },
     "metadata": {},
     "output_type": "display_data"
    },
    {
     "data": {
      "text/html": [
       "<table class=\"dataframe\">\n",
       "<caption>A tibble: 4 × 4</caption>\n",
       "<thead>\n",
       "\t<tr><th scope=col>cond</th><th scope=col>variable</th><th scope=col>statistic</th><th scope=col>p</th></tr>\n",
       "\t<tr><th scope=col>&lt;chr&gt;</th><th scope=col>&lt;chr&gt;</th><th scope=col>&lt;dbl&gt;</th><th scope=col>&lt;dbl&gt;</th></tr>\n",
       "</thead>\n",
       "<tbody>\n",
       "\t<tr><td>G      </td><td>acc</td><td>0.9407575</td><td>0.20517580</td></tr>\n",
       "\t<tr><td>GC     </td><td>acc</td><td>0.9481221</td><td>0.33948297</td></tr>\n",
       "\t<tr><td>restudy</td><td>acc</td><td>0.9302665</td><td>0.06261155</td></tr>\n",
       "\t<tr><td>test   </td><td>acc</td><td>0.9492735</td><td>0.12669528</td></tr>\n",
       "</tbody>\n",
       "</table>\n"
      ],
      "text/latex": [
       "A tibble: 4 × 4\n",
       "\\begin{tabular}{llll}\n",
       " cond & variable & statistic & p\\\\\n",
       " <chr> & <chr> & <dbl> & <dbl>\\\\\n",
       "\\hline\n",
       "\t G       & acc & 0.9407575 & 0.20517580\\\\\n",
       "\t GC      & acc & 0.9481221 & 0.33948297\\\\\n",
       "\t restudy & acc & 0.9302665 & 0.06261155\\\\\n",
       "\t test    & acc & 0.9492735 & 0.12669528\\\\\n",
       "\\end{tabular}\n"
      ],
      "text/markdown": [
       "\n",
       "A tibble: 4 × 4\n",
       "\n",
       "| cond &lt;chr&gt; | variable &lt;chr&gt; | statistic &lt;dbl&gt; | p &lt;dbl&gt; |\n",
       "|---|---|---|---|\n",
       "| G       | acc | 0.9407575 | 0.20517580 |\n",
       "| GC      | acc | 0.9481221 | 0.33948297 |\n",
       "| restudy | acc | 0.9302665 | 0.06261155 |\n",
       "| test    | acc | 0.9492735 | 0.12669528 |\n",
       "\n"
      ],
      "text/plain": [
       "  cond    variable statistic p         \n",
       "1 G       acc      0.9407575 0.20517580\n",
       "2 GC      acc      0.9481221 0.33948297\n",
       "3 restudy acc      0.9302665 0.06261155\n",
       "4 test    acc      0.9492735 0.12669528"
      ]
     },
     "metadata": {},
     "output_type": "display_data"
    },
    {
     "name": "stderr",
     "output_type": "stream",
     "text": [
      "Warning message in leveneTest.default(y = y, group = group, ...):\n",
      "“group coerced to factor.”\n"
     ]
    },
    {
     "data": {
      "text/html": [
       "<table class=\"dataframe\">\n",
       "<caption>A tibble: 1 × 4</caption>\n",
       "<thead>\n",
       "\t<tr><th scope=col>df1</th><th scope=col>df2</th><th scope=col>statistic</th><th scope=col>p</th></tr>\n",
       "\t<tr><th scope=col>&lt;int&gt;</th><th scope=col>&lt;int&gt;</th><th scope=col>&lt;dbl&gt;</th><th scope=col>&lt;dbl&gt;</th></tr>\n",
       "</thead>\n",
       "<tbody>\n",
       "\t<tr><td>3</td><td>99</td><td>0.3331964</td><td>0.801355</td></tr>\n",
       "</tbody>\n",
       "</table>\n"
      ],
      "text/latex": [
       "A tibble: 1 × 4\n",
       "\\begin{tabular}{llll}\n",
       " df1 & df2 & statistic & p\\\\\n",
       " <int> & <int> & <dbl> & <dbl>\\\\\n",
       "\\hline\n",
       "\t 3 & 99 & 0.3331964 & 0.801355\\\\\n",
       "\\end{tabular}\n"
      ],
      "text/markdown": [
       "\n",
       "A tibble: 1 × 4\n",
       "\n",
       "| df1 &lt;int&gt; | df2 &lt;int&gt; | statistic &lt;dbl&gt; | p &lt;dbl&gt; |\n",
       "|---|---|---|---|\n",
       "| 3 | 99 | 0.3331964 | 0.801355 |\n",
       "\n"
      ],
      "text/plain": [
       "  df1 df2 statistic p       \n",
       "1 3   99  0.3331964 0.801355"
      ]
     },
     "metadata": {},
     "output_type": "display_data"
    },
    {
     "data": {
      "text/plain": [
       "\n",
       "\tTwo Sample t-test\n",
       "\n",
       "data:  Gcond$acc and GCcond$acc\n",
       "t = -0.0020345, df = 40, p-value = 0.9984\n",
       "alternative hypothesis: true difference in means is not equal to 0\n",
       "95 percent confidence interval:\n",
       " -0.1695038  0.1691629\n",
       "sample estimates:\n",
       "mean of x mean of y \n",
       "0.4371212 0.4372917 \n"
      ]
     },
     "metadata": {},
     "output_type": "display_data"
    },
    {
     "data": {
      "text/plain": [
       "\n",
       "\tTwo Sample t-test\n",
       "\n",
       "data:  Gcond$acc and Tcond$acc\n",
       "t = -0.72924, df = 53, p-value = 0.4691\n",
       "alternative hypothesis: true difference in means is not equal to 0\n",
       "95 percent confidence interval:\n",
       " -0.18779295  0.08764865\n",
       "sample estimates:\n",
       "mean of x mean of y \n",
       "0.4371212 0.4871934 \n"
      ]
     },
     "metadata": {},
     "output_type": "display_data"
    },
    {
     "data": {
      "text/plain": [
       "\n",
       "\tTwo Sample t-test\n",
       "\n",
       "data:  Gcond$acc and Rcond$acc\n",
       "t = -0.054683, df = 48, p-value = 0.9566\n",
       "alternative hypothesis: true difference in means is not equal to 0\n",
       "95 percent confidence interval:\n",
       " -0.1465198  0.1387611\n",
       "sample estimates:\n",
       "mean of x mean of y \n",
       "0.4371212 0.4410006 \n"
      ]
     },
     "metadata": {},
     "output_type": "display_data"
    },
    {
     "data": {
      "text/plain": [
       "\n",
       "\tTwo Sample t-test\n",
       "\n",
       "data:  GCcond$acc and Tcond$acc\n",
       "t = -0.69187, df = 51, p-value = 0.4922\n",
       "alternative hypothesis: true difference in means is not equal to 0\n",
       "95 percent confidence interval:\n",
       " -0.19469979  0.09489639\n",
       "sample estimates:\n",
       "mean of x mean of y \n",
       "0.4372917 0.4871934 \n"
      ]
     },
     "metadata": {},
     "output_type": "display_data"
    },
    {
     "data": {
      "text/plain": [
       "\n",
       "\tTwo Sample t-test\n",
       "\n",
       "data:  GCcond$acc and Rcond$acc\n",
       "t = -0.049758, df = 46, p-value = 0.9605\n",
       "alternative hypothesis: true difference in means is not equal to 0\n",
       "95 percent confidence interval:\n",
       " -0.1537475  0.1463297\n",
       "sample estimates:\n",
       "mean of x mean of y \n",
       "0.4372917 0.4410006 \n"
      ]
     },
     "metadata": {},
     "output_type": "display_data"
    },
    {
     "data": {
      "text/plain": [
       "\n",
       "\tTwo Sample t-test\n",
       "\n",
       "data:  Tcond$acc and Rcond$acc\n",
       "t = 0.75578, df = 59, p-value = 0.4528\n",
       "alternative hypothesis: true difference in means is not equal to 0\n",
       "95 percent confidence interval:\n",
       " -0.0761064  0.1684920\n",
       "sample estimates:\n",
       "mean of x mean of y \n",
       "0.4871934 0.4410006 \n"
      ]
     },
     "metadata": {},
     "output_type": "display_data"
    },
    {
     "data": {
      "text/plain": [
       "\n",
       "Call:\n",
       "lm(formula = acc ~ cond, data = clean.df)\n",
       "\n",
       "Residuals:\n",
       "     Min       1Q   Median       3Q      Max \n",
       "-0.48719 -0.17340  0.01281  0.17399  0.45177 \n",
       "\n",
       "Coefficients:\n",
       "             Estimate Std. Error t value Pr(>|t|)    \n",
       "(Intercept) 0.4371212  0.0536974   8.140  1.2e-12 ***\n",
       "condGC      0.0001705  0.0778150   0.002    0.998    \n",
       "condrestudy 0.0038794  0.0717562   0.054    0.957    \n",
       "condtest    0.0500722  0.0693231   0.722    0.472    \n",
       "---\n",
       "Signif. codes:  0 ‘***’ 0.001 ‘**’ 0.01 ‘*’ 0.05 ‘.’ 0.1 ‘ ’ 1\n",
       "\n",
       "Residual standard error: 0.2519 on 99 degrees of freedom\n",
       "Multiple R-squared:  0.008359,\tAdjusted R-squared:  -0.02169 \n",
       "F-statistic: 0.2782 on 3 and 99 DF,  p-value: 0.841\n"
      ]
     },
     "metadata": {},
     "output_type": "display_data"
    },
    {
     "data": {
      "text/plain": [
       "\n",
       "Call:\n",
       "lm(formula = acc ~ cond + gender + ethnicity + edu + LearningStyle + \n",
       "    openBookExam + Gdefault + times_searchEngine + phone + computer + \n",
       "    tablet + pt1A + pt2A, data = clean.df)\n",
       "\n",
       "Residuals:\n",
       "    Min      1Q  Median      3Q     Max \n",
       "-0.4879 -0.1580  0.0000  0.1495  0.4703 \n",
       "\n",
       "Coefficients:\n",
       "                                                                 Estimate\n",
       "(Intercept)                                                     0.0583468\n",
       "condGC                                                          0.0367577\n",
       "condrestudy                                                     0.0017228\n",
       "condtest                                                        0.0901139\n",
       "genderMale                                                     -0.1048137\n",
       "genderNon-binary / third gender                                -0.0399230\n",
       "ethnicityBlack or African American                              0.2620647\n",
       "ethnicityHispanic or Latino                                     0.1831506\n",
       "ethnicityOther                                                  0.2359156\n",
       "ethnicityWhite                                                  0.1735011\n",
       "eduBachelor's degree                                            0.2743957\n",
       "eduDoctorate degree                                             0.3186581\n",
       "eduHigh school graduate, diploma or the equivalent (e.g., GED)  0.1269742\n",
       "eduMaster's degree                                              0.2011269\n",
       "eduSome college credit, no degree                               0.0845356\n",
       "LearningStyle1                                                  0.0026316\n",
       "LearningStyle10                                                -0.6760890\n",
       "LearningStyle2                                                 -0.0166730\n",
       "LearningStyle3                                                 -0.0753200\n",
       "LearningStyle4                                                 -0.0001908\n",
       "LearningStyle5                                                 -0.0932065\n",
       "LearningStyle6                                                 -0.1974171\n",
       "LearningStyle7                                                 -0.0907405\n",
       "LearningStyle8                                                  0.0112382\n",
       "openBookExam1                                                  -0.0252899\n",
       "openBookExam10                                                 -0.1202633\n",
       "openBookExam2                                                   0.0247571\n",
       "openBookExam3                                                   0.0613647\n",
       "openBookExam4                                                  -0.0588421\n",
       "openBookExam5                                                   0.0076635\n",
       "openBookExam6                                                  -0.0583382\n",
       "openBookExam7                                                  -0.0388386\n",
       "openBookExam8                                                  -0.3814057\n",
       "GdefaultYes                                                    -0.0682051\n",
       "times_searchEngine                                             -0.0001673\n",
       "phone                                                          -0.0098687\n",
       "computer                                                        0.0027938\n",
       "tablet                                                          0.0126645\n",
       "pt1A                                                            0.0117779\n",
       "pt2A                                                            0.0099847\n",
       "                                                               Std. Error\n",
       "(Intercept)                                                     0.2484474\n",
       "condGC                                                          0.1023227\n",
       "condrestudy                                                     0.0921325\n",
       "condtest                                                        0.0898528\n",
       "genderMale                                                      0.0620107\n",
       "genderNon-binary / third gender                                 0.2236226\n",
       "ethnicityBlack or African American                              0.1757007\n",
       "ethnicityHispanic or Latino                                     0.1526173\n",
       "ethnicityOther                                                  0.2500300\n",
       "ethnicityWhite                                                  0.0915340\n",
       "eduBachelor's degree                                            0.1154860\n",
       "eduDoctorate degree                                             0.1949716\n",
       "eduHigh school graduate, diploma or the equivalent (e.g., GED)  0.1565575\n",
       "eduMaster's degree                                              0.1283616\n",
       "eduSome college credit, no degree                               0.1395921\n",
       "LearningStyle1                                                  0.1726226\n",
       "LearningStyle10                                                 0.3336589\n",
       "LearningStyle2                                                  0.1608605\n",
       "LearningStyle3                                                  0.1494897\n",
       "LearningStyle4                                                  0.1684269\n",
       "LearningStyle5                                                  0.1487496\n",
       "LearningStyle6                                                  0.1728422\n",
       "LearningStyle7                                                  0.1704027\n",
       "LearningStyle8                                                  0.2261896\n",
       "openBookExam1                                                   0.0909229\n",
       "openBookExam10                                                  0.3609543\n",
       "openBookExam2                                                   0.1077978\n",
       "openBookExam3                                                   0.1080696\n",
       "openBookExam4                                                   0.1088913\n",
       "openBookExam5                                                   0.1461750\n",
       "openBookExam6                                                   0.1449784\n",
       "openBookExam7                                                   0.3251120\n",
       "openBookExam8                                                   0.2404353\n",
       "GdefaultYes                                                     0.1038813\n",
       "times_searchEngine                                              0.0024627\n",
       "phone                                                           0.0090816\n",
       "computer                                                        0.0099766\n",
       "tablet                                                          0.0300604\n",
       "pt1A                                                            0.0169179\n",
       "pt2A                                                            0.0158380\n",
       "                                                               t value Pr(>|t|)\n",
       "(Intercept)                                                      0.235   0.8151\n",
       "condGC                                                           0.359   0.7206\n",
       "condrestudy                                                      0.019   0.9851\n",
       "condtest                                                         1.003   0.3197\n",
       "genderMale                                                      -1.690   0.0959\n",
       "genderNon-binary / third gender                                 -0.179   0.8589\n",
       "ethnicityBlack or African American                               1.492   0.1408\n",
       "ethnicityHispanic or Latino                                      1.200   0.2346\n",
       "ethnicityOther                                                   0.944   0.3490\n",
       "ethnicityWhite                                                   1.895   0.0626\n",
       "eduBachelor's degree                                             2.376   0.0206\n",
       "eduDoctorate degree                                              1.634   0.1072\n",
       "eduHigh school graduate, diploma or the equivalent (e.g., GED)   0.811   0.4204\n",
       "eduMaster's degree                                               1.567   0.1222\n",
       "eduSome college credit, no degree                                0.606   0.5470\n",
       "LearningStyle1                                                   0.015   0.9879\n",
       "LearningStyle10                                                 -2.026   0.0470\n",
       "LearningStyle2                                                  -0.104   0.9178\n",
       "LearningStyle3                                                  -0.504   0.6161\n",
       "LearningStyle4                                                  -0.001   0.9991\n",
       "LearningStyle5                                                  -0.627   0.5332\n",
       "LearningStyle6                                                  -1.142   0.2577\n",
       "LearningStyle7                                                  -0.533   0.5962\n",
       "LearningStyle8                                                   0.050   0.9605\n",
       "openBookExam1                                                   -0.278   0.7818\n",
       "openBookExam10                                                  -0.333   0.7401\n",
       "openBookExam2                                                    0.230   0.8191\n",
       "openBookExam3                                                    0.568   0.5722\n",
       "openBookExam4                                                   -0.540   0.5908\n",
       "openBookExam5                                                    0.052   0.9584\n",
       "openBookExam6                                                   -0.402   0.6888\n",
       "openBookExam7                                                   -0.119   0.9053\n",
       "openBookExam8                                                   -1.586   0.1177\n",
       "GdefaultYes                                                     -0.657   0.5138\n",
       "times_searchEngine                                              -0.068   0.9461\n",
       "phone                                                           -1.087   0.2813\n",
       "computer                                                         0.280   0.7804\n",
       "tablet                                                           0.421   0.6750\n",
       "pt1A                                                             0.696   0.4889\n",
       "pt2A                                                             0.630   0.5307\n",
       "                                                                \n",
       "(Intercept)                                                     \n",
       "condGC                                                          \n",
       "condrestudy                                                     \n",
       "condtest                                                        \n",
       "genderMale                                                     .\n",
       "genderNon-binary / third gender                                 \n",
       "ethnicityBlack or African American                              \n",
       "ethnicityHispanic or Latino                                     \n",
       "ethnicityOther                                                  \n",
       "ethnicityWhite                                                 .\n",
       "eduBachelor's degree                                           *\n",
       "eduDoctorate degree                                             \n",
       "eduHigh school graduate, diploma or the equivalent (e.g., GED)  \n",
       "eduMaster's degree                                              \n",
       "eduSome college credit, no degree                               \n",
       "LearningStyle1                                                  \n",
       "LearningStyle10                                                *\n",
       "LearningStyle2                                                  \n",
       "LearningStyle3                                                  \n",
       "LearningStyle4                                                  \n",
       "LearningStyle5                                                  \n",
       "LearningStyle6                                                  \n",
       "LearningStyle7                                                  \n",
       "LearningStyle8                                                  \n",
       "openBookExam1                                                   \n",
       "openBookExam10                                                  \n",
       "openBookExam2                                                   \n",
       "openBookExam3                                                   \n",
       "openBookExam4                                                   \n",
       "openBookExam5                                                   \n",
       "openBookExam6                                                   \n",
       "openBookExam7                                                   \n",
       "openBookExam8                                                   \n",
       "GdefaultYes                                                     \n",
       "times_searchEngine                                              \n",
       "phone                                                           \n",
       "computer                                                        \n",
       "tablet                                                          \n",
       "pt1A                                                            \n",
       "pt2A                                                            \n",
       "---\n",
       "Signif. codes:  0 ‘***’ 0.001 ‘**’ 0.01 ‘*’ 0.05 ‘.’ 0.1 ‘ ’ 1\n",
       "\n",
       "Residual standard error: 0.2513 on 63 degrees of freedom\n",
       "Multiple R-squared:  0.3716,\tAdjusted R-squared:  -0.01739 \n",
       "F-statistic: 0.9553 on 39 and 63 DF,  p-value: 0.5537\n"
      ]
     },
     "metadata": {},
     "output_type": "display_data"
    },
    {
     "data": {
      "text/plain": [
       "Subset selection object\n",
       "Call: regsubsets.formula(acc ~ ., select(clean.df, c(acc, cond, gender, \n",
       "    ethnicity, edu, LearningStyle, openBookExam, Gdefault, times_searchEngine, \n",
       "    phone, computer, tablet, pt1A, pt2A)), nvmax = 19)\n",
       "39 Variables  (and intercept)\n",
       "                                                               Forced in\n",
       "condGC                                                             FALSE\n",
       "condrestudy                                                        FALSE\n",
       "condtest                                                           FALSE\n",
       "genderMale                                                         FALSE\n",
       "genderNon-binary / third gender                                    FALSE\n",
       "ethnicityBlack or African American                                 FALSE\n",
       "ethnicityHispanic or Latino                                        FALSE\n",
       "ethnicityOther                                                     FALSE\n",
       "ethnicityWhite                                                     FALSE\n",
       "eduBachelor's degree                                               FALSE\n",
       "eduDoctorate degree                                                FALSE\n",
       "eduHigh school graduate, diploma or the equivalent (e.g., GED)     FALSE\n",
       "eduMaster's degree                                                 FALSE\n",
       "eduSome college credit, no degree                                  FALSE\n",
       "LearningStyle1                                                     FALSE\n",
       "LearningStyle10                                                    FALSE\n",
       "LearningStyle2                                                     FALSE\n",
       "LearningStyle3                                                     FALSE\n",
       "LearningStyle4                                                     FALSE\n",
       "LearningStyle5                                                     FALSE\n",
       "LearningStyle6                                                     FALSE\n",
       "LearningStyle7                                                     FALSE\n",
       "LearningStyle8                                                     FALSE\n",
       "openBookExam1                                                      FALSE\n",
       "openBookExam10                                                     FALSE\n",
       "openBookExam2                                                      FALSE\n",
       "openBookExam3                                                      FALSE\n",
       "openBookExam4                                                      FALSE\n",
       "openBookExam5                                                      FALSE\n",
       "openBookExam6                                                      FALSE\n",
       "openBookExam7                                                      FALSE\n",
       "openBookExam8                                                      FALSE\n",
       "GdefaultYes                                                        FALSE\n",
       "times_searchEngine                                                 FALSE\n",
       "phone                                                              FALSE\n",
       "computer                                                           FALSE\n",
       "tablet                                                             FALSE\n",
       "pt1A                                                               FALSE\n",
       "pt2A                                                               FALSE\n",
       "                                                               Forced out\n",
       "condGC                                                              FALSE\n",
       "condrestudy                                                         FALSE\n",
       "condtest                                                            FALSE\n",
       "genderMale                                                          FALSE\n",
       "genderNon-binary / third gender                                     FALSE\n",
       "ethnicityBlack or African American                                  FALSE\n",
       "ethnicityHispanic or Latino                                         FALSE\n",
       "ethnicityOther                                                      FALSE\n",
       "ethnicityWhite                                                      FALSE\n",
       "eduBachelor's degree                                                FALSE\n",
       "eduDoctorate degree                                                 FALSE\n",
       "eduHigh school graduate, diploma or the equivalent (e.g., GED)      FALSE\n",
       "eduMaster's degree                                                  FALSE\n",
       "eduSome college credit, no degree                                   FALSE\n",
       "LearningStyle1                                                      FALSE\n",
       "LearningStyle10                                                     FALSE\n",
       "LearningStyle2                                                      FALSE\n",
       "LearningStyle3                                                      FALSE\n",
       "LearningStyle4                                                      FALSE\n",
       "LearningStyle5                                                      FALSE\n",
       "LearningStyle6                                                      FALSE\n",
       "LearningStyle7                                                      FALSE\n",
       "LearningStyle8                                                      FALSE\n",
       "openBookExam1                                                       FALSE\n",
       "openBookExam10                                                      FALSE\n",
       "openBookExam2                                                       FALSE\n",
       "openBookExam3                                                       FALSE\n",
       "openBookExam4                                                       FALSE\n",
       "openBookExam5                                                       FALSE\n",
       "openBookExam6                                                       FALSE\n",
       "openBookExam7                                                       FALSE\n",
       "openBookExam8                                                       FALSE\n",
       "GdefaultYes                                                         FALSE\n",
       "times_searchEngine                                                  FALSE\n",
       "phone                                                               FALSE\n",
       "computer                                                            FALSE\n",
       "tablet                                                              FALSE\n",
       "pt1A                                                                FALSE\n",
       "pt2A                                                                FALSE\n",
       "1 subsets of each size up to 19\n",
       "Selection Algorithm: exhaustive\n",
       "          condGC condrestudy condtest genderMale\n",
       "1  ( 1 )  \" \"    \" \"         \" \"      \" \"       \n",
       "2  ( 1 )  \" \"    \" \"         \" \"      \" \"       \n",
       "3  ( 1 )  \" \"    \" \"         \" \"      \" \"       \n",
       "4  ( 1 )  \" \"    \" \"         \" \"      \" \"       \n",
       "5  ( 1 )  \" \"    \" \"         \" \"      \" \"       \n",
       "6  ( 1 )  \" \"    \" \"         \" \"      \" \"       \n",
       "7  ( 1 )  \" \"    \" \"         \" \"      \" \"       \n",
       "8  ( 1 )  \" \"    \" \"         \" \"      \"*\"       \n",
       "9  ( 1 )  \" \"    \" \"         \" \"      \" \"       \n",
       "10  ( 1 ) \" \"    \" \"         \"*\"      \"*\"       \n",
       "11  ( 1 ) \" \"    \" \"         \"*\"      \"*\"       \n",
       "12  ( 1 ) \" \"    \" \"         \"*\"      \"*\"       \n",
       "13  ( 1 ) \" \"    \" \"         \"*\"      \"*\"       \n",
       "14  ( 1 ) \" \"    \" \"         \"*\"      \"*\"       \n",
       "15  ( 1 ) \" \"    \" \"         \"*\"      \"*\"       \n",
       "16  ( 1 ) \" \"    \" \"         \"*\"      \"*\"       \n",
       "17  ( 1 ) \"*\"    \" \"         \"*\"      \"*\"       \n",
       "18  ( 1 ) \"*\"    \" \"         \"*\"      \"*\"       \n",
       "19  ( 1 ) \"*\"    \" \"         \"*\"      \"*\"       \n",
       "          genderNon-binary / third gender ethnicityBlack or African American\n",
       "1  ( 1 )  \" \"                             \" \"                               \n",
       "2  ( 1 )  \" \"                             \" \"                               \n",
       "3  ( 1 )  \" \"                             \" \"                               \n",
       "4  ( 1 )  \" \"                             \" \"                               \n",
       "5  ( 1 )  \" \"                             \" \"                               \n",
       "6  ( 1 )  \" \"                             \" \"                               \n",
       "7  ( 1 )  \" \"                             \" \"                               \n",
       "8  ( 1 )  \" \"                             \" \"                               \n",
       "9  ( 1 )  \" \"                             \" \"                               \n",
       "10  ( 1 ) \" \"                             \" \"                               \n",
       "11  ( 1 ) \" \"                             \" \"                               \n",
       "12  ( 1 ) \" \"                             \" \"                               \n",
       "13  ( 1 ) \" \"                             \" \"                               \n",
       "14  ( 1 ) \" \"                             \" \"                               \n",
       "15  ( 1 ) \" \"                             \"*\"                               \n",
       "16  ( 1 ) \" \"                             \"*\"                               \n",
       "17  ( 1 ) \" \"                             \"*\"                               \n",
       "18  ( 1 ) \" \"                             \"*\"                               \n",
       "19  ( 1 ) \" \"                             \"*\"                               \n",
       "          ethnicityHispanic or Latino ethnicityOther ethnicityWhite\n",
       "1  ( 1 )  \" \"                         \" \"            \" \"           \n",
       "2  ( 1 )  \" \"                         \" \"            \" \"           \n",
       "3  ( 1 )  \" \"                         \" \"            \" \"           \n",
       "4  ( 1 )  \" \"                         \" \"            \" \"           \n",
       "5  ( 1 )  \" \"                         \" \"            \" \"           \n",
       "6  ( 1 )  \" \"                         \" \"            \"*\"           \n",
       "7  ( 1 )  \"*\"                         \" \"            \"*\"           \n",
       "8  ( 1 )  \" \"                         \" \"            \" \"           \n",
       "9  ( 1 )  \"*\"                         \" \"            \"*\"           \n",
       "10  ( 1 ) \" \"                         \" \"            \" \"           \n",
       "11  ( 1 ) \" \"                         \" \"            \" \"           \n",
       "12  ( 1 ) \" \"                         \" \"            \"*\"           \n",
       "13  ( 1 ) \" \"                         \" \"            \"*\"           \n",
       "14  ( 1 ) \" \"                         \" \"            \"*\"           \n",
       "15  ( 1 ) \"*\"                         \" \"            \"*\"           \n",
       "16  ( 1 ) \"*\"                         \" \"            \"*\"           \n",
       "17  ( 1 ) \"*\"                         \" \"            \"*\"           \n",
       "18  ( 1 ) \"*\"                         \"*\"            \"*\"           \n",
       "19  ( 1 ) \"*\"                         \"*\"            \"*\"           \n",
       "          eduBachelor's degree eduDoctorate degree\n",
       "1  ( 1 )  \" \"                  \" \"                \n",
       "2  ( 1 )  \" \"                  \" \"                \n",
       "3  ( 1 )  \" \"                  \" \"                \n",
       "4  ( 1 )  \"*\"                  \" \"                \n",
       "5  ( 1 )  \"*\"                  \" \"                \n",
       "6  ( 1 )  \"*\"                  \" \"                \n",
       "7  ( 1 )  \"*\"                  \" \"                \n",
       "8  ( 1 )  \"*\"                  \"*\"                \n",
       "9  ( 1 )  \"*\"                  \"*\"                \n",
       "10  ( 1 ) \"*\"                  \"*\"                \n",
       "11  ( 1 ) \"*\"                  \"*\"                \n",
       "12  ( 1 ) \"*\"                  \"*\"                \n",
       "13  ( 1 ) \"*\"                  \"*\"                \n",
       "14  ( 1 ) \"*\"                  \"*\"                \n",
       "15  ( 1 ) \"*\"                  \"*\"                \n",
       "16  ( 1 ) \"*\"                  \"*\"                \n",
       "17  ( 1 ) \"*\"                  \"*\"                \n",
       "18  ( 1 ) \"*\"                  \"*\"                \n",
       "19  ( 1 ) \"*\"                  \"*\"                \n",
       "          eduHigh school graduate, diploma or the equivalent (e.g., GED)\n",
       "1  ( 1 )  \" \"                                                           \n",
       "2  ( 1 )  \" \"                                                           \n",
       "3  ( 1 )  \" \"                                                           \n",
       "4  ( 1 )  \" \"                                                           \n",
       "5  ( 1 )  \" \"                                                           \n",
       "6  ( 1 )  \" \"                                                           \n",
       "7  ( 1 )  \" \"                                                           \n",
       "8  ( 1 )  \" \"                                                           \n",
       "9  ( 1 )  \" \"                                                           \n",
       "10  ( 1 ) \" \"                                                           \n",
       "11  ( 1 ) \" \"                                                           \n",
       "12  ( 1 ) \" \"                                                           \n",
       "13  ( 1 ) \" \"                                                           \n",
       "14  ( 1 ) \" \"                                                           \n",
       "15  ( 1 ) \" \"                                                           \n",
       "16  ( 1 ) \" \"                                                           \n",
       "17  ( 1 ) \" \"                                                           \n",
       "18  ( 1 ) \" \"                                                           \n",
       "19  ( 1 ) \" \"                                                           \n",
       "          eduMaster's degree eduSome college credit, no degree LearningStyle1\n",
       "1  ( 1 )  \" \"                \" \"                               \" \"           \n",
       "2  ( 1 )  \" \"                \" \"                               \" \"           \n",
       "3  ( 1 )  \" \"                \" \"                               \" \"           \n",
       "4  ( 1 )  \" \"                \" \"                               \" \"           \n",
       "5  ( 1 )  \" \"                \" \"                               \" \"           \n",
       "6  ( 1 )  \" \"                \" \"                               \" \"           \n",
       "7  ( 1 )  \" \"                \" \"                               \" \"           \n",
       "8  ( 1 )  \"*\"                \" \"                               \" \"           \n",
       "9  ( 1 )  \"*\"                \" \"                               \" \"           \n",
       "10  ( 1 ) \"*\"                \" \"                               \" \"           \n",
       "11  ( 1 ) \"*\"                \" \"                               \" \"           \n",
       "12  ( 1 ) \"*\"                \" \"                               \" \"           \n",
       "13  ( 1 ) \"*\"                \" \"                               \" \"           \n",
       "14  ( 1 ) \"*\"                \" \"                               \" \"           \n",
       "15  ( 1 ) \"*\"                \" \"                               \" \"           \n",
       "16  ( 1 ) \"*\"                \" \"                               \" \"           \n",
       "17  ( 1 ) \"*\"                \" \"                               \" \"           \n",
       "18  ( 1 ) \"*\"                \" \"                               \" \"           \n",
       "19  ( 1 ) \"*\"                \" \"                               \" \"           \n",
       "          LearningStyle10 LearningStyle2 LearningStyle3 LearningStyle4\n",
       "1  ( 1 )  \" \"             \" \"            \" \"            \" \"           \n",
       "2  ( 1 )  \" \"             \" \"            \" \"            \" \"           \n",
       "3  ( 1 )  \" \"             \" \"            \" \"            \" \"           \n",
       "4  ( 1 )  \" \"             \" \"            \" \"            \" \"           \n",
       "5  ( 1 )  \"*\"             \" \"            \" \"            \" \"           \n",
       "6  ( 1 )  \"*\"             \" \"            \" \"            \" \"           \n",
       "7  ( 1 )  \"*\"             \" \"            \" \"            \" \"           \n",
       "8  ( 1 )  \"*\"             \" \"            \" \"            \" \"           \n",
       "9  ( 1 )  \"*\"             \" \"            \" \"            \" \"           \n",
       "10  ( 1 ) \"*\"             \" \"            \" \"            \" \"           \n",
       "11  ( 1 ) \"*\"             \" \"            \" \"            \" \"           \n",
       "12  ( 1 ) \"*\"             \" \"            \" \"            \" \"           \n",
       "13  ( 1 ) \"*\"             \" \"            \" \"            \" \"           \n",
       "14  ( 1 ) \"*\"             \" \"            \"*\"            \" \"           \n",
       "15  ( 1 ) \"*\"             \" \"            \" \"            \" \"           \n",
       "16  ( 1 ) \"*\"             \" \"            \"*\"            \" \"           \n",
       "17  ( 1 ) \"*\"             \" \"            \"*\"            \" \"           \n",
       "18  ( 1 ) \"*\"             \" \"            \"*\"            \" \"           \n",
       "19  ( 1 ) \"*\"             \" \"            \"*\"            \" \"           \n",
       "          LearningStyle5 LearningStyle6 LearningStyle7 LearningStyle8\n",
       "1  ( 1 )  \" \"            \" \"            \" \"            \" \"           \n",
       "2  ( 1 )  \" \"            \" \"            \" \"            \" \"           \n",
       "3  ( 1 )  \" \"            \"*\"            \" \"            \" \"           \n",
       "4  ( 1 )  \" \"            \"*\"            \" \"            \" \"           \n",
       "5  ( 1 )  \" \"            \"*\"            \" \"            \" \"           \n",
       "6  ( 1 )  \" \"            \"*\"            \" \"            \" \"           \n",
       "7  ( 1 )  \" \"            \"*\"            \" \"            \" \"           \n",
       "8  ( 1 )  \" \"            \"*\"            \" \"            \" \"           \n",
       "9  ( 1 )  \" \"            \"*\"            \" \"            \" \"           \n",
       "10  ( 1 ) \" \"            \"*\"            \" \"            \" \"           \n",
       "11  ( 1 ) \" \"            \"*\"            \" \"            \" \"           \n",
       "12  ( 1 ) \" \"            \"*\"            \" \"            \" \"           \n",
       "13  ( 1 ) \"*\"            \"*\"            \" \"            \" \"           \n",
       "14  ( 1 ) \"*\"            \"*\"            \" \"            \" \"           \n",
       "15  ( 1 ) \"*\"            \"*\"            \" \"            \" \"           \n",
       "16  ( 1 ) \"*\"            \"*\"            \" \"            \" \"           \n",
       "17  ( 1 ) \"*\"            \"*\"            \" \"            \" \"           \n",
       "18  ( 1 ) \"*\"            \"*\"            \" \"            \" \"           \n",
       "19  ( 1 ) \"*\"            \"*\"            \" \"            \" \"           \n",
       "          openBookExam1 openBookExam10 openBookExam2 openBookExam3\n",
       "1  ( 1 )  \" \"           \" \"            \" \"           \" \"          \n",
       "2  ( 1 )  \" \"           \" \"            \" \"           \" \"          \n",
       "3  ( 1 )  \" \"           \" \"            \" \"           \" \"          \n",
       "4  ( 1 )  \" \"           \" \"            \" \"           \" \"          \n",
       "5  ( 1 )  \" \"           \" \"            \" \"           \" \"          \n",
       "6  ( 1 )  \" \"           \" \"            \" \"           \" \"          \n",
       "7  ( 1 )  \" \"           \" \"            \" \"           \" \"          \n",
       "8  ( 1 )  \" \"           \" \"            \" \"           \" \"          \n",
       "9  ( 1 )  \" \"           \" \"            \" \"           \" \"          \n",
       "10  ( 1 ) \" \"           \" \"            \" \"           \" \"          \n",
       "11  ( 1 ) \" \"           \" \"            \" \"           \"*\"          \n",
       "12  ( 1 ) \" \"           \" \"            \" \"           \"*\"          \n",
       "13  ( 1 ) \" \"           \" \"            \" \"           \"*\"          \n",
       "14  ( 1 ) \" \"           \" \"            \" \"           \"*\"          \n",
       "15  ( 1 ) \" \"           \" \"            \" \"           \"*\"          \n",
       "16  ( 1 ) \" \"           \" \"            \" \"           \"*\"          \n",
       "17  ( 1 ) \" \"           \" \"            \" \"           \"*\"          \n",
       "18  ( 1 ) \" \"           \" \"            \" \"           \"*\"          \n",
       "19  ( 1 ) \" \"           \" \"            \" \"           \"*\"          \n",
       "          openBookExam4 openBookExam5 openBookExam6 openBookExam7 openBookExam8\n",
       "1  ( 1 )  \" \"           \" \"           \" \"           \" \"           \" \"          \n",
       "2  ( 1 )  \" \"           \" \"           \" \"           \" \"           \"*\"          \n",
       "3  ( 1 )  \" \"           \" \"           \" \"           \" \"           \"*\"          \n",
       "4  ( 1 )  \" \"           \" \"           \" \"           \" \"           \"*\"          \n",
       "5  ( 1 )  \" \"           \" \"           \" \"           \" \"           \"*\"          \n",
       "6  ( 1 )  \" \"           \" \"           \" \"           \" \"           \"*\"          \n",
       "7  ( 1 )  \" \"           \" \"           \" \"           \" \"           \"*\"          \n",
       "8  ( 1 )  \" \"           \" \"           \" \"           \" \"           \"*\"          \n",
       "9  ( 1 )  \" \"           \" \"           \" \"           \" \"           \"*\"          \n",
       "10  ( 1 ) \" \"           \" \"           \" \"           \" \"           \"*\"          \n",
       "11  ( 1 ) \" \"           \" \"           \" \"           \" \"           \"*\"          \n",
       "12  ( 1 ) \" \"           \" \"           \" \"           \" \"           \"*\"          \n",
       "13  ( 1 ) \" \"           \" \"           \" \"           \" \"           \"*\"          \n",
       "14  ( 1 ) \" \"           \" \"           \" \"           \" \"           \"*\"          \n",
       "15  ( 1 ) \" \"           \" \"           \" \"           \" \"           \"*\"          \n",
       "16  ( 1 ) \" \"           \" \"           \" \"           \" \"           \"*\"          \n",
       "17  ( 1 ) \" \"           \" \"           \" \"           \" \"           \"*\"          \n",
       "18  ( 1 ) \" \"           \" \"           \" \"           \" \"           \"*\"          \n",
       "19  ( 1 ) \" \"           \" \"           \" \"           \" \"           \"*\"          \n",
       "          GdefaultYes times_searchEngine phone computer tablet pt1A pt2A\n",
       "1  ( 1 )  \" \"         \" \"                \" \"   \" \"      \" \"    \" \"  \"*\" \n",
       "2  ( 1 )  \" \"         \" \"                \" \"   \" \"      \" \"    \" \"  \"*\" \n",
       "3  ( 1 )  \" \"         \" \"                \" \"   \" \"      \" \"    \" \"  \"*\" \n",
       "4  ( 1 )  \" \"         \" \"                \" \"   \" \"      \" \"    \" \"  \"*\" \n",
       "5  ( 1 )  \" \"         \" \"                \" \"   \" \"      \" \"    \" \"  \"*\" \n",
       "6  ( 1 )  \" \"         \" \"                \" \"   \" \"      \" \"    \" \"  \"*\" \n",
       "7  ( 1 )  \" \"         \" \"                \" \"   \" \"      \" \"    \" \"  \"*\" \n",
       "8  ( 1 )  \" \"         \" \"                \" \"   \" \"      \" \"    \" \"  \"*\" \n",
       "9  ( 1 )  \" \"         \" \"                \" \"   \" \"      \" \"    \" \"  \"*\" \n",
       "10  ( 1 ) \" \"         \" \"                \"*\"   \" \"      \" \"    \"*\"  \" \" \n",
       "11  ( 1 ) \" \"         \" \"                \"*\"   \" \"      \" \"    \"*\"  \" \" \n",
       "12  ( 1 ) \" \"         \" \"                \"*\"   \" \"      \" \"    \"*\"  \" \" \n",
       "13  ( 1 ) \" \"         \" \"                \"*\"   \" \"      \" \"    \"*\"  \" \" \n",
       "14  ( 1 ) \" \"         \" \"                \"*\"   \" \"      \" \"    \"*\"  \" \" \n",
       "15  ( 1 ) \" \"         \" \"                \"*\"   \" \"      \" \"    \"*\"  \" \" \n",
       "16  ( 1 ) \" \"         \" \"                \"*\"   \" \"      \" \"    \"*\"  \" \" \n",
       "17  ( 1 ) \" \"         \" \"                \"*\"   \" \"      \" \"    \"*\"  \" \" \n",
       "18  ( 1 ) \" \"         \" \"                \"*\"   \" \"      \" \"    \"*\"  \" \" \n",
       "19  ( 1 ) \"*\"         \" \"                \"*\"   \" \"      \" \"    \"*\"  \" \" "
      ]
     },
     "metadata": {},
     "output_type": "display_data"
    },
    {
     "data": {
      "text/html": [
       "<table class=\"dataframe\">\n",
       "<caption>A data.frame: 3 × 2</caption>\n",
       "<thead>\n",
       "\t<tr><th scope=col>gender</th><th scope=col>n</th></tr>\n",
       "\t<tr><th scope=col>&lt;chr&gt;</th><th scope=col>&lt;int&gt;</th></tr>\n",
       "</thead>\n",
       "<tbody>\n",
       "\t<tr><td>Female                   </td><td>55</td></tr>\n",
       "\t<tr><td>Male                     </td><td>46</td></tr>\n",
       "\t<tr><td>Non-binary / third gender</td><td> 2</td></tr>\n",
       "</tbody>\n",
       "</table>\n"
      ],
      "text/latex": [
       "A data.frame: 3 × 2\n",
       "\\begin{tabular}{ll}\n",
       " gender & n\\\\\n",
       " <chr> & <int>\\\\\n",
       "\\hline\n",
       "\t Female                    & 55\\\\\n",
       "\t Male                      & 46\\\\\n",
       "\t Non-binary / third gender &  2\\\\\n",
       "\\end{tabular}\n"
      ],
      "text/markdown": [
       "\n",
       "A data.frame: 3 × 2\n",
       "\n",
       "| gender &lt;chr&gt; | n &lt;int&gt; |\n",
       "|---|---|\n",
       "| Female                    | 55 |\n",
       "| Male                      | 46 |\n",
       "| Non-binary / third gender |  2 |\n",
       "\n"
      ],
      "text/plain": [
       "  gender                    n \n",
       "1 Female                    55\n",
       "2 Male                      46\n",
       "3 Non-binary / third gender  2"
      ]
     },
     "metadata": {},
     "output_type": "display_data"
    },
    {
     "data": {
      "text/html": [
       "<table class=\"dataframe\">\n",
       "<caption>A data.frame: 5 × 2</caption>\n",
       "<thead>\n",
       "\t<tr><th scope=col>ethnicity</th><th scope=col>n</th></tr>\n",
       "\t<tr><th scope=col>&lt;chr&gt;</th><th scope=col>&lt;int&gt;</th></tr>\n",
       "</thead>\n",
       "<tbody>\n",
       "\t<tr><td>Asian / Pacific Islander </td><td>12</td></tr>\n",
       "\t<tr><td>Black or African American</td><td> 5</td></tr>\n",
       "\t<tr><td>Hispanic or Latino       </td><td> 6</td></tr>\n",
       "\t<tr><td>Other                    </td><td> 2</td></tr>\n",
       "\t<tr><td>White                    </td><td>78</td></tr>\n",
       "</tbody>\n",
       "</table>\n"
      ],
      "text/latex": [
       "A data.frame: 5 × 2\n",
       "\\begin{tabular}{ll}\n",
       " ethnicity & n\\\\\n",
       " <chr> & <int>\\\\\n",
       "\\hline\n",
       "\t Asian / Pacific Islander  & 12\\\\\n",
       "\t Black or African American &  5\\\\\n",
       "\t Hispanic or Latino        &  6\\\\\n",
       "\t Other                     &  2\\\\\n",
       "\t White                     & 78\\\\\n",
       "\\end{tabular}\n"
      ],
      "text/markdown": [
       "\n",
       "A data.frame: 5 × 2\n",
       "\n",
       "| ethnicity &lt;chr&gt; | n &lt;int&gt; |\n",
       "|---|---|\n",
       "| Asian / Pacific Islander  | 12 |\n",
       "| Black or African American |  5 |\n",
       "| Hispanic or Latino        |  6 |\n",
       "| Other                     |  2 |\n",
       "| White                     | 78 |\n",
       "\n"
      ],
      "text/plain": [
       "  ethnicity                 n \n",
       "1 Asian / Pacific Islander  12\n",
       "2 Black or African American  5\n",
       "3 Hispanic or Latino         6\n",
       "4 Other                      2\n",
       "5 White                     78"
      ]
     },
     "metadata": {},
     "output_type": "display_data"
    },
    {
     "data": {
      "text/html": [
       "<table class=\"dataframe\">\n",
       "<caption>A tibble: 4 × 2</caption>\n",
       "<thead>\n",
       "\t<tr><th scope=col>cond</th><th scope=col>mn.scorePredict</th></tr>\n",
       "\t<tr><th scope=col>&lt;chr&gt;</th><th scope=col>&lt;dbl&gt;</th></tr>\n",
       "</thead>\n",
       "<tbody>\n",
       "\t<tr><td>G      </td><td>5.272727</td></tr>\n",
       "\t<tr><td>GC     </td><td>5.050000</td></tr>\n",
       "\t<tr><td>restudy</td><td>5.321429</td></tr>\n",
       "\t<tr><td>test   </td><td>3.848485</td></tr>\n",
       "</tbody>\n",
       "</table>\n"
      ],
      "text/latex": [
       "A tibble: 4 × 2\n",
       "\\begin{tabular}{ll}\n",
       " cond & mn.scorePredict\\\\\n",
       " <chr> & <dbl>\\\\\n",
       "\\hline\n",
       "\t G       & 5.272727\\\\\n",
       "\t GC      & 5.050000\\\\\n",
       "\t restudy & 5.321429\\\\\n",
       "\t test    & 3.848485\\\\\n",
       "\\end{tabular}\n"
      ],
      "text/markdown": [
       "\n",
       "A tibble: 4 × 2\n",
       "\n",
       "| cond &lt;chr&gt; | mn.scorePredict &lt;dbl&gt; |\n",
       "|---|---|\n",
       "| G       | 5.272727 |\n",
       "| GC      | 5.050000 |\n",
       "| restudy | 5.321429 |\n",
       "| test    | 3.848485 |\n",
       "\n"
      ],
      "text/plain": [
       "  cond    mn.scorePredict\n",
       "1 G       5.272727       \n",
       "2 GC      5.050000       \n",
       "3 restudy 5.321429       \n",
       "4 test    3.848485       "
      ]
     },
     "metadata": {},
     "output_type": "display_data"
    },
    {
     "data": {
      "image/png": "[encoded data removed]",
      "text/plain": [
       "plot without title"
      ]
     },
     "metadata": {
      "image/png": {
       "height": 420,
       "width": 420
      }
     },
     "output_type": "display_data"
    },
    {
     "data": {
      "text/plain": [
       "\n",
       "\tWelch Two Sample t-test\n",
       "\n",
       "data:  Gcond$finalScorePredict and GCcond$finalScorePredict\n",
       "t = 0.26035, df = 39.399, p-value = 0.7959\n",
       "alternative hypothesis: true difference in means is not equal to 0\n",
       "95 percent confidence interval:\n",
       " -1.507099  1.952553\n",
       "sample estimates:\n",
       "mean of x mean of y \n",
       " 5.272727  5.050000 \n"
      ]
     },
     "metadata": {},
     "output_type": "display_data"
    },
    {
     "data": {
      "text/plain": [
       "\n",
       "\tWelch Two Sample t-test\n",
       "\n",
       "data:  Gcond$finalScorePredict and Tcond$finalScorePredict\n",
       "t = 1.8131, df = 38.543, p-value = 0.07762\n",
       "alternative hypothesis: true difference in means is not equal to 0\n",
       "95 percent confidence interval:\n",
       " -0.1652842  3.0137690\n",
       "sample estimates:\n",
       "mean of x mean of y \n",
       " 5.272727  3.848485 \n"
      ]
     },
     "metadata": {},
     "output_type": "display_data"
    },
    {
     "data": {
      "text/plain": [
       "\n",
       "\tWelch Two Sample t-test\n",
       "\n",
       "data:  Gcond$finalScorePredict and Rcond$finalScorePredict\n",
       "t = -0.061331, df = 38.686, p-value = 0.9514\n",
       "alternative hypothesis: true difference in means is not equal to 0\n",
       "95 percent confidence interval:\n",
       " -1.655291  1.557889\n",
       "sample estimates:\n",
       "mean of x mean of y \n",
       " 5.272727  5.321429 \n"
      ]
     },
     "metadata": {},
     "output_type": "display_data"
    },
    {
     "data": {
      "text/plain": [
       "\n",
       "\tWelch Two Sample t-test\n",
       "\n",
       "data:  GCcond$finalScorePredict and Tcond$finalScorePredict\n",
       "t = 1.716, df = 40.613, p-value = 0.09377\n",
       "alternative hypothesis: true difference in means is not equal to 0\n",
       "95 percent confidence interval:\n",
       " -0.212904  2.615934\n",
       "sample estimates:\n",
       "mean of x mean of y \n",
       " 5.050000  3.848485 \n"
      ]
     },
     "metadata": {},
     "output_type": "display_data"
    },
    {
     "data": {
      "text/plain": [
       "\n",
       "\tWelch Two Sample t-test\n",
       "\n",
       "data:  GCcond$finalScorePredict and Rcond$finalScorePredict\n",
       "t = -0.38245, df = 40.174, p-value = 0.7041\n",
       "alternative hypothesis: true difference in means is not equal to 0\n",
       "95 percent confidence interval:\n",
       " -1.705629  1.162772\n",
       "sample estimates:\n",
       "mean of x mean of y \n",
       " 5.050000  5.321429 \n"
      ]
     },
     "metadata": {},
     "output_type": "display_data"
    },
    {
     "data": {
      "text/plain": [
       "\n",
       "\tWelch Two Sample t-test\n",
       "\n",
       "data:  Tcond$finalScorePredict and Rcond$finalScorePredict\n",
       "t = -2.3618, df = 58.165, p-value = 0.02155\n",
       "alternative hypothesis: true difference in means is not equal to 0\n",
       "95 percent confidence interval:\n",
       " -2.7212236 -0.2246638\n",
       "sample estimates:\n",
       "mean of x mean of y \n",
       " 3.848485  5.321429 \n"
      ]
     },
     "metadata": {},
     "output_type": "display_data"
    },
    {
     "data": {
      "text/html": [
       "2.48899091150927"
      ],
      "text/latex": [
       "2.48899091150927"
      ],
      "text/markdown": [
       "2.48899091150927"
      ],
      "text/plain": [
       "[1] 2.488991"
      ]
     },
     "metadata": {},
     "output_type": "display_data"
    },
    {
     "data": {
      "text/html": [
       "2.37352014602739"
      ],
      "text/latex": [
       "2.37352014602739"
      ],
      "text/markdown": [
       "2.37352014602739"
      ],
      "text/plain": [
       "[1] 2.37352"
      ]
     },
     "metadata": {},
     "output_type": "display_data"
    },
    {
     "data": {
      "text/html": [
       "3.07341625002007"
      ],
      "text/latex": [
       "3.07341625002007"
      ],
      "text/markdown": [
       "3.07341625002007"
      ],
      "text/plain": [
       "[1] 3.073416"
      ]
     },
     "metadata": {},
     "output_type": "display_data"
    },
    {
     "data": {
      "text/html": [
       "2.45967477524977"
      ],
      "text/latex": [
       "2.45967477524977"
      ],
      "text/markdown": [
       "2.45967477524977"
      ],
      "text/plain": [
       "[1] 2.459675"
      ]
     },
     "metadata": {},
     "output_type": "display_data"
    },
    {
     "data": {
      "text/html": [
       "<table class=\"dataframe\">\n",
       "<caption>A tibble: 4 × 2</caption>\n",
       "<thead>\n",
       "\t<tr><th scope=col>cond</th><th scope=col>mn.difLevel</th></tr>\n",
       "\t<tr><th scope=col>&lt;chr&gt;</th><th scope=col>&lt;dbl&gt;</th></tr>\n",
       "</thead>\n",
       "<tbody>\n",
       "\t<tr><td>G      </td><td>6.772727</td></tr>\n",
       "\t<tr><td>GC     </td><td>6.800000</td></tr>\n",
       "\t<tr><td>restudy</td><td>6.357143</td></tr>\n",
       "\t<tr><td>test   </td><td>7.696970</td></tr>\n",
       "</tbody>\n",
       "</table>\n"
      ],
      "text/latex": [
       "A tibble: 4 × 2\n",
       "\\begin{tabular}{ll}\n",
       " cond & mn.difLevel\\\\\n",
       " <chr> & <dbl>\\\\\n",
       "\\hline\n",
       "\t G       & 6.772727\\\\\n",
       "\t GC      & 6.800000\\\\\n",
       "\t restudy & 6.357143\\\\\n",
       "\t test    & 7.696970\\\\\n",
       "\\end{tabular}\n"
      ],
      "text/markdown": [
       "\n",
       "A tibble: 4 × 2\n",
       "\n",
       "| cond &lt;chr&gt; | mn.difLevel &lt;dbl&gt; |\n",
       "|---|---|\n",
       "| G       | 6.772727 |\n",
       "| GC      | 6.800000 |\n",
       "| restudy | 6.357143 |\n",
       "| test    | 7.696970 |\n",
       "\n"
      ],
      "text/plain": [
       "  cond    mn.difLevel\n",
       "1 G       6.772727   \n",
       "2 GC      6.800000   \n",
       "3 restudy 6.357143   \n",
       "4 test    7.696970   "
      ]
     },
     "metadata": {},
     "output_type": "display_data"
    },
    {
     "data": {
      "image/png": "[encoded data removed]",
      "text/plain": [
       "plot without title"
      ]
     },
     "metadata": {
      "image/png": {
       "height": 420,
       "width": 420
      }
     },
     "output_type": "display_data"
    },
    {
     "data": {
      "text/plain": [
       "\n",
       "\tWelch Two Sample t-test\n",
       "\n",
       "data:  Gcond$diff_material and GCcond$diff_material\n",
       "t = -0.043152, df = 37.659, p-value = 0.9658\n",
       "alternative hypothesis: true difference in means is not equal to 0\n",
       "95 percent confidence interval:\n",
       " -1.307104  1.252559\n",
       "sample estimates:\n",
       "mean of x mean of y \n",
       " 6.772727  6.800000 \n"
      ]
     },
     "metadata": {},
     "output_type": "display_data"
    },
    {
     "data": {
      "text/plain": [
       "\n",
       "\tWelch Two Sample t-test\n",
       "\n",
       "data:  Gcond$diff_material and Tcond$diff_material\n",
       "t = -1.4536, df = 42.336, p-value = 0.1534\n",
       "alternative hypothesis: true difference in means is not equal to 0\n",
       "95 percent confidence interval:\n",
       " -2.2071344  0.3586496\n",
       "sample estimates:\n",
       "mean of x mean of y \n",
       " 6.772727  7.696970 \n"
      ]
     },
     "metadata": {},
     "output_type": "display_data"
    },
    {
     "data": {
      "text/plain": [
       "\n",
       "\tWelch Two Sample t-test\n",
       "\n",
       "data:  Gcond$diff_material and Rcond$diff_material\n",
       "t = 0.63426, df = 43.124, p-value = 0.5293\n",
       "alternative hypothesis: true difference in means is not equal to 0\n",
       "95 percent confidence interval:\n",
       " -0.9056996  1.7368684\n",
       "sample estimates:\n",
       "mean of x mean of y \n",
       " 6.772727  6.357143 \n"
      ]
     },
     "metadata": {},
     "output_type": "display_data"
    },
    {
     "data": {
      "text/plain": [
       "\n",
       "\tWelch Two Sample t-test\n",
       "\n",
       "data:  GCcond$diff_material and Tcond$diff_material\n",
       "t = -1.6806, df = 48.09, p-value = 0.09933\n",
       "alternative hypothesis: true difference in means is not equal to 0\n",
       "95 percent confidence interval:\n",
       " -1.9700348  0.1760954\n",
       "sample estimates:\n",
       "mean of x mean of y \n",
       "  6.80000   7.69697 \n"
      ]
     },
     "metadata": {},
     "output_type": "display_data"
    },
    {
     "data": {
      "text/plain": [
       "\n",
       "\tWelch Two Sample t-test\n",
       "\n",
       "data:  GCcond$diff_material and Rcond$diff_material\n",
       "t = 0.79555, df = 45.717, p-value = 0.4304\n",
       "alternative hypothesis: true difference in means is not equal to 0\n",
       "95 percent confidence interval:\n",
       " -0.6778443  1.5635586\n",
       "sample estimates:\n",
       "mean of x mean of y \n",
       " 6.800000  6.357143 \n"
      ]
     },
     "metadata": {},
     "output_type": "display_data"
    },
    {
     "data": {
      "text/plain": [
       "\n",
       "\tWelch Two Sample t-test\n",
       "\n",
       "data:  Tcond$diff_material and Rcond$diff_material\n",
       "t = 2.3882, df = 57.439, p-value = 0.02024\n",
       "alternative hypothesis: true difference in means is not equal to 0\n",
       "95 percent confidence interval:\n",
       " 0.2166018 2.4630519\n",
       "sample estimates:\n",
       "mean of x mean of y \n",
       " 7.696970  6.357143 \n"
      ]
     },
     "metadata": {},
     "output_type": "display_data"
    },
    {
     "data": {
      "text/html": [
       "2.18096624380428"
      ],
      "text/latex": [
       "2.18096624380428"
      ],
      "text/markdown": [
       "2.18096624380428"
      ],
      "text/plain": [
       "[1] 2.180966"
      ]
     },
     "metadata": {},
     "output_type": "display_data"
    },
    {
     "data": {
      "text/html": [
       "2.18639041122646"
      ],
      "text/latex": [
       "2.18639041122646"
      ],
      "text/markdown": [
       "2.18639041122646"
      ],
      "text/plain": [
       "[1] 2.18639"
      ]
     },
     "metadata": {},
     "output_type": "display_data"
    },
    {
     "data": {
      "text/html": [
       "2.38909861826426"
      ],
      "text/latex": [
       "2.38909861826426"
      ],
      "text/markdown": [
       "2.38909861826426"
      ],
      "text/plain": [
       "[1] 2.389099"
      ]
     },
     "metadata": {},
     "output_type": "display_data"
    },
    {
     "data": {
      "text/html": [
       "1.67332005306815"
      ],
      "text/latex": [
       "1.67332005306815"
      ],
      "text/markdown": [
       "1.67332005306815"
      ],
      "text/plain": [
       "[1] 1.67332"
      ]
     },
     "metadata": {},
     "output_type": "display_data"
    },
    {
     "data": {
      "text/plain": [
       "\n",
       "\tWelch Two Sample t-test\n",
       "\n",
       "data:  Gcond$priorTotal and GCcond$priorTotal\n",
       "t = -0.95035, df = 38.392, p-value = 0.3479\n",
       "alternative hypothesis: true difference in means is not equal to 0\n",
       "95 percent confidence interval:\n",
       " -1.0241797  0.3696342\n",
       "sample estimates:\n",
       "mean of x mean of y \n",
       " 1.272727  1.600000 \n"
      ]
     },
     "metadata": {},
     "output_type": "display_data"
    },
    {
     "data": {
      "text/plain": [
       "\n",
       "\tWelch Two Sample t-test\n",
       "\n",
       "data:  Gcond$priorTotal and Tcond$priorTotal\n",
       "t = -0.45992, df = 39.276, p-value = 0.6481\n",
       "alternative hypothesis: true difference in means is not equal to 0\n",
       "95 percent confidence interval:\n",
       " -0.8177139  0.5146836\n",
       "sample estimates:\n",
       "mean of x mean of y \n",
       " 1.272727  1.424242 \n"
      ]
     },
     "metadata": {},
     "output_type": "display_data"
    },
    {
     "data": {
      "text/plain": [
       "\n",
       "\tWelch Two Sample t-test\n",
       "\n",
       "data:  Gcond$priorTotal and Rcond$priorTotal\n",
       "t = -0.13787, df = 43.551, p-value = 0.891\n",
       "alternative hypothesis: true difference in means is not equal to 0\n",
       "95 percent confidence interval:\n",
       " -0.7608399  0.6634373\n",
       "sample estimates:\n",
       "mean of x mean of y \n",
       " 1.272727  1.321429 \n"
      ]
     },
     "metadata": {},
     "output_type": "display_data"
    },
    {
     "data": {
      "text/plain": [
       "\n",
       "\tWelch Two Sample t-test\n",
       "\n",
       "data:  GCcond$priorTotal and Tcond$priorTotal\n",
       "t = 0.62787, df = 44.074, p-value = 0.5333\n",
       "alternative hypothesis: true difference in means is not equal to 0\n",
       "95 percent confidence interval:\n",
       " -0.3883703  0.7398855\n",
       "sample estimates:\n",
       "mean of x mean of y \n",
       " 1.600000  1.424242 \n"
      ]
     },
     "metadata": {},
     "output_type": "display_data"
    },
    {
     "data": {
      "text/plain": [
       "\n",
       "\tWelch Two Sample t-test\n",
       "\n",
       "data:  GCcond$priorTotal and Rcond$priorTotal\n",
       "t = 0.90563, df = 45.449, p-value = 0.3699\n",
       "alternative hypothesis: true difference in means is not equal to 0\n",
       "95 percent confidence interval:\n",
       " -0.3407948  0.8979376\n",
       "sample estimates:\n",
       "mean of x mean of y \n",
       " 1.600000  1.321429 \n"
      ]
     },
     "metadata": {},
     "output_type": "display_data"
    },
    {
     "data": {
      "text/plain": [
       "\n",
       "\tWelch Two Sample t-test\n",
       "\n",
       "data:  Tcond$priorTotal and Rcond$priorTotal\n",
       "t = 0.35358, df = 54.767, p-value = 0.725\n",
       "alternative hypothesis: true difference in means is not equal to 0\n",
       "95 percent confidence interval:\n",
       " -0.4799835  0.6856112\n",
       "sample estimates:\n",
       "mean of x mean of y \n",
       " 1.424242  1.321429 \n"
      ]
     },
     "metadata": {},
     "output_type": "display_data"
    },
    {
     "data": {
      "image/png": "[encoded data removed]",
      "text/plain": [
       "plot without title"
      ]
     },
     "metadata": {
      "image/png": {
       "height": 420,
       "width": 420
      }
     },
     "output_type": "display_data"
    },
    {
     "data": {
      "image/png": "[encoded data removed]",
      "text/plain": [
       "plot without title"
      ]
     },
     "metadata": {
      "image/png": {
       "height": 420,
       "width": 420
      }
     },
     "output_type": "display_data"
    }
   ],
   "source": [
    "aov.summary <- aov(acc ~ cond, data = clean.df)\n",
    "summary(aov.summary)\n",
    "\n",
    "Gcond = clean.df %>% filter(cond == \"G\")\n",
    "GCcond = clean.df %>% filter(cond == \"GC\")\n",
    "Tcond = clean.df %>% filter(cond == \"test\")\n",
    "Rcond = clean.df %>% filter(cond == \"restudy\")\n",
    "\n",
    "ggplot(clean.df, aes(x=acc, fill = cond)) + geom_boxplot()\n",
    "ggplot(clean.df, aes(x=cond, y=acc)) + geom_violin()\n",
    "\n",
    "# collapse Google\n",
    "Googlecond = clean.df %>% filter(cond == \"G\" | cond == \"GC\")\n",
    "\n",
    "t.test(Googlecond$acc,Rcond$acc)\n",
    "t.test(Tcond$acc,Googlecond$acc)\n",
    "sd(Googlecond$acc)\n",
    "sd(Rcond$acc)\n",
    "sd(Tcond$acc)\n",
    "\n",
    "#collapse except Google\n",
    "RESTcond = clean.df %>% filter(!(cond == \"G\"))\n",
    "t.test(Gcond$acc,RESTcond$acc)\n",
    "sd(Gcond$acc)\n",
    "sd(RESTcond$acc)\n",
    "\n",
    "#collapse T/R and G/GC\n",
    "Restcond = clean.df %>% filter(!(cond == \"G\"| cond == \"GC\"))\n",
    "t.test(Googlecond$acc,Restcond$acc)\n",
    "sd(Googlecond$acc)\n",
    "sd(Restcond$acc)\n",
    "\n",
    "#collapse except Test\n",
    "noTcond = clean.df %>% filter(!(cond == \"T\"))\n",
    "t.test(Tcond$acc,noTcond$acc)\n",
    "sd(Tcond$acc)\n",
    "sd(noTcond$acc)\n",
    "\n",
    "#t-test assumption checks\n",
    "library(rstatix)\n",
    "clean.df %>% group_by(cond) %>% identify_outliers(acc)\n",
    "clean.df %>% group_by(cond) %>% shapiro_test(acc)\n",
    "clean.df %>% levene_test(acc ~ cond)\n",
    "\n",
    "t.test(Gcond$acc,GCcond$acc, var.equal = TRUE)\n",
    "t.test(Gcond$acc,Tcond$acc, var.equal = TRUE)\n",
    "t.test(Gcond$acc,Rcond$acc, var.equal = TRUE)\n",
    "t.test(GCcond$acc,Tcond$acc, var.equal = TRUE)\n",
    "t.test(GCcond$acc,Rcond$acc, var.equal = TRUE)\n",
    "t.test(Tcond$acc,Rcond$acc, var.equal = TRUE)\n",
    "\n",
    "#linear model\n",
    "lms.fit = lm(acc~cond, data=clean.df)\n",
    "summary(lms.fit)\n",
    "\n",
    "\n",
    "lmm.fit = lm(acc~cond+gender+ethnicity+edu+LearningStyle+openBookExam+Gdefault+times_searchEngine+phone+computer+tablet+pt1A+pt2A, data=clean.df)\n",
    "summary(lmm.fit)\n",
    "\n",
    "#model selection\n",
    "library(leaps)\n",
    "regfit.full = regsubsets(acc~., select(clean.df, c(acc,cond,gender,ethnicity,edu,\n",
    "                                                   LearningStyle,openBookExam,\n",
    "                                                   Gdefault,times_searchEngine,phone,computer,tablet,\n",
    "                                                   pt1A,pt2A)),nvmax=19)\n",
    "summary(regfit.full)\n",
    "\n",
    "#Known coding\n",
    "#\"eukaryotes\"   6 \n",
    "#\"studebaker\"   10 \n",
    "#\"GUM\"          15 \n",
    "#\"gymnosperms\"  7  \n",
    "# \"thalassemia\" 18\n",
    "#\"contrapposto\" 20 \n",
    "#\"camelopard\"   22 \n",
    "# \"bernoulli’s\" 9   \n",
    "# \"hovercraft\"  21 \n",
    "# \"ellipsoidal\" 23 \n",
    "\n",
    "\n",
    "#\"studebaker\",\t\"bernoulli’s\",\t\"camelopard\",\t\"contrapposto\",\t\"gymnosperms\",\t\"thalassemia\",\t\"GUM\",\t\"hovercraft\",\t\"ellipsoidal\",\t\"eukaryotes\"\n",
    "\n",
    "\n",
    "clean.df %>% count(gender)\n",
    "clean.df %>% count(ethnicity)\n",
    "\n",
    "#predicted final score\n",
    "clean.df %>% group_by(cond) %>% summarize(mn.scorePredict = mean(as.numeric(finalScorePredict)))\n",
    "clean.df %>% ggplot(aes(x=finalScorePredict,fill=cond)) + geom_boxplot()\n",
    "\n",
    "t.test(Gcond$finalScorePredict,GCcond$finalScorePredict)\n",
    "t.test(Gcond$finalScorePredict,Tcond$finalScorePredict)\n",
    "t.test(Gcond$finalScorePredict,Rcond$finalScorePredict)\n",
    "t.test(GCcond$finalScorePredict,Tcond$finalScorePredict)\n",
    "t.test(GCcond$finalScorePredict,Rcond$finalScorePredict)\n",
    "t.test(Tcond$finalScorePredict,Rcond$finalScorePredict)\n",
    "\n",
    "sd(Tcond$finalScorePredict)\n",
    "sd(Rcond$finalScorePredict)\n",
    "sd(Gcond$finalScorePredict)\n",
    "sd(GCcond$finalScorePredict)\n",
    "\n",
    "\n",
    "#difficulty of material rating\n",
    "clean.df %>% group_by(cond) %>% summarize(mn.difLevel = mean(as.numeric(diff_material)))\n",
    "clean.df %>% ggplot(aes(x=diff_material,fill=cond)) + geom_boxplot()\n",
    "\n",
    "t.test(Gcond$diff_material,GCcond$diff_material)\n",
    "t.test(Gcond$diff_material,Tcond$diff_material)\n",
    "t.test(Gcond$diff_material,Rcond$diff_material)\n",
    "t.test(GCcond$diff_material,Tcond$diff_material)\n",
    "t.test(GCcond$diff_material,Rcond$diff_material)\n",
    "t.test(Tcond$diff_material,Rcond$diff_material)\n",
    "\n",
    "sd(Rcond$diff_material)\n",
    "sd(Tcond$diff_material)\n",
    "sd(Gcond$diff_material)\n",
    "sd(GCcond$diff_material)\n",
    "\n",
    "\n",
    "#check if prior knowledge differ across\n",
    "t.test(Gcond$priorTotal,GCcond$priorTotal)\n",
    "t.test(Gcond$priorTotal,Tcond$priorTotal)\n",
    "t.test(Gcond$priorTotal,Rcond$priorTotal)\n",
    "t.test(GCcond$priorTotal,Tcond$priorTotal)\n",
    "t.test(GCcond$priorTotal,Rcond$priorTotal)\n",
    "t.test(Tcond$priorTotal,Rcond$priorTotal)\n",
    "\n",
    "ggplot(clean.df, aes(gender)) + geom_bar()\n",
    "\n",
    "library(boot)\n"
   ]
  }
 ],
 "metadata": {
  "kernelspec": {
   "display_name": "R",
   "language": "R",
   "name": "ir"
  },
  "language_info": {
   "codemirror_mode": "r",
   "file_extension": ".r",
   "mimetype": "text/x-r-source",
   "name": "R",
   "pygments_lexer": "r",
   "version": "4.1.2"
  }
 },
 "nbformat": 4,
 "nbformat_minor": 5
}
