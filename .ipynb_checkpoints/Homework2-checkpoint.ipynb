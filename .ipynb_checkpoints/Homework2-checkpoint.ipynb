{
 "cells": [
  {
   "cell_type": "markdown",
   "metadata": {
    "id": "-2W919d2ZXp7"
   },
   "source": [
    "# Homework 2: Data tables"
   ]
  },
  {
   "cell_type": "markdown",
   "metadata": {
    "id": "L4nOzVhyZXqK"
   },
   "source": [
    "This homework assignment is designed to get you comfortable loading and working with data tables.\n",
    "\n",
    "You will need to download the **LexicalData_toclean.csv** file from the *Homework/lexDat* folder in the class GitHub repository. \n",
    "\n",
    "This data is a subset of the [English Lexicon Project database](https://elexicon.wustl.edu/). It provides the reaction times (in milliseconds) of many subjects as they are presented with letter strings and asked to decide, as quickly and as accurately as possible, whether the letter string is a word or not.\n",
    "\n",
    "*Data courtesy of Balota, D.A., Yap, M.J., Cortese, M.J., Hutchison, K.A., Kessler, B., Loftis, B., Neely, J.H., Nelson, D.L., Simpson, G.B., & Treiman, R. (2007). The English Lexicon Project. Behavior Research Methods, 39, 445-459.*"
   ]
  },
  {
   "cell_type": "markdown",
   "metadata": {
    "id": "9DsyBTB6ZXqN"
   },
   "source": [
    "---\n",
    "## 1. **Loading the Data (1 point)** \n",
    "\n",
    "Use the `setwd` and `read.csv` functions to load the data table from the **LexicalData_toclean.csv** file. Use the `head` function to look at the first few rows of the data. "
   ]
  },
  {
   "cell_type": "code",
   "execution_count": 1,
   "metadata": {
    "id": "UnBVazYfZXqP"
   },
   "outputs": [
    {
     "data": {
      "text/html": [
       "<table class=\"dataframe\">\n",
       "<caption>A data.frame: 6 × 7</caption>\n",
       "<thead>\n",
       "\t<tr><th></th><th scope=col>Sub_ID</th><th scope=col>Trial</th><th scope=col>Type</th><th scope=col>D_RT</th><th scope=col>D_Word</th><th scope=col>Outlier</th><th scope=col>D_Zscore</th></tr>\n",
       "\t<tr><th></th><th scope=col>&lt;int&gt;</th><th scope=col>&lt;int&gt;</th><th scope=col>&lt;int&gt;</th><th scope=col>&lt;chr&gt;</th><th scope=col>&lt;chr&gt;</th><th scope=col>&lt;chr&gt;</th><th scope=col>&lt;dbl&gt;</th></tr>\n",
       "</thead>\n",
       "<tbody>\n",
       "\t<tr><th scope=row>1</th><td>157</td><td>1</td><td>1</td><td>710  </td><td>browse     </td><td>false</td><td>-0.437</td></tr>\n",
       "\t<tr><th scope=row>2</th><td> 67</td><td>1</td><td>1</td><td>1,094</td><td>refrigerant</td><td>false</td><td> 0.825</td></tr>\n",
       "\t<tr><th scope=row>3</th><td>120</td><td>1</td><td>1</td><td>587  </td><td>gaining    </td><td>false</td><td>-0.645</td></tr>\n",
       "\t<tr><th scope=row>4</th><td> 21</td><td>1</td><td>1</td><td>984  </td><td>cheerless  </td><td>false</td><td> 0.025</td></tr>\n",
       "\t<tr><th scope=row>5</th><td>236</td><td>1</td><td>1</td><td>577  </td><td>pattered   </td><td>false</td><td>-0.763</td></tr>\n",
       "\t<tr><th scope=row>6</th><td>236</td><td>2</td><td>1</td><td>715  </td><td>conjures   </td><td>false</td><td>-0.364</td></tr>\n",
       "</tbody>\n",
       "</table>\n"
      ],
      "text/latex": [
       "A data.frame: 6 × 7\n",
       "\\begin{tabular}{r|lllllll}\n",
       "  & Sub\\_ID & Trial & Type & D\\_RT & D\\_Word & Outlier & D\\_Zscore\\\\\n",
       "  & <int> & <int> & <int> & <chr> & <chr> & <chr> & <dbl>\\\\\n",
       "\\hline\n",
       "\t1 & 157 & 1 & 1 & 710   & browse      & false & -0.437\\\\\n",
       "\t2 &  67 & 1 & 1 & 1,094 & refrigerant & false &  0.825\\\\\n",
       "\t3 & 120 & 1 & 1 & 587   & gaining     & false & -0.645\\\\\n",
       "\t4 &  21 & 1 & 1 & 984   & cheerless   & false &  0.025\\\\\n",
       "\t5 & 236 & 1 & 1 & 577   & pattered    & false & -0.763\\\\\n",
       "\t6 & 236 & 2 & 1 & 715   & conjures    & false & -0.364\\\\\n",
       "\\end{tabular}\n"
      ],
      "text/markdown": [
       "\n",
       "A data.frame: 6 × 7\n",
       "\n",
       "| <!--/--> | Sub_ID &lt;int&gt; | Trial &lt;int&gt; | Type &lt;int&gt; | D_RT &lt;chr&gt; | D_Word &lt;chr&gt; | Outlier &lt;chr&gt; | D_Zscore &lt;dbl&gt; |\n",
       "|---|---|---|---|---|---|---|---|\n",
       "| 1 | 157 | 1 | 1 | 710   | browse      | false | -0.437 |\n",
       "| 2 |  67 | 1 | 1 | 1,094 | refrigerant | false |  0.825 |\n",
       "| 3 | 120 | 1 | 1 | 587   | gaining     | false | -0.645 |\n",
       "| 4 |  21 | 1 | 1 | 984   | cheerless   | false |  0.025 |\n",
       "| 5 | 236 | 1 | 1 | 577   | pattered    | false | -0.763 |\n",
       "| 6 | 236 | 2 | 1 | 715   | conjures    | false | -0.364 |\n",
       "\n"
      ],
      "text/plain": [
       "  Sub_ID Trial Type D_RT  D_Word      Outlier D_Zscore\n",
       "1 157    1     1    710   browse      false   -0.437  \n",
       "2  67    1     1    1,094 refrigerant false    0.825  \n",
       "3 120    1     1    587   gaining     false   -0.645  \n",
       "4  21    1     1    984   cheerless   false    0.025  \n",
       "5 236    1     1    577   pattered    false   -0.763  \n",
       "6 236    2     1    715   conjures    false   -0.364  "
      ]
     },
     "metadata": {},
     "output_type": "display_data"
    }
   ],
   "source": [
    "# INSERT CODE HERE\n",
    "# If you are running this on your local computer, wet your workign directory to \n",
    "# the location of the lexDat data by setting your harddrive. Uncomment this line\n",
    "# and change the location to where it is on your computer. \n",
    "#setwd(\"~/Documents/PittCMU/G3/DSPN/DataSciencePsychNeuro/Homeworks/lexDat\")\n",
    "\n",
    "# If you are running this on Colab, then use something like this.\n",
    "# system(\"gdown --id 1wSvRPME5NimUDa0t3WqNSGzimLB1uNa7\")\n",
    "setwd(\"C:/Users/Alice/Documents/GitHub/DataSciencePsychNeuro/Homeworks/lexDat\")\n",
    "lex <- read.csv(\"LexicalData_toclean.csv\")\n",
    "head(lex)"
   ]
  },
  {
   "cell_type": "markdown",
   "metadata": {
    "id": "vk5oha2W4G7h"
   },
   "source": [
    "The **LexicalData_toclean.csv** file contains the variables `Sub_ID` (Subject ID), `Trial` (the trial number), `D_RT` (reaction time) and `D_Word` (the word they were responding to)."
   ]
  },
  {
   "cell_type": "markdown",
   "metadata": {
    "id": "SJuj14ZyZXqS"
   },
   "source": [
    "---\n",
    "## 2. **Data Cleansing (4 points)**\n",
    "\n",
    "There are three things we want to do to make this data more useable:\n",
    "* Get rid of the commas in the reaction time values, and make this variable numeric (hint: check out the functions `gsub` and `as.numeric`).\n",
    "* Get rid of rows where the reaction times are missing (hint: you can use the `filter` function from `tidyverse`, but you'll need to load the library).\n",
    "* Make sure all of the reaction times are positive. \n",
    "\n",
    "Write code that will copy the data to a new variable and make the above changes. "
   ]
  },
  {
   "cell_type": "code",
   "execution_count": 2,
   "metadata": {
    "id": "5pXIjADNZXqU"
   },
   "outputs": [
    {
     "name": "stderr",
     "output_type": "stream",
     "text": [
      "Warning message:\n",
      "\"package 'tidyverse' was built under R version 4.0.5\"\n",
      "-- \u001b[1mAttaching packages\u001b[22m ------------------------------------------------------------------------------- tidyverse 1.3.1 --\n",
      "\n",
      "\u001b[32mv\u001b[39m \u001b[34mggplot2\u001b[39m 3.3.3     \u001b[32mv\u001b[39m \u001b[34mpurrr  \u001b[39m 0.3.4\n",
      "\u001b[32mv\u001b[39m \u001b[34mtibble \u001b[39m 3.1.6     \u001b[32mv\u001b[39m \u001b[34mdplyr  \u001b[39m 1.0.7\n",
      "\u001b[32mv\u001b[39m \u001b[34mtidyr  \u001b[39m 1.2.0     \u001b[32mv\u001b[39m \u001b[34mstringr\u001b[39m 1.4.0\n",
      "\u001b[32mv\u001b[39m \u001b[34mreadr  \u001b[39m 1.4.0     \u001b[32mv\u001b[39m \u001b[34mforcats\u001b[39m 0.5.1\n",
      "\n",
      "Warning message:\n",
      "\"package 'tibble' was built under R version 4.0.5\"\n",
      "Warning message:\n",
      "\"package 'tidyr' was built under R version 4.0.5\"\n",
      "Warning message:\n",
      "\"package 'readr' was built under R version 4.0.4\"\n",
      "Warning message:\n",
      "\"package 'dplyr' was built under R version 4.0.5\"\n",
      "Warning message:\n",
      "\"package 'forcats' was built under R version 4.0.4\"\n",
      "-- \u001b[1mConflicts\u001b[22m ---------------------------------------------------------------------------------- tidyverse_conflicts() --\n",
      "\u001b[31mx\u001b[39m \u001b[34mdplyr\u001b[39m::\u001b[32mfilter()\u001b[39m masks \u001b[34mstats\u001b[39m::filter()\n",
      "\u001b[31mx\u001b[39m \u001b[34mdplyr\u001b[39m::\u001b[32mlag()\u001b[39m    masks \u001b[34mstats\u001b[39m::lag()\n",
      "\n"
     ]
    },
    {
     "data": {
      "text/html": [
       "<table class=\"dataframe\">\n",
       "<caption>A data.frame: 62607 × 7</caption>\n",
       "<thead>\n",
       "\t<tr><th scope=col>Sub_ID</th><th scope=col>Trial</th><th scope=col>Type</th><th scope=col>D_RT</th><th scope=col>D_Word</th><th scope=col>Outlier</th><th scope=col>D_Zscore</th></tr>\n",
       "\t<tr><th scope=col>&lt;int&gt;</th><th scope=col>&lt;int&gt;</th><th scope=col>&lt;int&gt;</th><th scope=col>&lt;dbl&gt;</th><th scope=col>&lt;chr&gt;</th><th scope=col>&lt;chr&gt;</th><th scope=col>&lt;dbl&gt;</th></tr>\n",
       "</thead>\n",
       "<tbody>\n",
       "\t<tr><td>157</td><td> 1</td><td>1</td><td> 710</td><td>browse        </td><td>false</td><td>-0.437</td></tr>\n",
       "\t<tr><td> 67</td><td> 1</td><td>1</td><td>1094</td><td>refrigerant   </td><td>false</td><td> 0.825</td></tr>\n",
       "\t<tr><td>120</td><td> 1</td><td>1</td><td> 587</td><td>gaining       </td><td>false</td><td>-0.645</td></tr>\n",
       "\t<tr><td> 21</td><td> 1</td><td>1</td><td> 984</td><td>cheerless     </td><td>false</td><td> 0.025</td></tr>\n",
       "\t<tr><td>236</td><td> 1</td><td>1</td><td> 577</td><td>pattered      </td><td>false</td><td>-0.763</td></tr>\n",
       "\t<tr><td>236</td><td> 2</td><td>1</td><td> 715</td><td>conjures      </td><td>false</td><td>-0.364</td></tr>\n",
       "\t<tr><td>236</td><td> 5</td><td>1</td><td> 826</td><td>censorship    </td><td>false</td><td>-0.043</td></tr>\n",
       "\t<tr><td>236</td><td> 6</td><td>1</td><td> 928</td><td>beckon        </td><td>false</td><td> 0.251</td></tr>\n",
       "\t<tr><td>236</td><td> 8</td><td>1</td><td>1047</td><td>superscribe   </td><td>false</td><td> 0.595</td></tr>\n",
       "\t<tr><td>236</td><td>10</td><td>1</td><td>1296</td><td>husbandry     </td><td>false</td><td> 1.315</td></tr>\n",
       "\t<tr><td>236</td><td>12</td><td>1</td><td>1452</td><td>nitwit        </td><td>false</td><td> 1.766</td></tr>\n",
       "\t<tr><td>236</td><td>13</td><td>1</td><td> 674</td><td>factor        </td><td>false</td><td>-0.483</td></tr>\n",
       "\t<tr><td>236</td><td>17</td><td>1</td><td> 782</td><td>intuitively   </td><td>false</td><td>-0.170</td></tr>\n",
       "\t<tr><td>236</td><td>18</td><td>1</td><td>1469</td><td>precipitating </td><td>false</td><td> 1.815</td></tr>\n",
       "\t<tr><td>236</td><td>19</td><td>1</td><td> 785</td><td>pianists      </td><td>false</td><td>-0.162</td></tr>\n",
       "\t<tr><td>236</td><td>20</td><td>1</td><td>1007</td><td>redistribute  </td><td>false</td><td> 0.480</td></tr>\n",
       "\t<tr><td>236</td><td>21</td><td>1</td><td> 548</td><td>lifer         </td><td>false</td><td>-0.847</td></tr>\n",
       "\t<tr><td>236</td><td>26</td><td>1</td><td> 740</td><td>translucent   </td><td>false</td><td>-0.292</td></tr>\n",
       "\t<tr><td>236</td><td>28</td><td>1</td><td>1515</td><td>stooges       </td><td>false</td><td> 1.948</td></tr>\n",
       "\t<tr><td>236</td><td>29</td><td>1</td><td> 746</td><td>punctual      </td><td>false</td><td>-0.275</td></tr>\n",
       "\t<tr><td>236</td><td>30</td><td>1</td><td> 606</td><td>narrated      </td><td>false</td><td>-0.679</td></tr>\n",
       "\t<tr><td>236</td><td>31</td><td>1</td><td> 588</td><td>unanswerable  </td><td>false</td><td>-0.731</td></tr>\n",
       "\t<tr><td>236</td><td>33</td><td>1</td><td>1011</td><td>staunchest    </td><td>false</td><td> 0.491</td></tr>\n",
       "\t<tr><td>236</td><td>35</td><td>1</td><td> 669</td><td>dartboard     </td><td>false</td><td>-0.497</td></tr>\n",
       "\t<tr><td>236</td><td>36</td><td>1</td><td>1112</td><td>Hamilton's    </td><td>false</td><td> 0.783</td></tr>\n",
       "\t<tr><td>236</td><td>37</td><td>1</td><td> 714</td><td>taxidermy     </td><td>false</td><td>-0.367</td></tr>\n",
       "\t<tr><td>236</td><td>38</td><td>1</td><td> 621</td><td>aggressively  </td><td>false</td><td>-0.636</td></tr>\n",
       "\t<tr><td>236</td><td>39</td><td>1</td><td> 625</td><td>horoscope     </td><td>false</td><td>-0.624</td></tr>\n",
       "\t<tr><td>236</td><td>40</td><td>1</td><td> 502</td><td>slob          </td><td>false</td><td>-0.980</td></tr>\n",
       "\t<tr><td>236</td><td>43</td><td>1</td><td> 733</td><td>longshoremen's</td><td>false</td><td>-0.312</td></tr>\n",
       "\t<tr><td>...</td><td>...</td><td>...</td><td>...</td><td>...</td><td>...</td><td>...</td></tr>\n",
       "\t<tr><td>236</td><td>440</td><td>1</td><td> 481</td><td>shoot        </td><td>false</td><td>-1.040</td></tr>\n",
       "\t<tr><td>236</td><td>441</td><td>1</td><td> 867</td><td>Cain         </td><td>false</td><td> 0.075</td></tr>\n",
       "\t<tr><td>236</td><td>442</td><td>1</td><td>1305</td><td>menarche     </td><td>false</td><td> 1.341</td></tr>\n",
       "\t<tr><td>236</td><td>443</td><td>1</td><td> 654</td><td>hostel       </td><td>false</td><td>-0.540</td></tr>\n",
       "\t<tr><td>236</td><td>444</td><td>1</td><td> 818</td><td>sectors      </td><td>false</td><td>-0.066</td></tr>\n",
       "\t<tr><td>236</td><td>446</td><td>1</td><td> 682</td><td>purr         </td><td>false</td><td>-0.459</td></tr>\n",
       "\t<tr><td>236</td><td>449</td><td>1</td><td>1299</td><td>directive    </td><td>false</td><td> 1.323</td></tr>\n",
       "\t<tr><td>236</td><td>450</td><td>1</td><td>1640</td><td>required     </td><td>false</td><td> 2.309</td></tr>\n",
       "\t<tr><td>236</td><td>452</td><td>1</td><td> 760</td><td>drifter      </td><td>false</td><td>-0.234</td></tr>\n",
       "\t<tr><td>236</td><td>453</td><td>1</td><td> 900</td><td>popping      </td><td>false</td><td> 0.170</td></tr>\n",
       "\t<tr><td>236</td><td>454</td><td>1</td><td> 556</td><td>began        </td><td>false</td><td>-0.824</td></tr>\n",
       "\t<tr><td>236</td><td>456</td><td>1</td><td> 517</td><td>gag          </td><td>false</td><td>-0.936</td></tr>\n",
       "\t<tr><td>236</td><td>457</td><td>1</td><td> 487</td><td>glut         </td><td>false</td><td>-1.023</td></tr>\n",
       "\t<tr><td>236</td><td>458</td><td>1</td><td>1867</td><td>tunafish     </td><td>false</td><td> 2.965</td></tr>\n",
       "\t<tr><td>236</td><td>463</td><td>1</td><td>1655</td><td>consolidating</td><td>false</td><td> 2.352</td></tr>\n",
       "\t<tr><td>236</td><td>464</td><td>1</td><td> 849</td><td>aquatic      </td><td>false</td><td> 0.023</td></tr>\n",
       "\t<tr><td>236</td><td>466</td><td>1</td><td> 556</td><td>weaknesses   </td><td>false</td><td>-0.824</td></tr>\n",
       "\t<tr><td>236</td><td>471</td><td>1</td><td>1157</td><td>deluxe       </td><td>false</td><td> 0.913</td></tr>\n",
       "\t<tr><td>236</td><td>472</td><td>1</td><td> 769</td><td>troublemaker </td><td>false</td><td>-0.208</td></tr>\n",
       "\t<tr><td>236</td><td>473</td><td>1</td><td> 862</td><td>interacts    </td><td>false</td><td> 0.061</td></tr>\n",
       "\t<tr><td>236</td><td>474</td><td>1</td><td> 779</td><td>cyclist      </td><td>false</td><td>-0.179</td></tr>\n",
       "\t<tr><td>236</td><td>475</td><td>1</td><td> 956</td><td>glowering    </td><td>false</td><td> 0.332</td></tr>\n",
       "\t<tr><td>236</td><td>480</td><td>1</td><td>1090</td><td>Fran         </td><td>false</td><td> 0.720</td></tr>\n",
       "\t<tr><td>236</td><td>483</td><td>1</td><td> 724</td><td>rectangular  </td><td>false</td><td>-0.338</td></tr>\n",
       "\t<tr><td>236</td><td>484</td><td>1</td><td> 584</td><td>assure       </td><td>false</td><td>-0.743</td></tr>\n",
       "\t<tr><td>236</td><td>485</td><td>1</td><td> 636</td><td>symbolism    </td><td>false</td><td>-0.592</td></tr>\n",
       "\t<tr><td>236</td><td>491</td><td>1</td><td> 844</td><td>vestigial    </td><td>false</td><td> 0.009</td></tr>\n",
       "\t<tr><td>236</td><td>492</td><td>1</td><td> 609</td><td>unexpected   </td><td>false</td><td>-0.670</td></tr>\n",
       "\t<tr><td>236</td><td>493</td><td>1</td><td> 687</td><td>shipmates    </td><td>false</td><td>-0.445</td></tr>\n",
       "\t<tr><td>236</td><td>497</td><td>1</td><td>1146</td><td>chalky       </td><td>false</td><td> 0.881</td></tr>\n",
       "</tbody>\n",
       "</table>\n"
      ],
      "text/latex": [
       "A data.frame: 62607 × 7\n",
       "\\begin{tabular}{lllllll}\n",
       " Sub\\_ID & Trial & Type & D\\_RT & D\\_Word & Outlier & D\\_Zscore\\\\\n",
       " <int> & <int> & <int> & <dbl> & <chr> & <chr> & <dbl>\\\\\n",
       "\\hline\n",
       "\t 157 &  1 & 1 &  710 & browse         & false & -0.437\\\\\n",
       "\t  67 &  1 & 1 & 1094 & refrigerant    & false &  0.825\\\\\n",
       "\t 120 &  1 & 1 &  587 & gaining        & false & -0.645\\\\\n",
       "\t  21 &  1 & 1 &  984 & cheerless      & false &  0.025\\\\\n",
       "\t 236 &  1 & 1 &  577 & pattered       & false & -0.763\\\\\n",
       "\t 236 &  2 & 1 &  715 & conjures       & false & -0.364\\\\\n",
       "\t 236 &  5 & 1 &  826 & censorship     & false & -0.043\\\\\n",
       "\t 236 &  6 & 1 &  928 & beckon         & false &  0.251\\\\\n",
       "\t 236 &  8 & 1 & 1047 & superscribe    & false &  0.595\\\\\n",
       "\t 236 & 10 & 1 & 1296 & husbandry      & false &  1.315\\\\\n",
       "\t 236 & 12 & 1 & 1452 & nitwit         & false &  1.766\\\\\n",
       "\t 236 & 13 & 1 &  674 & factor         & false & -0.483\\\\\n",
       "\t 236 & 17 & 1 &  782 & intuitively    & false & -0.170\\\\\n",
       "\t 236 & 18 & 1 & 1469 & precipitating  & false &  1.815\\\\\n",
       "\t 236 & 19 & 1 &  785 & pianists       & false & -0.162\\\\\n",
       "\t 236 & 20 & 1 & 1007 & redistribute   & false &  0.480\\\\\n",
       "\t 236 & 21 & 1 &  548 & lifer          & false & -0.847\\\\\n",
       "\t 236 & 26 & 1 &  740 & translucent    & false & -0.292\\\\\n",
       "\t 236 & 28 & 1 & 1515 & stooges        & false &  1.948\\\\\n",
       "\t 236 & 29 & 1 &  746 & punctual       & false & -0.275\\\\\n",
       "\t 236 & 30 & 1 &  606 & narrated       & false & -0.679\\\\\n",
       "\t 236 & 31 & 1 &  588 & unanswerable   & false & -0.731\\\\\n",
       "\t 236 & 33 & 1 & 1011 & staunchest     & false &  0.491\\\\\n",
       "\t 236 & 35 & 1 &  669 & dartboard      & false & -0.497\\\\\n",
       "\t 236 & 36 & 1 & 1112 & Hamilton's     & false &  0.783\\\\\n",
       "\t 236 & 37 & 1 &  714 & taxidermy      & false & -0.367\\\\\n",
       "\t 236 & 38 & 1 &  621 & aggressively   & false & -0.636\\\\\n",
       "\t 236 & 39 & 1 &  625 & horoscope      & false & -0.624\\\\\n",
       "\t 236 & 40 & 1 &  502 & slob           & false & -0.980\\\\\n",
       "\t 236 & 43 & 1 &  733 & longshoremen's & false & -0.312\\\\\n",
       "\t ... & ... & ... & ... & ... & ... & ...\\\\\n",
       "\t 236 & 440 & 1 &  481 & shoot         & false & -1.040\\\\\n",
       "\t 236 & 441 & 1 &  867 & Cain          & false &  0.075\\\\\n",
       "\t 236 & 442 & 1 & 1305 & menarche      & false &  1.341\\\\\n",
       "\t 236 & 443 & 1 &  654 & hostel        & false & -0.540\\\\\n",
       "\t 236 & 444 & 1 &  818 & sectors       & false & -0.066\\\\\n",
       "\t 236 & 446 & 1 &  682 & purr          & false & -0.459\\\\\n",
       "\t 236 & 449 & 1 & 1299 & directive     & false &  1.323\\\\\n",
       "\t 236 & 450 & 1 & 1640 & required      & false &  2.309\\\\\n",
       "\t 236 & 452 & 1 &  760 & drifter       & false & -0.234\\\\\n",
       "\t 236 & 453 & 1 &  900 & popping       & false &  0.170\\\\\n",
       "\t 236 & 454 & 1 &  556 & began         & false & -0.824\\\\\n",
       "\t 236 & 456 & 1 &  517 & gag           & false & -0.936\\\\\n",
       "\t 236 & 457 & 1 &  487 & glut          & false & -1.023\\\\\n",
       "\t 236 & 458 & 1 & 1867 & tunafish      & false &  2.965\\\\\n",
       "\t 236 & 463 & 1 & 1655 & consolidating & false &  2.352\\\\\n",
       "\t 236 & 464 & 1 &  849 & aquatic       & false &  0.023\\\\\n",
       "\t 236 & 466 & 1 &  556 & weaknesses    & false & -0.824\\\\\n",
       "\t 236 & 471 & 1 & 1157 & deluxe        & false &  0.913\\\\\n",
       "\t 236 & 472 & 1 &  769 & troublemaker  & false & -0.208\\\\\n",
       "\t 236 & 473 & 1 &  862 & interacts     & false &  0.061\\\\\n",
       "\t 236 & 474 & 1 &  779 & cyclist       & false & -0.179\\\\\n",
       "\t 236 & 475 & 1 &  956 & glowering     & false &  0.332\\\\\n",
       "\t 236 & 480 & 1 & 1090 & Fran          & false &  0.720\\\\\n",
       "\t 236 & 483 & 1 &  724 & rectangular   & false & -0.338\\\\\n",
       "\t 236 & 484 & 1 &  584 & assure        & false & -0.743\\\\\n",
       "\t 236 & 485 & 1 &  636 & symbolism     & false & -0.592\\\\\n",
       "\t 236 & 491 & 1 &  844 & vestigial     & false &  0.009\\\\\n",
       "\t 236 & 492 & 1 &  609 & unexpected    & false & -0.670\\\\\n",
       "\t 236 & 493 & 1 &  687 & shipmates     & false & -0.445\\\\\n",
       "\t 236 & 497 & 1 & 1146 & chalky        & false &  0.881\\\\\n",
       "\\end{tabular}\n"
      ],
      "text/markdown": [
       "\n",
       "A data.frame: 62607 × 7\n",
       "\n",
       "| Sub_ID &lt;int&gt; | Trial &lt;int&gt; | Type &lt;int&gt; | D_RT &lt;dbl&gt; | D_Word &lt;chr&gt; | Outlier &lt;chr&gt; | D_Zscore &lt;dbl&gt; |\n",
       "|---|---|---|---|---|---|---|\n",
       "| 157 |  1 | 1 |  710 | browse         | false | -0.437 |\n",
       "|  67 |  1 | 1 | 1094 | refrigerant    | false |  0.825 |\n",
       "| 120 |  1 | 1 |  587 | gaining        | false | -0.645 |\n",
       "|  21 |  1 | 1 |  984 | cheerless      | false |  0.025 |\n",
       "| 236 |  1 | 1 |  577 | pattered       | false | -0.763 |\n",
       "| 236 |  2 | 1 |  715 | conjures       | false | -0.364 |\n",
       "| 236 |  5 | 1 |  826 | censorship     | false | -0.043 |\n",
       "| 236 |  6 | 1 |  928 | beckon         | false |  0.251 |\n",
       "| 236 |  8 | 1 | 1047 | superscribe    | false |  0.595 |\n",
       "| 236 | 10 | 1 | 1296 | husbandry      | false |  1.315 |\n",
       "| 236 | 12 | 1 | 1452 | nitwit         | false |  1.766 |\n",
       "| 236 | 13 | 1 |  674 | factor         | false | -0.483 |\n",
       "| 236 | 17 | 1 |  782 | intuitively    | false | -0.170 |\n",
       "| 236 | 18 | 1 | 1469 | precipitating  | false |  1.815 |\n",
       "| 236 | 19 | 1 |  785 | pianists       | false | -0.162 |\n",
       "| 236 | 20 | 1 | 1007 | redistribute   | false |  0.480 |\n",
       "| 236 | 21 | 1 |  548 | lifer          | false | -0.847 |\n",
       "| 236 | 26 | 1 |  740 | translucent    | false | -0.292 |\n",
       "| 236 | 28 | 1 | 1515 | stooges        | false |  1.948 |\n",
       "| 236 | 29 | 1 |  746 | punctual       | false | -0.275 |\n",
       "| 236 | 30 | 1 |  606 | narrated       | false | -0.679 |\n",
       "| 236 | 31 | 1 |  588 | unanswerable   | false | -0.731 |\n",
       "| 236 | 33 | 1 | 1011 | staunchest     | false |  0.491 |\n",
       "| 236 | 35 | 1 |  669 | dartboard      | false | -0.497 |\n",
       "| 236 | 36 | 1 | 1112 | Hamilton's     | false |  0.783 |\n",
       "| 236 | 37 | 1 |  714 | taxidermy      | false | -0.367 |\n",
       "| 236 | 38 | 1 |  621 | aggressively   | false | -0.636 |\n",
       "| 236 | 39 | 1 |  625 | horoscope      | false | -0.624 |\n",
       "| 236 | 40 | 1 |  502 | slob           | false | -0.980 |\n",
       "| 236 | 43 | 1 |  733 | longshoremen's | false | -0.312 |\n",
       "| ... | ... | ... | ... | ... | ... | ... |\n",
       "| 236 | 440 | 1 |  481 | shoot         | false | -1.040 |\n",
       "| 236 | 441 | 1 |  867 | Cain          | false |  0.075 |\n",
       "| 236 | 442 | 1 | 1305 | menarche      | false |  1.341 |\n",
       "| 236 | 443 | 1 |  654 | hostel        | false | -0.540 |\n",
       "| 236 | 444 | 1 |  818 | sectors       | false | -0.066 |\n",
       "| 236 | 446 | 1 |  682 | purr          | false | -0.459 |\n",
       "| 236 | 449 | 1 | 1299 | directive     | false |  1.323 |\n",
       "| 236 | 450 | 1 | 1640 | required      | false |  2.309 |\n",
       "| 236 | 452 | 1 |  760 | drifter       | false | -0.234 |\n",
       "| 236 | 453 | 1 |  900 | popping       | false |  0.170 |\n",
       "| 236 | 454 | 1 |  556 | began         | false | -0.824 |\n",
       "| 236 | 456 | 1 |  517 | gag           | false | -0.936 |\n",
       "| 236 | 457 | 1 |  487 | glut          | false | -1.023 |\n",
       "| 236 | 458 | 1 | 1867 | tunafish      | false |  2.965 |\n",
       "| 236 | 463 | 1 | 1655 | consolidating | false |  2.352 |\n",
       "| 236 | 464 | 1 |  849 | aquatic       | false |  0.023 |\n",
       "| 236 | 466 | 1 |  556 | weaknesses    | false | -0.824 |\n",
       "| 236 | 471 | 1 | 1157 | deluxe        | false |  0.913 |\n",
       "| 236 | 472 | 1 |  769 | troublemaker  | false | -0.208 |\n",
       "| 236 | 473 | 1 |  862 | interacts     | false |  0.061 |\n",
       "| 236 | 474 | 1 |  779 | cyclist       | false | -0.179 |\n",
       "| 236 | 475 | 1 |  956 | glowering     | false |  0.332 |\n",
       "| 236 | 480 | 1 | 1090 | Fran          | false |  0.720 |\n",
       "| 236 | 483 | 1 |  724 | rectangular   | false | -0.338 |\n",
       "| 236 | 484 | 1 |  584 | assure        | false | -0.743 |\n",
       "| 236 | 485 | 1 |  636 | symbolism     | false | -0.592 |\n",
       "| 236 | 491 | 1 |  844 | vestigial     | false |  0.009 |\n",
       "| 236 | 492 | 1 |  609 | unexpected    | false | -0.670 |\n",
       "| 236 | 493 | 1 |  687 | shipmates     | false | -0.445 |\n",
       "| 236 | 497 | 1 | 1146 | chalky        | false |  0.881 |\n",
       "\n"
      ],
      "text/plain": [
       "      Sub_ID Trial Type D_RT D_Word         Outlier D_Zscore\n",
       "1     157     1    1     710 browse         false   -0.437  \n",
       "2      67     1    1    1094 refrigerant    false    0.825  \n",
       "3     120     1    1     587 gaining        false   -0.645  \n",
       "4      21     1    1     984 cheerless      false    0.025  \n",
       "5     236     1    1     577 pattered       false   -0.763  \n",
       "6     236     2    1     715 conjures       false   -0.364  \n",
       "7     236     5    1     826 censorship     false   -0.043  \n",
       "8     236     6    1     928 beckon         false    0.251  \n",
       "9     236     8    1    1047 superscribe    false    0.595  \n",
       "10    236    10    1    1296 husbandry      false    1.315  \n",
       "11    236    12    1    1452 nitwit         false    1.766  \n",
       "12    236    13    1     674 factor         false   -0.483  \n",
       "13    236    17    1     782 intuitively    false   -0.170  \n",
       "14    236    18    1    1469 precipitating  false    1.815  \n",
       "15    236    19    1     785 pianists       false   -0.162  \n",
       "16    236    20    1    1007 redistribute   false    0.480  \n",
       "17    236    21    1     548 lifer          false   -0.847  \n",
       "18    236    26    1     740 translucent    false   -0.292  \n",
       "19    236    28    1    1515 stooges        false    1.948  \n",
       "20    236    29    1     746 punctual       false   -0.275  \n",
       "21    236    30    1     606 narrated       false   -0.679  \n",
       "22    236    31    1     588 unanswerable   false   -0.731  \n",
       "23    236    33    1    1011 staunchest     false    0.491  \n",
       "24    236    35    1     669 dartboard      false   -0.497  \n",
       "25    236    36    1    1112 Hamilton's     false    0.783  \n",
       "26    236    37    1     714 taxidermy      false   -0.367  \n",
       "27    236    38    1     621 aggressively   false   -0.636  \n",
       "28    236    39    1     625 horoscope      false   -0.624  \n",
       "29    236    40    1     502 slob           false   -0.980  \n",
       "30    236    43    1     733 longshoremen's false   -0.312  \n",
       "...   ...    ...   ...  ...  ...            ...     ...     \n",
       "62578 236    440   1     481 shoot          false   -1.040  \n",
       "62579 236    441   1     867 Cain           false    0.075  \n",
       "62580 236    442   1    1305 menarche       false    1.341  \n",
       "62581 236    443   1     654 hostel         false   -0.540  \n",
       "62582 236    444   1     818 sectors        false   -0.066  \n",
       "62583 236    446   1     682 purr           false   -0.459  \n",
       "62584 236    449   1    1299 directive      false    1.323  \n",
       "62585 236    450   1    1640 required       false    2.309  \n",
       "62586 236    452   1     760 drifter        false   -0.234  \n",
       "62587 236    453   1     900 popping        false    0.170  \n",
       "62588 236    454   1     556 began          false   -0.824  \n",
       "62589 236    456   1     517 gag            false   -0.936  \n",
       "62590 236    457   1     487 glut           false   -1.023  \n",
       "62591 236    458   1    1867 tunafish       false    2.965  \n",
       "62592 236    463   1    1655 consolidating  false    2.352  \n",
       "62593 236    464   1     849 aquatic        false    0.023  \n",
       "62594 236    466   1     556 weaknesses     false   -0.824  \n",
       "62595 236    471   1    1157 deluxe         false    0.913  \n",
       "62596 236    472   1     769 troublemaker   false   -0.208  \n",
       "62597 236    473   1     862 interacts      false    0.061  \n",
       "62598 236    474   1     779 cyclist        false   -0.179  \n",
       "62599 236    475   1     956 glowering      false    0.332  \n",
       "62600 236    480   1    1090 Fran           false    0.720  \n",
       "62601 236    483   1     724 rectangular    false   -0.338  \n",
       "62602 236    484   1     584 assure         false   -0.743  \n",
       "62603 236    485   1     636 symbolism      false   -0.592  \n",
       "62604 236    491   1     844 vestigial      false    0.009  \n",
       "62605 236    492   1     609 unexpected     false   -0.670  \n",
       "62606 236    493   1     687 shipmates      false   -0.445  \n",
       "62607 236    497   1    1146 chalky         false    0.881  "
      ]
     },
     "metadata": {},
     "output_type": "display_data"
    }
   ],
   "source": [
    "# INSERT CODE HERE\n",
    "library(tidyverse)\n",
    "lex_clean <- lex %>% mutate(D_RT=as.numeric(gsub(',','',lex$D_RT))) %>% filter(!is.na(D_RT)) %>% filter(D_RT > 0)\n",
    "lex_clean"
   ]
  },
  {
   "cell_type": "markdown",
   "metadata": {
    "id": "a3tOGnZL5E9S"
   },
   "source": [
    "For each of the three actions above, is it addressing a data anomaly (as described in the Müller reading)? If so, name the *type* of anomaly it's addressing. "
   ]
  },
  {
   "cell_type": "markdown",
   "metadata": {
    "id": "6CvlJZOK5qx0"
   },
   "source": [
    "> *Write your response here.*\n",
    "> * First action: syntactical\n",
    "> * Second action: coverage\n",
    "> * Third action: semantic"
   ]
  },
  {
   "cell_type": "markdown",
   "metadata": {
    "id": "AX4B1CxyZXqX"
   },
   "source": [
    "---\n",
    "## 3. **Data Manipulation with Tidyverse (4 points)**\n",
    "\n",
    "Now let's use `tidyverse` functions to play around with this data a bit. Use the piping operator (`%>%`) in both of these code cells. \n",
    "\n",
    "First, let's get some useful summary **statistics** using `summarise`. Output a table that tells us how many observations there are in the data set, as well as the mean and standard deviation of the reaction times."
   ]
  },
  {
   "cell_type": "code",
   "execution_count": 3,
   "metadata": {
    "id": "S_DJDsUzZXqY"
   },
   "outputs": [
    {
     "data": {
      "text/html": [
       "<table class=\"dataframe\">\n",
       "<caption>A data.frame: 1 × 3</caption>\n",
       "<thead>\n",
       "\t<tr><th scope=col>n</th><th scope=col>meanRT</th><th scope=col>sdRT</th></tr>\n",
       "\t<tr><th scope=col>&lt;int&gt;</th><th scope=col>&lt;dbl&gt;</th><th scope=col>&lt;dbl&gt;</th></tr>\n",
       "</thead>\n",
       "<tbody>\n",
       "\t<tr><td>62607</td><td>807.2667</td><td>377.4396</td></tr>\n",
       "</tbody>\n",
       "</table>\n"
      ],
      "text/latex": [
       "A data.frame: 1 × 3\n",
       "\\begin{tabular}{lll}\n",
       " n & meanRT & sdRT\\\\\n",
       " <int> & <dbl> & <dbl>\\\\\n",
       "\\hline\n",
       "\t 62607 & 807.2667 & 377.4396\\\\\n",
       "\\end{tabular}\n"
      ],
      "text/markdown": [
       "\n",
       "A data.frame: 1 × 3\n",
       "\n",
       "| n &lt;int&gt; | meanRT &lt;dbl&gt; | sdRT &lt;dbl&gt; |\n",
       "|---|---|---|\n",
       "| 62607 | 807.2667 | 377.4396 |\n",
       "\n"
      ],
      "text/plain": [
       "  n     meanRT   sdRT    \n",
       "1 62607 807.2667 377.4396"
      ]
     },
     "metadata": {},
     "output_type": "display_data"
    }
   ],
   "source": [
    "# INSERT CODE HERE\n",
    "lex_sum <- lex_clean %>% summarise(n = n(), meanRT = mean(D_RT), sdRT = sd(D_RT))\n",
    "lex_sum\n"
   ]
  },
  {
   "cell_type": "markdown",
   "metadata": {
    "id": "RgKbS2AqIDQ-"
   },
   "source": [
    "Now, we'll use `mutate` to re-number the trials, starting from 0 instead of 1. Make a new variable that is equal to the `Trial` variable minus one. "
   ]
  },
  {
   "cell_type": "code",
   "execution_count": 4,
   "metadata": {
    "id": "ejQvUAZRZXqd"
   },
   "outputs": [
    {
     "data": {
      "text/html": [
       "<table class=\"dataframe\">\n",
       "<caption>A data.frame: 62607 × 8</caption>\n",
       "<thead>\n",
       "\t<tr><th scope=col>Sub_ID</th><th scope=col>Trial</th><th scope=col>Type</th><th scope=col>D_RT</th><th scope=col>D_Word</th><th scope=col>Outlier</th><th scope=col>D_Zscore</th><th scope=col>trial_r</th></tr>\n",
       "\t<tr><th scope=col>&lt;int&gt;</th><th scope=col>&lt;int&gt;</th><th scope=col>&lt;int&gt;</th><th scope=col>&lt;dbl&gt;</th><th scope=col>&lt;chr&gt;</th><th scope=col>&lt;chr&gt;</th><th scope=col>&lt;dbl&gt;</th><th scope=col>&lt;dbl&gt;</th></tr>\n",
       "</thead>\n",
       "<tbody>\n",
       "\t<tr><td>157</td><td> 1</td><td>1</td><td> 710</td><td>browse        </td><td>false</td><td>-0.437</td><td> 0</td></tr>\n",
       "\t<tr><td> 67</td><td> 1</td><td>1</td><td>1094</td><td>refrigerant   </td><td>false</td><td> 0.825</td><td> 0</td></tr>\n",
       "\t<tr><td>120</td><td> 1</td><td>1</td><td> 587</td><td>gaining       </td><td>false</td><td>-0.645</td><td> 0</td></tr>\n",
       "\t<tr><td> 21</td><td> 1</td><td>1</td><td> 984</td><td>cheerless     </td><td>false</td><td> 0.025</td><td> 0</td></tr>\n",
       "\t<tr><td>236</td><td> 1</td><td>1</td><td> 577</td><td>pattered      </td><td>false</td><td>-0.763</td><td> 0</td></tr>\n",
       "\t<tr><td>236</td><td> 2</td><td>1</td><td> 715</td><td>conjures      </td><td>false</td><td>-0.364</td><td> 1</td></tr>\n",
       "\t<tr><td>236</td><td> 5</td><td>1</td><td> 826</td><td>censorship    </td><td>false</td><td>-0.043</td><td> 4</td></tr>\n",
       "\t<tr><td>236</td><td> 6</td><td>1</td><td> 928</td><td>beckon        </td><td>false</td><td> 0.251</td><td> 5</td></tr>\n",
       "\t<tr><td>236</td><td> 8</td><td>1</td><td>1047</td><td>superscribe   </td><td>false</td><td> 0.595</td><td> 7</td></tr>\n",
       "\t<tr><td>236</td><td>10</td><td>1</td><td>1296</td><td>husbandry     </td><td>false</td><td> 1.315</td><td> 9</td></tr>\n",
       "\t<tr><td>236</td><td>12</td><td>1</td><td>1452</td><td>nitwit        </td><td>false</td><td> 1.766</td><td>11</td></tr>\n",
       "\t<tr><td>236</td><td>13</td><td>1</td><td> 674</td><td>factor        </td><td>false</td><td>-0.483</td><td>12</td></tr>\n",
       "\t<tr><td>236</td><td>17</td><td>1</td><td> 782</td><td>intuitively   </td><td>false</td><td>-0.170</td><td>16</td></tr>\n",
       "\t<tr><td>236</td><td>18</td><td>1</td><td>1469</td><td>precipitating </td><td>false</td><td> 1.815</td><td>17</td></tr>\n",
       "\t<tr><td>236</td><td>19</td><td>1</td><td> 785</td><td>pianists      </td><td>false</td><td>-0.162</td><td>18</td></tr>\n",
       "\t<tr><td>236</td><td>20</td><td>1</td><td>1007</td><td>redistribute  </td><td>false</td><td> 0.480</td><td>19</td></tr>\n",
       "\t<tr><td>236</td><td>21</td><td>1</td><td> 548</td><td>lifer         </td><td>false</td><td>-0.847</td><td>20</td></tr>\n",
       "\t<tr><td>236</td><td>26</td><td>1</td><td> 740</td><td>translucent   </td><td>false</td><td>-0.292</td><td>25</td></tr>\n",
       "\t<tr><td>236</td><td>28</td><td>1</td><td>1515</td><td>stooges       </td><td>false</td><td> 1.948</td><td>27</td></tr>\n",
       "\t<tr><td>236</td><td>29</td><td>1</td><td> 746</td><td>punctual      </td><td>false</td><td>-0.275</td><td>28</td></tr>\n",
       "\t<tr><td>236</td><td>30</td><td>1</td><td> 606</td><td>narrated      </td><td>false</td><td>-0.679</td><td>29</td></tr>\n",
       "\t<tr><td>236</td><td>31</td><td>1</td><td> 588</td><td>unanswerable  </td><td>false</td><td>-0.731</td><td>30</td></tr>\n",
       "\t<tr><td>236</td><td>33</td><td>1</td><td>1011</td><td>staunchest    </td><td>false</td><td> 0.491</td><td>32</td></tr>\n",
       "\t<tr><td>236</td><td>35</td><td>1</td><td> 669</td><td>dartboard     </td><td>false</td><td>-0.497</td><td>34</td></tr>\n",
       "\t<tr><td>236</td><td>36</td><td>1</td><td>1112</td><td>Hamilton's    </td><td>false</td><td> 0.783</td><td>35</td></tr>\n",
       "\t<tr><td>236</td><td>37</td><td>1</td><td> 714</td><td>taxidermy     </td><td>false</td><td>-0.367</td><td>36</td></tr>\n",
       "\t<tr><td>236</td><td>38</td><td>1</td><td> 621</td><td>aggressively  </td><td>false</td><td>-0.636</td><td>37</td></tr>\n",
       "\t<tr><td>236</td><td>39</td><td>1</td><td> 625</td><td>horoscope     </td><td>false</td><td>-0.624</td><td>38</td></tr>\n",
       "\t<tr><td>236</td><td>40</td><td>1</td><td> 502</td><td>slob          </td><td>false</td><td>-0.980</td><td>39</td></tr>\n",
       "\t<tr><td>236</td><td>43</td><td>1</td><td> 733</td><td>longshoremen's</td><td>false</td><td>-0.312</td><td>42</td></tr>\n",
       "\t<tr><td>...</td><td>...</td><td>...</td><td>...</td><td>...</td><td>...</td><td>...</td><td>...</td></tr>\n",
       "\t<tr><td>236</td><td>440</td><td>1</td><td> 481</td><td>shoot        </td><td>false</td><td>-1.040</td><td>439</td></tr>\n",
       "\t<tr><td>236</td><td>441</td><td>1</td><td> 867</td><td>Cain         </td><td>false</td><td> 0.075</td><td>440</td></tr>\n",
       "\t<tr><td>236</td><td>442</td><td>1</td><td>1305</td><td>menarche     </td><td>false</td><td> 1.341</td><td>441</td></tr>\n",
       "\t<tr><td>236</td><td>443</td><td>1</td><td> 654</td><td>hostel       </td><td>false</td><td>-0.540</td><td>442</td></tr>\n",
       "\t<tr><td>236</td><td>444</td><td>1</td><td> 818</td><td>sectors      </td><td>false</td><td>-0.066</td><td>443</td></tr>\n",
       "\t<tr><td>236</td><td>446</td><td>1</td><td> 682</td><td>purr         </td><td>false</td><td>-0.459</td><td>445</td></tr>\n",
       "\t<tr><td>236</td><td>449</td><td>1</td><td>1299</td><td>directive    </td><td>false</td><td> 1.323</td><td>448</td></tr>\n",
       "\t<tr><td>236</td><td>450</td><td>1</td><td>1640</td><td>required     </td><td>false</td><td> 2.309</td><td>449</td></tr>\n",
       "\t<tr><td>236</td><td>452</td><td>1</td><td> 760</td><td>drifter      </td><td>false</td><td>-0.234</td><td>451</td></tr>\n",
       "\t<tr><td>236</td><td>453</td><td>1</td><td> 900</td><td>popping      </td><td>false</td><td> 0.170</td><td>452</td></tr>\n",
       "\t<tr><td>236</td><td>454</td><td>1</td><td> 556</td><td>began        </td><td>false</td><td>-0.824</td><td>453</td></tr>\n",
       "\t<tr><td>236</td><td>456</td><td>1</td><td> 517</td><td>gag          </td><td>false</td><td>-0.936</td><td>455</td></tr>\n",
       "\t<tr><td>236</td><td>457</td><td>1</td><td> 487</td><td>glut         </td><td>false</td><td>-1.023</td><td>456</td></tr>\n",
       "\t<tr><td>236</td><td>458</td><td>1</td><td>1867</td><td>tunafish     </td><td>false</td><td> 2.965</td><td>457</td></tr>\n",
       "\t<tr><td>236</td><td>463</td><td>1</td><td>1655</td><td>consolidating</td><td>false</td><td> 2.352</td><td>462</td></tr>\n",
       "\t<tr><td>236</td><td>464</td><td>1</td><td> 849</td><td>aquatic      </td><td>false</td><td> 0.023</td><td>463</td></tr>\n",
       "\t<tr><td>236</td><td>466</td><td>1</td><td> 556</td><td>weaknesses   </td><td>false</td><td>-0.824</td><td>465</td></tr>\n",
       "\t<tr><td>236</td><td>471</td><td>1</td><td>1157</td><td>deluxe       </td><td>false</td><td> 0.913</td><td>470</td></tr>\n",
       "\t<tr><td>236</td><td>472</td><td>1</td><td> 769</td><td>troublemaker </td><td>false</td><td>-0.208</td><td>471</td></tr>\n",
       "\t<tr><td>236</td><td>473</td><td>1</td><td> 862</td><td>interacts    </td><td>false</td><td> 0.061</td><td>472</td></tr>\n",
       "\t<tr><td>236</td><td>474</td><td>1</td><td> 779</td><td>cyclist      </td><td>false</td><td>-0.179</td><td>473</td></tr>\n",
       "\t<tr><td>236</td><td>475</td><td>1</td><td> 956</td><td>glowering    </td><td>false</td><td> 0.332</td><td>474</td></tr>\n",
       "\t<tr><td>236</td><td>480</td><td>1</td><td>1090</td><td>Fran         </td><td>false</td><td> 0.720</td><td>479</td></tr>\n",
       "\t<tr><td>236</td><td>483</td><td>1</td><td> 724</td><td>rectangular  </td><td>false</td><td>-0.338</td><td>482</td></tr>\n",
       "\t<tr><td>236</td><td>484</td><td>1</td><td> 584</td><td>assure       </td><td>false</td><td>-0.743</td><td>483</td></tr>\n",
       "\t<tr><td>236</td><td>485</td><td>1</td><td> 636</td><td>symbolism    </td><td>false</td><td>-0.592</td><td>484</td></tr>\n",
       "\t<tr><td>236</td><td>491</td><td>1</td><td> 844</td><td>vestigial    </td><td>false</td><td> 0.009</td><td>490</td></tr>\n",
       "\t<tr><td>236</td><td>492</td><td>1</td><td> 609</td><td>unexpected   </td><td>false</td><td>-0.670</td><td>491</td></tr>\n",
       "\t<tr><td>236</td><td>493</td><td>1</td><td> 687</td><td>shipmates    </td><td>false</td><td>-0.445</td><td>492</td></tr>\n",
       "\t<tr><td>236</td><td>497</td><td>1</td><td>1146</td><td>chalky       </td><td>false</td><td> 0.881</td><td>496</td></tr>\n",
       "</tbody>\n",
       "</table>\n"
      ],
      "text/latex": [
       "A data.frame: 62607 × 8\n",
       "\\begin{tabular}{llllllll}\n",
       " Sub\\_ID & Trial & Type & D\\_RT & D\\_Word & Outlier & D\\_Zscore & trial\\_r\\\\\n",
       " <int> & <int> & <int> & <dbl> & <chr> & <chr> & <dbl> & <dbl>\\\\\n",
       "\\hline\n",
       "\t 157 &  1 & 1 &  710 & browse         & false & -0.437 &  0\\\\\n",
       "\t  67 &  1 & 1 & 1094 & refrigerant    & false &  0.825 &  0\\\\\n",
       "\t 120 &  1 & 1 &  587 & gaining        & false & -0.645 &  0\\\\\n",
       "\t  21 &  1 & 1 &  984 & cheerless      & false &  0.025 &  0\\\\\n",
       "\t 236 &  1 & 1 &  577 & pattered       & false & -0.763 &  0\\\\\n",
       "\t 236 &  2 & 1 &  715 & conjures       & false & -0.364 &  1\\\\\n",
       "\t 236 &  5 & 1 &  826 & censorship     & false & -0.043 &  4\\\\\n",
       "\t 236 &  6 & 1 &  928 & beckon         & false &  0.251 &  5\\\\\n",
       "\t 236 &  8 & 1 & 1047 & superscribe    & false &  0.595 &  7\\\\\n",
       "\t 236 & 10 & 1 & 1296 & husbandry      & false &  1.315 &  9\\\\\n",
       "\t 236 & 12 & 1 & 1452 & nitwit         & false &  1.766 & 11\\\\\n",
       "\t 236 & 13 & 1 &  674 & factor         & false & -0.483 & 12\\\\\n",
       "\t 236 & 17 & 1 &  782 & intuitively    & false & -0.170 & 16\\\\\n",
       "\t 236 & 18 & 1 & 1469 & precipitating  & false &  1.815 & 17\\\\\n",
       "\t 236 & 19 & 1 &  785 & pianists       & false & -0.162 & 18\\\\\n",
       "\t 236 & 20 & 1 & 1007 & redistribute   & false &  0.480 & 19\\\\\n",
       "\t 236 & 21 & 1 &  548 & lifer          & false & -0.847 & 20\\\\\n",
       "\t 236 & 26 & 1 &  740 & translucent    & false & -0.292 & 25\\\\\n",
       "\t 236 & 28 & 1 & 1515 & stooges        & false &  1.948 & 27\\\\\n",
       "\t 236 & 29 & 1 &  746 & punctual       & false & -0.275 & 28\\\\\n",
       "\t 236 & 30 & 1 &  606 & narrated       & false & -0.679 & 29\\\\\n",
       "\t 236 & 31 & 1 &  588 & unanswerable   & false & -0.731 & 30\\\\\n",
       "\t 236 & 33 & 1 & 1011 & staunchest     & false &  0.491 & 32\\\\\n",
       "\t 236 & 35 & 1 &  669 & dartboard      & false & -0.497 & 34\\\\\n",
       "\t 236 & 36 & 1 & 1112 & Hamilton's     & false &  0.783 & 35\\\\\n",
       "\t 236 & 37 & 1 &  714 & taxidermy      & false & -0.367 & 36\\\\\n",
       "\t 236 & 38 & 1 &  621 & aggressively   & false & -0.636 & 37\\\\\n",
       "\t 236 & 39 & 1 &  625 & horoscope      & false & -0.624 & 38\\\\\n",
       "\t 236 & 40 & 1 &  502 & slob           & false & -0.980 & 39\\\\\n",
       "\t 236 & 43 & 1 &  733 & longshoremen's & false & -0.312 & 42\\\\\n",
       "\t ... & ... & ... & ... & ... & ... & ... & ...\\\\\n",
       "\t 236 & 440 & 1 &  481 & shoot         & false & -1.040 & 439\\\\\n",
       "\t 236 & 441 & 1 &  867 & Cain          & false &  0.075 & 440\\\\\n",
       "\t 236 & 442 & 1 & 1305 & menarche      & false &  1.341 & 441\\\\\n",
       "\t 236 & 443 & 1 &  654 & hostel        & false & -0.540 & 442\\\\\n",
       "\t 236 & 444 & 1 &  818 & sectors       & false & -0.066 & 443\\\\\n",
       "\t 236 & 446 & 1 &  682 & purr          & false & -0.459 & 445\\\\\n",
       "\t 236 & 449 & 1 & 1299 & directive     & false &  1.323 & 448\\\\\n",
       "\t 236 & 450 & 1 & 1640 & required      & false &  2.309 & 449\\\\\n",
       "\t 236 & 452 & 1 &  760 & drifter       & false & -0.234 & 451\\\\\n",
       "\t 236 & 453 & 1 &  900 & popping       & false &  0.170 & 452\\\\\n",
       "\t 236 & 454 & 1 &  556 & began         & false & -0.824 & 453\\\\\n",
       "\t 236 & 456 & 1 &  517 & gag           & false & -0.936 & 455\\\\\n",
       "\t 236 & 457 & 1 &  487 & glut          & false & -1.023 & 456\\\\\n",
       "\t 236 & 458 & 1 & 1867 & tunafish      & false &  2.965 & 457\\\\\n",
       "\t 236 & 463 & 1 & 1655 & consolidating & false &  2.352 & 462\\\\\n",
       "\t 236 & 464 & 1 &  849 & aquatic       & false &  0.023 & 463\\\\\n",
       "\t 236 & 466 & 1 &  556 & weaknesses    & false & -0.824 & 465\\\\\n",
       "\t 236 & 471 & 1 & 1157 & deluxe        & false &  0.913 & 470\\\\\n",
       "\t 236 & 472 & 1 &  769 & troublemaker  & false & -0.208 & 471\\\\\n",
       "\t 236 & 473 & 1 &  862 & interacts     & false &  0.061 & 472\\\\\n",
       "\t 236 & 474 & 1 &  779 & cyclist       & false & -0.179 & 473\\\\\n",
       "\t 236 & 475 & 1 &  956 & glowering     & false &  0.332 & 474\\\\\n",
       "\t 236 & 480 & 1 & 1090 & Fran          & false &  0.720 & 479\\\\\n",
       "\t 236 & 483 & 1 &  724 & rectangular   & false & -0.338 & 482\\\\\n",
       "\t 236 & 484 & 1 &  584 & assure        & false & -0.743 & 483\\\\\n",
       "\t 236 & 485 & 1 &  636 & symbolism     & false & -0.592 & 484\\\\\n",
       "\t 236 & 491 & 1 &  844 & vestigial     & false &  0.009 & 490\\\\\n",
       "\t 236 & 492 & 1 &  609 & unexpected    & false & -0.670 & 491\\\\\n",
       "\t 236 & 493 & 1 &  687 & shipmates     & false & -0.445 & 492\\\\\n",
       "\t 236 & 497 & 1 & 1146 & chalky        & false &  0.881 & 496\\\\\n",
       "\\end{tabular}\n"
      ],
      "text/markdown": [
       "\n",
       "A data.frame: 62607 × 8\n",
       "\n",
       "| Sub_ID &lt;int&gt; | Trial &lt;int&gt; | Type &lt;int&gt; | D_RT &lt;dbl&gt; | D_Word &lt;chr&gt; | Outlier &lt;chr&gt; | D_Zscore &lt;dbl&gt; | trial_r &lt;dbl&gt; |\n",
       "|---|---|---|---|---|---|---|---|\n",
       "| 157 |  1 | 1 |  710 | browse         | false | -0.437 |  0 |\n",
       "|  67 |  1 | 1 | 1094 | refrigerant    | false |  0.825 |  0 |\n",
       "| 120 |  1 | 1 |  587 | gaining        | false | -0.645 |  0 |\n",
       "|  21 |  1 | 1 |  984 | cheerless      | false |  0.025 |  0 |\n",
       "| 236 |  1 | 1 |  577 | pattered       | false | -0.763 |  0 |\n",
       "| 236 |  2 | 1 |  715 | conjures       | false | -0.364 |  1 |\n",
       "| 236 |  5 | 1 |  826 | censorship     | false | -0.043 |  4 |\n",
       "| 236 |  6 | 1 |  928 | beckon         | false |  0.251 |  5 |\n",
       "| 236 |  8 | 1 | 1047 | superscribe    | false |  0.595 |  7 |\n",
       "| 236 | 10 | 1 | 1296 | husbandry      | false |  1.315 |  9 |\n",
       "| 236 | 12 | 1 | 1452 | nitwit         | false |  1.766 | 11 |\n",
       "| 236 | 13 | 1 |  674 | factor         | false | -0.483 | 12 |\n",
       "| 236 | 17 | 1 |  782 | intuitively    | false | -0.170 | 16 |\n",
       "| 236 | 18 | 1 | 1469 | precipitating  | false |  1.815 | 17 |\n",
       "| 236 | 19 | 1 |  785 | pianists       | false | -0.162 | 18 |\n",
       "| 236 | 20 | 1 | 1007 | redistribute   | false |  0.480 | 19 |\n",
       "| 236 | 21 | 1 |  548 | lifer          | false | -0.847 | 20 |\n",
       "| 236 | 26 | 1 |  740 | translucent    | false | -0.292 | 25 |\n",
       "| 236 | 28 | 1 | 1515 | stooges        | false |  1.948 | 27 |\n",
       "| 236 | 29 | 1 |  746 | punctual       | false | -0.275 | 28 |\n",
       "| 236 | 30 | 1 |  606 | narrated       | false | -0.679 | 29 |\n",
       "| 236 | 31 | 1 |  588 | unanswerable   | false | -0.731 | 30 |\n",
       "| 236 | 33 | 1 | 1011 | staunchest     | false |  0.491 | 32 |\n",
       "| 236 | 35 | 1 |  669 | dartboard      | false | -0.497 | 34 |\n",
       "| 236 | 36 | 1 | 1112 | Hamilton's     | false |  0.783 | 35 |\n",
       "| 236 | 37 | 1 |  714 | taxidermy      | false | -0.367 | 36 |\n",
       "| 236 | 38 | 1 |  621 | aggressively   | false | -0.636 | 37 |\n",
       "| 236 | 39 | 1 |  625 | horoscope      | false | -0.624 | 38 |\n",
       "| 236 | 40 | 1 |  502 | slob           | false | -0.980 | 39 |\n",
       "| 236 | 43 | 1 |  733 | longshoremen's | false | -0.312 | 42 |\n",
       "| ... | ... | ... | ... | ... | ... | ... | ... |\n",
       "| 236 | 440 | 1 |  481 | shoot         | false | -1.040 | 439 |\n",
       "| 236 | 441 | 1 |  867 | Cain          | false |  0.075 | 440 |\n",
       "| 236 | 442 | 1 | 1305 | menarche      | false |  1.341 | 441 |\n",
       "| 236 | 443 | 1 |  654 | hostel        | false | -0.540 | 442 |\n",
       "| 236 | 444 | 1 |  818 | sectors       | false | -0.066 | 443 |\n",
       "| 236 | 446 | 1 |  682 | purr          | false | -0.459 | 445 |\n",
       "| 236 | 449 | 1 | 1299 | directive     | false |  1.323 | 448 |\n",
       "| 236 | 450 | 1 | 1640 | required      | false |  2.309 | 449 |\n",
       "| 236 | 452 | 1 |  760 | drifter       | false | -0.234 | 451 |\n",
       "| 236 | 453 | 1 |  900 | popping       | false |  0.170 | 452 |\n",
       "| 236 | 454 | 1 |  556 | began         | false | -0.824 | 453 |\n",
       "| 236 | 456 | 1 |  517 | gag           | false | -0.936 | 455 |\n",
       "| 236 | 457 | 1 |  487 | glut          | false | -1.023 | 456 |\n",
       "| 236 | 458 | 1 | 1867 | tunafish      | false |  2.965 | 457 |\n",
       "| 236 | 463 | 1 | 1655 | consolidating | false |  2.352 | 462 |\n",
       "| 236 | 464 | 1 |  849 | aquatic       | false |  0.023 | 463 |\n",
       "| 236 | 466 | 1 |  556 | weaknesses    | false | -0.824 | 465 |\n",
       "| 236 | 471 | 1 | 1157 | deluxe        | false |  0.913 | 470 |\n",
       "| 236 | 472 | 1 |  769 | troublemaker  | false | -0.208 | 471 |\n",
       "| 236 | 473 | 1 |  862 | interacts     | false |  0.061 | 472 |\n",
       "| 236 | 474 | 1 |  779 | cyclist       | false | -0.179 | 473 |\n",
       "| 236 | 475 | 1 |  956 | glowering     | false |  0.332 | 474 |\n",
       "| 236 | 480 | 1 | 1090 | Fran          | false |  0.720 | 479 |\n",
       "| 236 | 483 | 1 |  724 | rectangular   | false | -0.338 | 482 |\n",
       "| 236 | 484 | 1 |  584 | assure        | false | -0.743 | 483 |\n",
       "| 236 | 485 | 1 |  636 | symbolism     | false | -0.592 | 484 |\n",
       "| 236 | 491 | 1 |  844 | vestigial     | false |  0.009 | 490 |\n",
       "| 236 | 492 | 1 |  609 | unexpected    | false | -0.670 | 491 |\n",
       "| 236 | 493 | 1 |  687 | shipmates     | false | -0.445 | 492 |\n",
       "| 236 | 497 | 1 | 1146 | chalky        | false |  0.881 | 496 |\n",
       "\n"
      ],
      "text/plain": [
       "      Sub_ID Trial Type D_RT D_Word         Outlier D_Zscore trial_r\n",
       "1     157     1    1     710 browse         false   -0.437    0     \n",
       "2      67     1    1    1094 refrigerant    false    0.825    0     \n",
       "3     120     1    1     587 gaining        false   -0.645    0     \n",
       "4      21     1    1     984 cheerless      false    0.025    0     \n",
       "5     236     1    1     577 pattered       false   -0.763    0     \n",
       "6     236     2    1     715 conjures       false   -0.364    1     \n",
       "7     236     5    1     826 censorship     false   -0.043    4     \n",
       "8     236     6    1     928 beckon         false    0.251    5     \n",
       "9     236     8    1    1047 superscribe    false    0.595    7     \n",
       "10    236    10    1    1296 husbandry      false    1.315    9     \n",
       "11    236    12    1    1452 nitwit         false    1.766   11     \n",
       "12    236    13    1     674 factor         false   -0.483   12     \n",
       "13    236    17    1     782 intuitively    false   -0.170   16     \n",
       "14    236    18    1    1469 precipitating  false    1.815   17     \n",
       "15    236    19    1     785 pianists       false   -0.162   18     \n",
       "16    236    20    1    1007 redistribute   false    0.480   19     \n",
       "17    236    21    1     548 lifer          false   -0.847   20     \n",
       "18    236    26    1     740 translucent    false   -0.292   25     \n",
       "19    236    28    1    1515 stooges        false    1.948   27     \n",
       "20    236    29    1     746 punctual       false   -0.275   28     \n",
       "21    236    30    1     606 narrated       false   -0.679   29     \n",
       "22    236    31    1     588 unanswerable   false   -0.731   30     \n",
       "23    236    33    1    1011 staunchest     false    0.491   32     \n",
       "24    236    35    1     669 dartboard      false   -0.497   34     \n",
       "25    236    36    1    1112 Hamilton's     false    0.783   35     \n",
       "26    236    37    1     714 taxidermy      false   -0.367   36     \n",
       "27    236    38    1     621 aggressively   false   -0.636   37     \n",
       "28    236    39    1     625 horoscope      false   -0.624   38     \n",
       "29    236    40    1     502 slob           false   -0.980   39     \n",
       "30    236    43    1     733 longshoremen's false   -0.312   42     \n",
       "...   ...    ...   ...  ...  ...            ...     ...      ...    \n",
       "62578 236    440   1     481 shoot          false   -1.040   439    \n",
       "62579 236    441   1     867 Cain           false    0.075   440    \n",
       "62580 236    442   1    1305 menarche       false    1.341   441    \n",
       "62581 236    443   1     654 hostel         false   -0.540   442    \n",
       "62582 236    444   1     818 sectors        false   -0.066   443    \n",
       "62583 236    446   1     682 purr           false   -0.459   445    \n",
       "62584 236    449   1    1299 directive      false    1.323   448    \n",
       "62585 236    450   1    1640 required       false    2.309   449    \n",
       "62586 236    452   1     760 drifter        false   -0.234   451    \n",
       "62587 236    453   1     900 popping        false    0.170   452    \n",
       "62588 236    454   1     556 began          false   -0.824   453    \n",
       "62589 236    456   1     517 gag            false   -0.936   455    \n",
       "62590 236    457   1     487 glut           false   -1.023   456    \n",
       "62591 236    458   1    1867 tunafish       false    2.965   457    \n",
       "62592 236    463   1    1655 consolidating  false    2.352   462    \n",
       "62593 236    464   1     849 aquatic        false    0.023   463    \n",
       "62594 236    466   1     556 weaknesses     false   -0.824   465    \n",
       "62595 236    471   1    1157 deluxe         false    0.913   470    \n",
       "62596 236    472   1     769 troublemaker   false   -0.208   471    \n",
       "62597 236    473   1     862 interacts      false    0.061   472    \n",
       "62598 236    474   1     779 cyclist        false   -0.179   473    \n",
       "62599 236    475   1     956 glowering      false    0.332   474    \n",
       "62600 236    480   1    1090 Fran           false    0.720   479    \n",
       "62601 236    483   1     724 rectangular    false   -0.338   482    \n",
       "62602 236    484   1     584 assure         false   -0.743   483    \n",
       "62603 236    485   1     636 symbolism      false   -0.592   484    \n",
       "62604 236    491   1     844 vestigial      false    0.009   490    \n",
       "62605 236    492   1     609 unexpected     false   -0.670   491    \n",
       "62606 236    493   1     687 shipmates      false   -0.445   492    \n",
       "62607 236    497   1    1146 chalky         false    0.881   496    "
      ]
     },
     "metadata": {},
     "output_type": "display_data"
    }
   ],
   "source": [
    "# INSERT CODE HERE\n",
    "lex_mani <- lex_clean %>% mutate(trial_r = Trial -1)\n",
    "lex_mani\n"
   ]
  },
  {
   "cell_type": "markdown",
   "metadata": {
    "id": "MSV81LJGMCjs"
   },
   "source": [
    "---\n",
    "## 4. **Plotting Data (1 point)**\n",
    "\n",
    "Use the `plot()` function to visualize the data, in a way that helps you see if there's a relationship between `D_RT` and your new trial variable."
   ]
  },
  {
   "cell_type": "code",
   "execution_count": 5,
   "metadata": {
    "id": "AA8f06KzM3Bg"
   },
   "outputs": [
    {
     "data": {
      "image/png": "[encoded data removed]",
      "text/plain": [
       "plot without title"
      ]
     },
     "metadata": {
      "image/png": {
       "height": 420,
       "width": 420
      }
     },
     "output_type": "display_data"
    }
   ],
   "source": [
    "# INSERT CODE HERE\n",
    "\n",
    "plot(lex_mani$trial_r,lex_mani$D_RT)"
   ]
  },
  {
   "cell_type": "markdown",
   "metadata": {
    "id": "2slWzsoYGuLt"
   },
   "source": [
    "That's all for Homework 2! When you are finished, save the notebook as Homework2.ipynb, push it to your class GitHub repository (the one you made for Homework 1) and send the instructors a link to your notebook via Canvas. You can send messages via Canvas by clicking \"Inbox\" on the left and then pressing the icon with a pencil inside a square."
   ]
  },
  {
   "cell_type": "markdown",
   "metadata": {
    "id": "C4MPECMmZXqe"
   },
   "source": [
    "**DUE:** 5pm EST, Feb 14, 2022"
   ]
  },
  {
   "cell_type": "markdown",
   "metadata": {
    "id": "r9GUofXN4BVy"
   },
   "source": [
    "**IMPORTANT** Did you collaborate with anyone on this assignment? If so, list their names here. \n",
    "> *Someone's Name*"
   ]
  }
 ],
 "metadata": {
  "colab": {
   "collapsed_sections": [],
   "name": "Homework2.ipynb",
   "provenance": []
  },
  "kernelspec": {
   "display_name": "R",
   "language": "R",
   "name": "ir"
  },
  "language_info": {
   "codemirror_mode": "r",
   "file_extension": ".r",
   "mimetype": "text/x-r-source",
   "name": "R",
   "pygments_lexer": "r",
   "version": "4.0.3"
  }
 },
 "nbformat": 4,
 "nbformat_minor": 1
}
