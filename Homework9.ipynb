{
 "cells": [
  {
   "cell_type": "markdown",
   "metadata": {
    "id": "-2W919d2ZXp7"
   },
   "source": [
    "# Homework 9: Mediation & Power Analyses"
   ]
  },
  {
   "cell_type": "markdown",
   "metadata": {
    "id": "L4nOzVhyZXqK"
   },
   "source": [
    "This homework assignment is designed to give you practice with mediation, and with using Monte Carlo methods to conduct power analyses via simulation. You won't need to load in any data for this homework."
   ]
  },
  {
   "cell_type": "markdown",
   "metadata": {
    "id": "9DsyBTB6ZXqN"
   },
   "source": [
    "---\n",
    "## 1. Simulating data (2 points)\n"
   ]
  },
  {
   "cell_type": "markdown",
   "metadata": {
    "id": "J1f6MywYhyzN"
   },
   "source": [
    "In this homework, we're going to simulate the relationship between age, word reading experience, and reading comprehension skill. Older children tend to be better at reading comprehension tasks, but this isn't just an inherent part of getting older. It's a combination of gaining more experience with reading, oral language skills, and executive functions development. In this homework, though, we're going to simplify this relationship down to a direct effect of age on reading comprehension (since improvements in oral language skills and executive functions are more guaranteed as children age than reading practice is), and a mediation of word reading experience.\n",
    "\n",
    "In graphical form: \n",
    "![picture](https://drive.google.com/uc?id=1wdm9xuiJhBJor99-9GnicO2_rzkGWtfN)"
   ]
  },
  {
   "cell_type": "markdown",
   "metadata": {
    "id": "qMpQX_ogjkyQ"
   },
   "source": [
    "Writing the relationship out formally: \n",
    "\n",
    "$$x = \\beta_{xa} a + \\beta_{x0} + \\epsilon_{x}$$\n",
    "\n",
    "$$c = \\beta_{ca} a + \\beta_{cx} x + \\beta_{c0} + \\epsilon_c$$\n",
    "\n"
   ]
  },
  {
   "cell_type": "markdown",
   "metadata": {
    "id": "5FidlpJlmKi8"
   },
   "source": [
    "$c$ is reading comprehension, $x$ is word reading experience, and $a$ is age. $\\beta_{c0}$ and $\\beta_{x0}$ are intercept terms for their respective formulas, and $\\epsilon_{c}$ and $\\epsilon_{x}$ are gaussian noise terms. We'll start by writing a function, `simulate_data`, that can simulate this relationship. The input values are set and the function structure is provided below. Complete the function such that it takes in those input variables and generates $age$, $x$, and $c$ values. Use `runif()` to generate ages. Use `rnorm()` to generate the noise terms. "
   ]
  },
  {
   "cell_type": "code",
   "execution_count": 80,
   "metadata": {
    "colab": {
     "base_uri": "https://localhost:8080/",
     "height": 274
    },
    "executionInfo": {
     "elapsed": 373,
     "status": "ok",
     "timestamp": 1619476621271,
     "user": {
      "displayName": "Patience Stevens",
      "photoUrl": "https://lh3.googleusercontent.com/a-/AOh14Gi-_9ZqhIFhAv1oMehJNvNuIKSTyrFQHzjxQKhx=s64",
      "userId": "01994571539255174942"
     },
     "user_tz": 240
    },
    "id": "UnBVazYfZXqP",
    "outputId": "cf7c3a72-58e3-4697-d5bb-9d7b8cd4aa76"
   },
   "outputs": [
    {
     "data": {
      "text/html": [
       "<table class=\"dataframe\">\n",
       "<caption>A data.frame: 6 × 3</caption>\n",
       "<thead>\n",
       "\t<tr><th></th><th scope=col>age</th><th scope=col>x</th><th scope=col>c</th></tr>\n",
       "\t<tr><th></th><th scope=col>&lt;dbl&gt;</th><th scope=col>&lt;dbl&gt;</th><th scope=col>&lt;dbl&gt;</th></tr>\n",
       "</thead>\n",
       "<tbody>\n",
       "\t<tr><th scope=row>1</th><td>142.31646</td><td>-9.863954</td><td> 64.4390772</td></tr>\n",
       "\t<tr><th scope=row>2</th><td>180.93480</td><td>74.553021</td><td>248.3173975</td></tr>\n",
       "\t<tr><th scope=row>3</th><td> 81.28662</td><td>54.217376</td><td>  0.4470857</td></tr>\n",
       "\t<tr><th scope=row>4</th><td>132.18335</td><td>57.686869</td><td>260.1643646</td></tr>\n",
       "\t<tr><th scope=row>5</th><td>137.23863</td><td>78.031233</td><td>480.1992805</td></tr>\n",
       "\t<tr><th scope=row>6</th><td>167.79574</td><td>61.692047</td><td>414.0608267</td></tr>\n",
       "</tbody>\n",
       "</table>\n"
      ],
      "text/latex": [
       "A data.frame: 6 × 3\n",
       "\\begin{tabular}{r|lll}\n",
       "  & age & x & c\\\\\n",
       "  & <dbl> & <dbl> & <dbl>\\\\\n",
       "\\hline\n",
       "\t1 & 142.31646 & -9.863954 &  64.4390772\\\\\n",
       "\t2 & 180.93480 & 74.553021 & 248.3173975\\\\\n",
       "\t3 &  81.28662 & 54.217376 &   0.4470857\\\\\n",
       "\t4 & 132.18335 & 57.686869 & 260.1643646\\\\\n",
       "\t5 & 137.23863 & 78.031233 & 480.1992805\\\\\n",
       "\t6 & 167.79574 & 61.692047 & 414.0608267\\\\\n",
       "\\end{tabular}\n"
      ],
      "text/markdown": [
       "\n",
       "A data.frame: 6 × 3\n",
       "\n",
       "| <!--/--> | age &lt;dbl&gt; | x &lt;dbl&gt; | c &lt;dbl&gt; |\n",
       "|---|---|---|---|\n",
       "| 1 | 142.31646 | -9.863954 |  64.4390772 |\n",
       "| 2 | 180.93480 | 74.553021 | 248.3173975 |\n",
       "| 3 |  81.28662 | 54.217376 |   0.4470857 |\n",
       "| 4 | 132.18335 | 57.686869 | 260.1643646 |\n",
       "| 5 | 137.23863 | 78.031233 | 480.1992805 |\n",
       "| 6 | 167.79574 | 61.692047 | 414.0608267 |\n",
       "\n"
      ],
      "text/plain": [
       "  age       x         c          \n",
       "1 142.31646 -9.863954  64.4390772\n",
       "2 180.93480 74.553021 248.3173975\n",
       "3  81.28662 54.217376   0.4470857\n",
       "4 132.18335 57.686869 260.1643646\n",
       "5 137.23863 78.031233 480.1992805\n",
       "6 167.79574 61.692047 414.0608267"
      ]
     },
     "metadata": {},
     "output_type": "display_data"
    }
   ],
   "source": [
    "sample_size = 100 # How many children in data set? \n",
    "age_lo = 80     # minimum age, in months\n",
    "age_hi = 200    # maximum age, in months\n",
    "beta_xa = 0.5   # amount by which experience changes for increase of one month in age\n",
    "beta_x0 = -5    # amount of experience when age = 0 (not interpretable, since minimum age for this data is 80 months)\n",
    "sd_x = 50       # standard dev of gaussian noise term, epsilon_x\n",
    "beta_ca = 0.8   # amount that comprehension score improves for every increase of one unit in age\n",
    "beta_cx = 3     # amount that comprehension score improves for every increase of one unit in reading experience\n",
    "beta_c0 = 10    # comprehension score when reading experience is 0. \n",
    "sd_c = 85      # standard dev of gaussian noise term, epsilon_c\n",
    "\n",
    "simulate_data <- function(sample_size, age_lo, age_hi, beta_xa, beta_x0, sd_x, beta_ca, beta_cx, beta_c0, sd_c) {\n",
    "      age <- runif(sample_size, age_lo, age_hi)\n",
    "      e_x <- rnorm(n=sample_size, sd=sd_x)\n",
    "      e_c <- rnorm(n=sample_size, sd=sd_c)\n",
    "      x <- beta_xa * age + beta_x0 + e_x\n",
    "      c <- beta_ca * age + beta_cx * x + + beta_c0 + e_c \n",
    "    \n",
    "      return(data.frame(age=age,x=x,c=c)) # it's actually bad form to have a variable named \"c\" in R, my bad...\n",
    "}\n",
    "\n",
    "dat <- simulate_data(sample_size, age_lo, age_hi, beta_xa, beta_x0, sd_x, beta_ca, beta_cx, beta_c0, sd_c)\n",
    "head(dat)"
   ]
  },
  {
   "cell_type": "markdown",
   "metadata": {
    "id": "I-Rt8PFe_G5O"
   },
   "source": [
    "---\n",
    "## 2. Visualizing Data (1 point)"
   ]
  },
  {
   "cell_type": "markdown",
   "metadata": {
    "id": "MQdcoYCLvuDf"
   },
   "source": [
    "Load the `tidyverse` library."
   ]
  },
  {
   "cell_type": "code",
   "execution_count": 16,
   "metadata": {
    "colab": {
     "base_uri": "https://localhost:8080/"
    },
    "executionInfo": {
     "elapsed": 2577,
     "status": "ok",
     "timestamp": 1619476628267,
     "user": {
      "displayName": "Patience Stevens",
      "photoUrl": "https://lh3.googleusercontent.com/a-/AOh14Gi-_9ZqhIFhAv1oMehJNvNuIKSTyrFQHzjxQKhx=s64",
      "userId": "01994571539255174942"
     },
     "user_tz": 240
    },
    "id": "H07EMQCwvzsL",
    "outputId": "40233b4a-b954-4865-8a3f-b402221b2c1e"
   },
   "outputs": [
    {
     "name": "stderr",
     "output_type": "stream",
     "text": [
      "── \u001b[1mAttaching packages\u001b[22m ─────────────────────────────────────── tidyverse 1.3.1 ──\n",
      "\n",
      "\u001b[32m✔\u001b[39m \u001b[34mggplot2\u001b[39m 3.3.5     \u001b[32m✔\u001b[39m \u001b[34mpurrr  \u001b[39m 0.3.4\n",
      "\u001b[32m✔\u001b[39m \u001b[34mtibble \u001b[39m 3.1.6     \u001b[32m✔\u001b[39m \u001b[34mdplyr  \u001b[39m 1.0.8\n",
      "\u001b[32m✔\u001b[39m \u001b[34mtidyr  \u001b[39m 1.2.0     \u001b[32m✔\u001b[39m \u001b[34mstringr\u001b[39m 1.4.0\n",
      "\u001b[32m✔\u001b[39m \u001b[34mreadr  \u001b[39m 2.1.2     \u001b[32m✔\u001b[39m \u001b[34mforcats\u001b[39m 0.5.1\n",
      "\n",
      "── \u001b[1mConflicts\u001b[22m ────────────────────────────────────────── tidyverse_conflicts() ──\n",
      "\u001b[31m✖\u001b[39m \u001b[34mtidyr\u001b[39m::\u001b[32mexpand()\u001b[39m masks \u001b[34mMatrix\u001b[39m::expand()\n",
      "\u001b[31m✖\u001b[39m \u001b[34mdplyr\u001b[39m::\u001b[32mfilter()\u001b[39m masks \u001b[34mstats\u001b[39m::filter()\n",
      "\u001b[31m✖\u001b[39m \u001b[34mdplyr\u001b[39m::\u001b[32mlag()\u001b[39m    masks \u001b[34mstats\u001b[39m::lag()\n",
      "\u001b[31m✖\u001b[39m \u001b[34mtidyr\u001b[39m::\u001b[32mpack()\u001b[39m   masks \u001b[34mMatrix\u001b[39m::pack()\n",
      "\u001b[31m✖\u001b[39m \u001b[34mdplyr\u001b[39m::\u001b[32mselect()\u001b[39m masks \u001b[34mMASS\u001b[39m::select()\n",
      "\u001b[31m✖\u001b[39m \u001b[34mtidyr\u001b[39m::\u001b[32munpack()\u001b[39m masks \u001b[34mMatrix\u001b[39m::unpack()\n",
      "\n"
     ]
    }
   ],
   "source": [
    "library(tidyverse)\n"
   ]
  },
  {
   "cell_type": "markdown",
   "metadata": {
    "id": "Vgc2ehTKv1jt"
   },
   "source": [
    "a) Plot the relationship between age and reading comprehension. "
   ]
  },
  {
   "cell_type": "code",
   "execution_count": 81,
   "metadata": {
    "colab": {
     "base_uri": "https://localhost:8080/",
     "height": 472
    },
    "executionInfo": {
     "elapsed": 2024,
     "status": "ok",
     "timestamp": 1619476632213,
     "user": {
      "displayName": "Patience Stevens",
      "photoUrl": "https://lh3.googleusercontent.com/a-/AOh14Gi-_9ZqhIFhAv1oMehJNvNuIKSTyrFQHzjxQKhx=s64",
      "userId": "01994571539255174942"
     },
     "user_tz": 240
    },
    "id": "Pb-KYXwuwS28",
    "outputId": "2bd7e93e-f464-4703-f2ca-b3a0ed04057b"
   },
   "outputs": [
    {
     "data": {
      "image/png": "[encoded data removed]",
      "text/plain": [
       "plot without title"
      ]
     },
     "metadata": {
      "image/png": {
       "height": 420,
       "width": 420
      }
     },
     "output_type": "display_data"
    }
   ],
   "source": [
    "ggplot(dat, aes(y=c, x=age))+geom_point()\n"
   ]
  },
  {
   "cell_type": "markdown",
   "metadata": {
    "id": "CB_8CsBZwQqW"
   },
   "source": [
    "b) Plot the relationship between reading experience, age, and reading comprehension."
   ]
  },
  {
   "cell_type": "code",
   "execution_count": 88,
   "metadata": {
    "colab": {
     "base_uri": "https://localhost:8080/",
     "height": 436
    },
    "executionInfo": {
     "elapsed": 760,
     "status": "ok",
     "timestamp": 1619476634598,
     "user": {
      "displayName": "Patience Stevens",
      "photoUrl": "https://lh3.googleusercontent.com/a-/AOh14Gi-_9ZqhIFhAv1oMehJNvNuIKSTyrFQHzjxQKhx=s64",
      "userId": "01994571539255174942"
     },
     "user_tz": 240
    },
    "id": "VeSOCXlMweSz",
    "outputId": "0169bcb7-8ba9-4754-f7af-914a9adfea15"
   },
   "outputs": [
    {
     "data": {
      "image/png": "[encoded data removed]",
      "text/plain": [
       "plot without title"
      ]
     },
     "metadata": {
      "image/png": {
       "height": 420,
       "width": 420
      }
     },
     "output_type": "display_data"
    }
   ],
   "source": [
    "ggplot(dat, aes(y=c, x=age, color = x))+geom_point()\n",
    "\n"
   ]
  },
  {
   "cell_type": "markdown",
   "metadata": {
    "id": "BeK0H64WlOBM"
   },
   "source": [
    "---\n",
    "## 3. Mediation Analysis (3 points)"
   ]
  },
  {
   "cell_type": "markdown",
   "metadata": {
    "id": "dP_6o9rpmThw"
   },
   "source": [
    "Load the `mediation` library."
   ]
  },
  {
   "cell_type": "code",
   "execution_count": 1,
   "metadata": {
    "colab": {
     "base_uri": "https://localhost:8080/"
    },
    "executionInfo": {
     "elapsed": 294387,
     "status": "ok",
     "timestamp": 1619476939657,
     "user": {
      "displayName": "Patience Stevens",
      "photoUrl": "https://lh3.googleusercontent.com/a-/AOh14Gi-_9ZqhIFhAv1oMehJNvNuIKSTyrFQHzjxQKhx=s64",
      "userId": "01994571539255174942"
     },
     "user_tz": 240
    },
    "id": "PIPheP5ipgKg",
    "outputId": "b95e6303-a957-434a-aab7-50116d2752ca"
   },
   "outputs": [
    {
     "name": "stderr",
     "output_type": "stream",
     "text": [
      "also installing the dependencies ‘png’, ‘jpeg’, ‘checkmate’, ‘htmlwidgets’, ‘zoo’, ‘Formula’, ‘latticeExtra’, ‘gridExtra’, ‘htmlTable’, ‘viridis’, ‘mvtnorm’, ‘sandwich’, ‘lpSolve’, ‘Hmisc’\n",
      "\n",
      "\n"
     ]
    },
    {
     "name": "stdout",
     "output_type": "stream",
     "text": [
      "\n",
      "The downloaded binary packages are in\n",
      "\t/var/folders/m4/6fskllfx0fd1y5g7qkdx7q2h0000gn/T//RtmpldToog/downloaded_packages\n"
     ]
    },
    {
     "name": "stderr",
     "output_type": "stream",
     "text": [
      "Loading required package: MASS\n",
      "\n",
      "Loading required package: Matrix\n",
      "\n",
      "Loading required package: mvtnorm\n",
      "\n",
      "Loading required package: sandwich\n",
      "\n",
      "mediation: Causal Mediation Analysis\n",
      "Version: 4.5.0\n",
      "\n",
      "\n"
     ]
    }
   ],
   "source": [
    "install.packages(\"mediation\")\n",
    "library(mediation)\n"
   ]
  },
  {
   "cell_type": "markdown",
   "metadata": {
    "id": "Q1UM2Qhx6Kk-"
   },
   "source": [
    "Use the `mediate` function to determine whether `x` mediates the relationship between `age` and `c`. Use `summary()` to print the model results. *Hint: see the mediation and moderation tutorial.*"
   ]
  },
  {
   "cell_type": "code",
   "execution_count": 83,
   "metadata": {
    "colab": {
     "base_uri": "https://localhost:8080/",
     "height": 318
    },
    "executionInfo": {
     "elapsed": 3862,
     "status": "ok",
     "timestamp": 1619477561914,
     "user": {
      "displayName": "Patience Stevens",
      "photoUrl": "https://lh3.googleusercontent.com/a-/AOh14Gi-_9ZqhIFhAv1oMehJNvNuIKSTyrFQHzjxQKhx=s64",
      "userId": "01994571539255174942"
     },
     "user_tz": 240
    },
    "id": "9h1ySgXm4HWm",
    "outputId": "0a67fd2d-ff1f-432a-b4b4-b4f937e9e4c9"
   },
   "outputs": [
    {
     "data": {
      "text/plain": [
       "\n",
       "Call:\n",
       "lm(formula = x ~ age, data = dat)\n",
       "\n",
       "Residuals:\n",
       "     Min       1Q   Median       3Q      Max \n",
       "-157.828  -34.687    6.846   33.975  140.993 \n",
       "\n",
       "Coefficients:\n",
       "            Estimate Std. Error t value Pr(>|t|)    \n",
       "(Intercept) -27.5119    20.5281  -1.340    0.183    \n",
       "age           0.6408     0.1483   4.322 3.71e-05 ***\n",
       "---\n",
       "Signif. codes:  0 ‘***’ 0.001 ‘**’ 0.01 ‘*’ 0.05 ‘.’ 0.1 ‘ ’ 1\n",
       "\n",
       "Residual standard error: 51.52 on 98 degrees of freedom\n",
       "Multiple R-squared:  0.1601,\tAdjusted R-squared:  0.1515 \n",
       "F-statistic: 18.68 on 1 and 98 DF,  p-value: 3.712e-05\n"
      ]
     },
     "metadata": {},
     "output_type": "display_data"
    },
    {
     "data": {
      "text/plain": [
       "\n",
       "Call:\n",
       "lm(formula = c ~ age + x, data = dat)\n",
       "\n",
       "Residuals:\n",
       "     Min       1Q   Median       3Q      Max \n",
       "-247.553  -52.083   -5.567   60.952  252.366 \n",
       "\n",
       "Coefficients:\n",
       "            Estimate Std. Error t value Pr(>|t|)    \n",
       "(Intercept) -51.1761    37.1137  -1.379    0.171    \n",
       "age           1.3553     0.2898   4.676 9.45e-06 ***\n",
       "x             2.6425     0.1810  14.601  < 2e-16 ***\n",
       "---\n",
       "Signif. codes:  0 ‘***’ 0.001 ‘**’ 0.01 ‘*’ 0.05 ‘.’ 0.1 ‘ ’ 1\n",
       "\n",
       "Residual standard error: 92.31 on 97 degrees of freedom\n",
       "Multiple R-squared:  0.7805,\tAdjusted R-squared:  0.776 \n",
       "F-statistic: 172.5 on 2 and 97 DF,  p-value: < 2.2e-16\n"
      ]
     },
     "metadata": {},
     "output_type": "display_data"
    },
    {
     "data": {
      "text/plain": [
       "\n",
       "Causal Mediation Analysis \n",
       "\n",
       "Quasi-Bayesian Confidence Intervals\n",
       "\n",
       "               Estimate 95% CI Lower 95% CI Upper p-value    \n",
       "ACME              1.692        0.914         2.47  <2e-16 ***\n",
       "ADE               1.335        0.725         1.89  <2e-16 ***\n",
       "Total Effect      3.027        2.150         3.96  <2e-16 ***\n",
       "Prop. Mediated    0.563        0.365         0.74  <2e-16 ***\n",
       "---\n",
       "Signif. codes:  0 ‘***’ 0.001 ‘**’ 0.01 ‘*’ 0.05 ‘.’ 0.1 ‘ ’ 1\n",
       "\n",
       "Sample Size Used: 100 \n",
       "\n",
       "\n",
       "Simulations: 1000 \n"
      ]
     },
     "metadata": {},
     "output_type": "display_data"
    }
   ],
   "source": [
    "fitM <- lm(x ~ age, data = dat)\n",
    "fitY <- lm(c ~ age + x, data = dat)\n",
    "summary(fitM)\n",
    "summary(fitY)\n",
    "fitMed <- mediate(fitM, fitY, treat=\"age\", mediator=\"x\")\n",
    "summary(fitMed)\n"
   ]
  },
  {
   "cell_type": "markdown",
   "metadata": {
    "id": "L5rCNjcs6UVD"
   },
   "source": [
    "How do you interpret these results? Why do you think the analysis yielded this result? \n",
    "> There is a strong mediating effect. Given this model, from ACME, I would predict that c would change significantly when I vary x but hold age constant; from ADE, I would predict that also c would change significantly when I vary age but hold x constant. There is also a significant total effect: both direct effect of age on c and age mediated through x on c. \n",
    "> "
   ]
  },
  {
   "cell_type": "markdown",
   "metadata": {
    "id": "T3b3_KsHk-xD"
   },
   "source": [
    "---\n",
    "## 4. Power Analysis via Simulation (4 points)"
   ]
  },
  {
   "cell_type": "markdown",
   "metadata": {
    "id": "TJyPIaTO8zCS"
   },
   "source": [
    "Now we're going to use our `simulate_data()` function to conduct a power analysis. The goal is to determine how many participants we would need in order to detect both the mediated and the direct effects in this data. \n",
    "\n",
    "*Note: We're going to pretend for the sake of simplicity that we don't have any control over the ages of the children we get (so ages are generated using `runif(sample_size, age_lo, age_hi)`, although of course this would be an unusual situation in reality.*\n",
    "\n",
    "First, write a function, `run_analysis()`, that takes in simulated data and returns a vector containing the ACME and ADE estimates and p-values (these are the `d0`, `d0.p`, `z0`, and `z0.p` features of the mediated model object, e.g., `fitMed$d0.p`). Print this function's output for the data we simulated previously. "
   ]
  },
  {
   "cell_type": "code",
   "execution_count": 84,
   "metadata": {
    "colab": {
     "base_uri": "https://localhost:8080/",
     "height": 33
    },
    "executionInfo": {
     "elapsed": 3178,
     "status": "ok",
     "timestamp": 1619478255711,
     "user": {
      "displayName": "Patience Stevens",
      "photoUrl": "https://lh3.googleusercontent.com/a-/AOh14Gi-_9ZqhIFhAv1oMehJNvNuIKSTyrFQHzjxQKhx=s64",
      "userId": "01994571539255174942"
     },
     "user_tz": 240
    },
    "id": "AidH_KidrX9L",
    "outputId": "1d3b1ccb-c90e-42cc-eba2-929dc04e3d83"
   },
   "outputs": [
    {
     "data": {
      "text/html": [
       "<style>\n",
       ".list-inline {list-style: none; margin:0; padding: 0}\n",
       ".list-inline>li {display: inline-block}\n",
       ".list-inline>li:not(:last-child)::after {content: \"\\00b7\"; padding: 0 .5ex}\n",
       "</style>\n",
       "<ol class=list-inline><li>1.68311565091579</li><li>0</li><li>1.34665485538945</li><li>0</li></ol>\n"
      ],
      "text/latex": [
       "\\begin{enumerate*}\n",
       "\\item 1.68311565091579\n",
       "\\item 0\n",
       "\\item 1.34665485538945\n",
       "\\item 0\n",
       "\\end{enumerate*}\n"
      ],
      "text/markdown": [
       "1. 1.68311565091579\n",
       "2. 0\n",
       "3. 1.34665485538945\n",
       "4. 0\n",
       "\n",
       "\n"
      ],
      "text/plain": [
       "[1] 1.683116 0.000000 1.346655 0.000000"
      ]
     },
     "metadata": {},
     "output_type": "display_data"
    }
   ],
   "source": [
    "run_analysis <- function(data){\n",
    "    fitM <- lm(x ~ age, data)\n",
    "    fitY <- lm(c ~ age + x, data)\n",
    "    summary(fitM)\n",
    "    summary(fitY)\n",
    "    fitMed <- mediate(fitM, fitY, treat=\"age\", mediator=\"x\")\n",
    "    return(c(fitMed$d0, fitMed$d0.p, fitMed$z0, fitMed$z0.p)) \n",
    "}\n",
    "\n",
    "run_analysis(dat)\n"
   ]
  },
  {
   "cell_type": "markdown",
   "metadata": {
    "id": "G_jvc1XQBCpH"
   },
   "source": [
    "Next fill in the function `repeat_analysis()` below so that it simulates and analyzes data `num_simulations` times. Store the outputs from each simulation in the `simouts` matrix. Calculate and return the coverage across all the simulations run for both ACME and ADE."
   ]
  },
  {
   "cell_type": "code",
   "execution_count": 85,
   "metadata": {
    "id": "NheOpBDsBBo9"
   },
   "outputs": [],
   "source": [
    "repeat_analysis <- function(num_simulations, alpha, sample_size, age_lo, age_hi, \n",
    "                            beta_xa, beta_x0, sd_x, beta_ca, beta_cx, beta_c0, sd_c) {\n",
    "  # Initialize simouts matrix for storing each output from run_analysis()\n",
    "  simouts <- matrix(rep(NA,num_simulations*4), nrow=num_simulations,ncol=4)\n",
    "  \n",
    "  # Start simulating\n",
    "  for (i in 1:num_simulations) {\n",
    "    data <- simulate_data(sample_size, age_lo, age_hi, beta_xa, beta_x0, sd_x, beta_ca, beta_cx, beta_c0, sd_c)\n",
    "    simouts[i,] <- run_analysis(data)\n",
    "  }\n",
    "    #print(simouts)\n",
    "  # Calculate coverage for both ACME and ADE estimates using p-values in simouts\n",
    "    ACME_cov =  mean(simouts[,2] <= alpha) \n",
    "    ADE_cov =  mean(simouts[,4] <= alpha) \n",
    "    \n",
    "    return(list(ACME_cov = ACME_cov, ADE_cov = ADE_cov))\n",
    "}"
   ]
  },
  {
   "cell_type": "markdown",
   "metadata": {
    "id": "bM5J5pYyQoRL"
   },
   "source": [
    "Now run the `repeat_analysis()` function using the same parameter settings as above, for 10 simulations, with an alpha criterion of 0.01. "
   ]
  },
  {
   "cell_type": "code",
   "execution_count": 86,
   "metadata": {
    "colab": {
     "base_uri": "https://localhost:8080/",
     "height": 111
    },
    "executionInfo": {
     "elapsed": 28603,
     "status": "ok",
     "timestamp": 1619478300572,
     "user": {
      "displayName": "Patience Stevens",
      "photoUrl": "https://lh3.googleusercontent.com/a-/AOh14Gi-_9ZqhIFhAv1oMehJNvNuIKSTyrFQHzjxQKhx=s64",
      "userId": "01994571539255174942"
     },
     "user_tz": 240
    },
    "id": "RpURGbZQQlEK",
    "outputId": "273ddde3-5196-4abc-b886-2651e8928896"
   },
   "outputs": [
    {
     "data": {
      "text/html": [
       "<dl>\n",
       "\t<dt>$ACME_cov</dt>\n",
       "\t\t<dd>0.9</dd>\n",
       "\t<dt>$ADE_cov</dt>\n",
       "\t\t<dd>0.6</dd>\n",
       "</dl>\n"
      ],
      "text/latex": [
       "\\begin{description}\n",
       "\\item[\\$ACME\\_cov] 0.9\n",
       "\\item[\\$ADE\\_cov] 0.6\n",
       "\\end{description}\n"
      ],
      "text/markdown": [
       "$ACME_cov\n",
       ":   0.9\n",
       "$ADE_cov\n",
       ":   0.6\n",
       "\n",
       "\n"
      ],
      "text/plain": [
       "$ACME_cov\n",
       "[1] 0.9\n",
       "\n",
       "$ADE_cov\n",
       "[1] 0.6\n"
      ]
     },
     "metadata": {},
     "output_type": "display_data"
    }
   ],
   "source": [
    "results = repeat_analysis(10, 0.01, sample_size, age_lo, age_hi, \n",
    "                beta_xa, beta_x0, sd_x, beta_ca, beta_cx, beta_c0, sd_c)\n",
    "\n",
    "results[1:2]"
   ]
  },
  {
   "cell_type": "markdown",
   "metadata": {
    "id": "CzeTaoY7SaXv"
   },
   "source": [
    "Finally, do the same thing (10 simulations, alpha criterion of 0.01) but for 5 different sample sizes: 50, 75, 100, 125, 150. You can do this using `map` (as in the tutorial), or a simple `for` loop, or by calculating each individually. Up to you! This should take around 3 minutes to run. "
   ]
  },
  {
   "cell_type": "markdown",
   "metadata": {
    "id": "akJwKCB7dkDw"
   },
   "source": [
    "Print your results. "
   ]
  },
  {
   "cell_type": "code",
   "execution_count": 87,
   "metadata": {
    "colab": {
     "base_uri": "https://localhost:8080/"
    },
    "executionInfo": {
     "elapsed": 139144,
     "status": "ok",
     "timestamp": 1617817443716,
     "user": {
      "displayName": "Patience Stevens",
      "photoUrl": "https://lh3.googleusercontent.com/a-/AOh14Gi-_9ZqhIFhAv1oMehJNvNuIKSTyrFQHzjxQKhx=s64",
      "userId": "01994571539255174942"
     },
     "user_tz": 240
    },
    "id": "mp-a19XsS8Md",
    "outputId": "40cd5e8c-db99-4cb9-f99f-88a4ff276751",
    "scrolled": true
   },
   "outputs": [
    {
     "data": {
      "text/html": [
       "<dl>\n",
       "\t<dt>$ACME_cov</dt>\n",
       "\t\t<dd>0.5</dd>\n",
       "\t<dt>$ADE_cov</dt>\n",
       "\t\t<dd>0.3</dd>\n",
       "</dl>\n"
      ],
      "text/latex": [
       "\\begin{description}\n",
       "\\item[\\$ACME\\_cov] 0.5\n",
       "\\item[\\$ADE\\_cov] 0.3\n",
       "\\end{description}\n"
      ],
      "text/markdown": [
       "$ACME_cov\n",
       ":   0.5\n",
       "$ADE_cov\n",
       ":   0.3\n",
       "\n",
       "\n"
      ],
      "text/plain": [
       "$ACME_cov\n",
       "[1] 0.5\n",
       "\n",
       "$ADE_cov\n",
       "[1] 0.3\n"
      ]
     },
     "metadata": {},
     "output_type": "display_data"
    },
    {
     "data": {
      "text/html": [
       "<dl>\n",
       "\t<dt>$ACME_cov</dt>\n",
       "\t\t<dd>0.8</dd>\n",
       "\t<dt>$ADE_cov</dt>\n",
       "\t\t<dd>0.6</dd>\n",
       "</dl>\n"
      ],
      "text/latex": [
       "\\begin{description}\n",
       "\\item[\\$ACME\\_cov] 0.8\n",
       "\\item[\\$ADE\\_cov] 0.6\n",
       "\\end{description}\n"
      ],
      "text/markdown": [
       "$ACME_cov\n",
       ":   0.8\n",
       "$ADE_cov\n",
       ":   0.6\n",
       "\n",
       "\n"
      ],
      "text/plain": [
       "$ACME_cov\n",
       "[1] 0.8\n",
       "\n",
       "$ADE_cov\n",
       "[1] 0.6\n"
      ]
     },
     "metadata": {},
     "output_type": "display_data"
    },
    {
     "data": {
      "text/html": [
       "<dl>\n",
       "\t<dt>$ACME_cov</dt>\n",
       "\t\t<dd>0.8</dd>\n",
       "\t<dt>$ADE_cov</dt>\n",
       "\t\t<dd>0.7</dd>\n",
       "</dl>\n"
      ],
      "text/latex": [
       "\\begin{description}\n",
       "\\item[\\$ACME\\_cov] 0.8\n",
       "\\item[\\$ADE\\_cov] 0.7\n",
       "\\end{description}\n"
      ],
      "text/markdown": [
       "$ACME_cov\n",
       ":   0.8\n",
       "$ADE_cov\n",
       ":   0.7\n",
       "\n",
       "\n"
      ],
      "text/plain": [
       "$ACME_cov\n",
       "[1] 0.8\n",
       "\n",
       "$ADE_cov\n",
       "[1] 0.7\n"
      ]
     },
     "metadata": {},
     "output_type": "display_data"
    },
    {
     "data": {
      "text/html": [
       "<dl>\n",
       "\t<dt>$ACME_cov</dt>\n",
       "\t\t<dd>0.8</dd>\n",
       "\t<dt>$ADE_cov</dt>\n",
       "\t\t<dd>0.7</dd>\n",
       "</dl>\n"
      ],
      "text/latex": [
       "\\begin{description}\n",
       "\\item[\\$ACME\\_cov] 0.8\n",
       "\\item[\\$ADE\\_cov] 0.7\n",
       "\\end{description}\n"
      ],
      "text/markdown": [
       "$ACME_cov\n",
       ":   0.8\n",
       "$ADE_cov\n",
       ":   0.7\n",
       "\n",
       "\n"
      ],
      "text/plain": [
       "$ACME_cov\n",
       "[1] 0.8\n",
       "\n",
       "$ADE_cov\n",
       "[1] 0.7\n"
      ]
     },
     "metadata": {},
     "output_type": "display_data"
    },
    {
     "data": {
      "text/html": [
       "<dl>\n",
       "\t<dt>$ACME_cov</dt>\n",
       "\t\t<dd>1</dd>\n",
       "\t<dt>$ADE_cov</dt>\n",
       "\t\t<dd>1</dd>\n",
       "</dl>\n"
      ],
      "text/latex": [
       "\\begin{description}\n",
       "\\item[\\$ACME\\_cov] 1\n",
       "\\item[\\$ADE\\_cov] 1\n",
       "\\end{description}\n"
      ],
      "text/markdown": [
       "$ACME_cov\n",
       ":   1\n",
       "$ADE_cov\n",
       ":   1\n",
       "\n",
       "\n"
      ],
      "text/plain": [
       "$ACME_cov\n",
       "[1] 1\n",
       "\n",
       "$ADE_cov\n",
       "[1] 1\n"
      ]
     },
     "metadata": {},
     "output_type": "display_data"
    }
   ],
   "source": [
    "repeat_analysis(10, 0.01, 50, age_lo, age_hi, \n",
    "                beta_xa, beta_x0, sd_x, beta_ca, beta_cx, beta_c0, sd_c)\n",
    "\n",
    "repeat_analysis(10, 0.01, 75, age_lo, age_hi, \n",
    "                beta_xa, beta_x0, sd_x, beta_ca, beta_cx, beta_c0, sd_c)\n",
    "\n",
    "repeat_analysis(10, 0.01, 100, age_lo, age_hi, \n",
    "                beta_xa, beta_x0, sd_x, beta_ca, beta_cx, beta_c0, sd_c)\n",
    "\n",
    "repeat_analysis(10, 0.01, 125, age_lo, age_hi, \n",
    "                beta_xa, beta_x0, sd_x, beta_ca, beta_cx, beta_c0, sd_c)\n",
    "\n",
    "repeat_analysis(10, 0.01, 150, age_lo, age_hi, \n",
    "                beta_xa, beta_x0, sd_x, beta_ca, beta_cx, beta_c0, sd_c)\n",
    "\n"
   ]
  },
  {
   "cell_type": "markdown",
   "metadata": {
    "id": "tpbGkul2dr-5"
   },
   "source": [
    "If this were a real power analysis, we'd want to run more simulations per sample size (to get a more precise estimate of power) and we may also want to test out some other values of the parameters we used to simulate our data. However, what would you conclude just based on the results above? \n",
    "\n",
    "> If we want to correctly reject the null with a 95% probablity at p<0.05, then out of all the sample sizes we run, the best would be 150. \n",
    "> "
   ]
  },
  {
   "cell_type": "markdown",
   "metadata": {
    "id": "RcCo3QOifUi5"
   },
   "source": [
    "**Given** how we generated the data, why was the direct effect harder to detect than the mediated effect?\n",
    "> We see how we set the combined beta for the mediated effect to be larger than the direct effect, thus it is easier to detect.  \n",
    "> "
   ]
  },
  {
   "cell_type": "markdown",
   "metadata": {
    "id": "C4MPECMmZXqe"
   },
   "source": [
    "**DUE:** 5pm EST, April 11, 2022"
   ]
  },
  {
   "cell_type": "markdown",
   "metadata": {
    "id": "r9GUofXN4BVy"
   },
   "source": [
    "**IMPORTANT** Did you collaborate with anyone on this assignment? If so, list their names here. \n",
    "> Eliza Reedy"
   ]
  }
 ],
 "metadata": {
  "colab": {
   "collapsed_sections": [],
   "name": "Homework9_solutions.ipynb",
   "provenance": []
  },
  "kernelspec": {
   "display_name": "R",
   "language": "R",
   "name": "ir"
  },
  "language_info": {
   "codemirror_mode": "r",
   "file_extension": ".r",
   "mimetype": "text/x-r-source",
   "name": "R",
   "pygments_lexer": "r",
   "version": "4.1.2"
  }
 },
 "nbformat": 4,
 "nbformat_minor": 1
}
